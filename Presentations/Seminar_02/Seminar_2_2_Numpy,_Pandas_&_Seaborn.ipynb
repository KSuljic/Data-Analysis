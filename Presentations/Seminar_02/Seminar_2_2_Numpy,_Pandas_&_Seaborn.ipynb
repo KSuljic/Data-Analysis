{
  "nbformat": 4,
  "nbformat_minor": 0,
  "metadata": {
    "hide_input": false,
    "kernelspec": {
      "display_name": "Python 3",
      "language": "python",
      "name": "python3"
    },
    "language_info": {
      "codemirror_mode": {
        "name": "ipython",
        "version": 3
      },
      "file_extension": ".py",
      "mimetype": "text/x-python",
      "name": "python",
      "nbconvert_exporter": "python",
      "pygments_lexer": "ipython3",
      "version": "3.7.2"
    },
    "varInspector": {
      "cols": {
        "lenName": 16,
        "lenType": 16,
        "lenVar": 40
      },
      "kernels_config": {
        "python": {
          "delete_cmd_postfix": "",
          "delete_cmd_prefix": "del ",
          "library": "var_list.py",
          "varRefreshCmd": "print(var_dic_list())"
        },
        "r": {
          "delete_cmd_postfix": ") ",
          "delete_cmd_prefix": "rm(",
          "library": "var_list.r",
          "varRefreshCmd": "cat(var_dic_list()) "
        }
      },
      "types_to_exclude": [
        "module",
        "function",
        "builtin_function_or_method",
        "instance",
        "_Feature"
      ],
      "window_display": false
    },
    "colab": {
      "name": "Seminar 2.2 - Numpy, Pandas & Seaborn.ipynb",
      "provenance": [],
      "collapsed_sections": [],
      "include_colab_link": true
    }
  },
  "cells": [
    {
      "cell_type": "markdown",
      "metadata": {
        "id": "view-in-github",
        "colab_type": "text"
      },
      "source": [
        "<a href=\"https://colab.research.google.com/github/KSuljic/Data-Analysis/blob/master/Presentations/Seminar_02/Seminar_2_2_Numpy%2C_Pandas_%26_Seaborn.ipynb\" target=\"_parent\"><img src=\"https://colab.research.google.com/assets/colab-badge.svg\" alt=\"Open In Colab\"/></a>"
      ]
    },
    {
      "cell_type": "markdown",
      "metadata": {
        "id": "MH2yjCokBqKn"
      },
      "source": [
        "# Die Basics\n",
        "\n"
      ]
    },
    {
      "cell_type": "markdown",
      "metadata": {
        "id": "fSLC8rCMQTnF"
      },
      "source": [
        "### print() Funktion"
      ]
    },
    {
      "cell_type": "markdown",
      "metadata": {
        "id": "4bpRBP5HPepE"
      },
      "source": [
        "Beginnen wir mit print(). <br>\n",
        "print() ist eine Funktion. <br>\n",
        "Funktionen haben runde Klammern am Ende. <br>"
      ]
    },
    {
      "cell_type": "code",
      "metadata": {
        "ExecuteTime": {
          "end_time": "2019-04-03T14:33:36.989473Z",
          "start_time": "2019-04-03T14:33:36.977473Z"
        },
        "id": "z1CgkiD4O2va",
        "colab": {
          "base_uri": "https://localhost:8080/"
        },
        "outputId": "174c8d47-db65-411b-85d3-40fbdf137725"
      },
      "source": [
        "print('Hello World!')"
      ],
      "execution_count": 1,
      "outputs": [
        {
          "output_type": "stream",
          "text": [
            "Hello World!\n"
          ],
          "name": "stdout"
        }
      ]
    },
    {
      "cell_type": "code",
      "metadata": {
        "id": "MiNDCyMCPKfG"
      },
      "source": [
        "x = 5"
      ],
      "execution_count": 2,
      "outputs": []
    },
    {
      "cell_type": "code",
      "metadata": {
        "id": "vmk8sqf4PMGh",
        "colab": {
          "base_uri": "https://localhost:8080/"
        },
        "outputId": "683ee81c-3758-400f-cf83-fcea97632ad5"
      },
      "source": [
        "x"
      ],
      "execution_count": 3,
      "outputs": [
        {
          "output_type": "execute_result",
          "data": {
            "text/plain": [
              "5"
            ]
          },
          "metadata": {
            "tags": []
          },
          "execution_count": 3
        }
      ]
    },
    {
      "cell_type": "code",
      "metadata": {
        "id": "sxENoGEcPQw7",
        "colab": {
          "base_uri": "https://localhost:8080/"
        },
        "outputId": "c92c95b6-3b2d-4ae4-dbd9-fb63178c57d3"
      },
      "source": [
        "print(x)"
      ],
      "execution_count": 4,
      "outputs": [
        {
          "output_type": "stream",
          "text": [
            "5\n"
          ],
          "name": "stdout"
        }
      ]
    },
    {
      "cell_type": "code",
      "metadata": {
        "ExecuteTime": {
          "end_time": "2019-04-03T14:38:46.381473Z",
          "start_time": "2019-04-03T14:38:46.378473Z"
        },
        "id": "8QykOCprO2wI"
      },
      "source": [
        "y = 7.8"
      ],
      "execution_count": 5,
      "outputs": []
    },
    {
      "cell_type": "code",
      "metadata": {
        "id": "sOaw91j6PbQg",
        "colab": {
          "base_uri": "https://localhost:8080/"
        },
        "outputId": "f6805ad0-68b1-422d-817c-3eb79de0f9d7"
      },
      "source": [
        "print(x)\n",
        "print(y)"
      ],
      "execution_count": 6,
      "outputs": [
        {
          "output_type": "stream",
          "text": [
            "5\n",
            "7.8\n"
          ],
          "name": "stdout"
        }
      ]
    },
    {
      "cell_type": "markdown",
      "metadata": {
        "id": "fPmCmUlmP3er"
      },
      "source": [
        "### Datentypen.\n"
      ]
    },
    {
      "cell_type": "code",
      "metadata": {
        "ExecuteTime": {
          "end_time": "2019-04-03T14:35:18.439473Z",
          "start_time": "2019-04-03T14:35:18.433473Z"
        },
        "id": "TIGZsVlcO2v2",
        "colab": {
          "base_uri": "https://localhost:8080/"
        },
        "outputId": "f8fb94da-39ef-4cfa-ab3e-aa0c22634fc8"
      },
      "source": [
        "print('Deine Zahl ist die', 5)"
      ],
      "execution_count": 7,
      "outputs": [
        {
          "output_type": "stream",
          "text": [
            "Deine Zahl ist die 5\n"
          ],
          "name": "stdout"
        }
      ]
    },
    {
      "cell_type": "code",
      "metadata": {
        "ExecuteTime": {
          "end_time": "2019-04-03T14:42:34.185473Z",
          "start_time": "2019-04-03T14:42:34.179473Z"
        },
        "id": "xtv39rCYO2wV",
        "colab": {
          "base_uri": "https://localhost:8080/"
        },
        "outputId": "a7ac35a5-4da4-48c1-a781-3ae2cd48e1e9"
      },
      "source": [
        "print('Deine Zahl ist die', x)"
      ],
      "execution_count": 8,
      "outputs": [
        {
          "output_type": "stream",
          "text": [
            "Deine Zahl ist die 5\n"
          ],
          "name": "stdout"
        }
      ]
    },
    {
      "cell_type": "code",
      "metadata": {
        "id": "h_xXzSvOQm65"
      },
      "source": [
        "# not working\n",
        "# print('Deine Zahl ist die ' + 5)"
      ],
      "execution_count": 9,
      "outputs": []
    },
    {
      "cell_type": "code",
      "metadata": {
        "id": "ldcKN0XVQtZd",
        "colab": {
          "base_uri": "https://localhost:8080/"
        },
        "outputId": "ee4017bd-158c-4fa0-97e1-f2187456b19e"
      },
      "source": [
        "type(5)"
      ],
      "execution_count": 10,
      "outputs": [
        {
          "output_type": "execute_result",
          "data": {
            "text/plain": [
              "int"
            ]
          },
          "metadata": {
            "tags": []
          },
          "execution_count": 10
        }
      ]
    },
    {
      "cell_type": "code",
      "metadata": {
        "id": "rcmc1W7UQ1Ne",
        "colab": {
          "base_uri": "https://localhost:8080/"
        },
        "outputId": "4a3bdc24-3121-4f32-cc6a-a6117622f209"
      },
      "source": [
        "type('Hi.')"
      ],
      "execution_count": 11,
      "outputs": [
        {
          "output_type": "execute_result",
          "data": {
            "text/plain": [
              "str"
            ]
          },
          "metadata": {
            "tags": []
          },
          "execution_count": 11
        }
      ]
    },
    {
      "cell_type": "code",
      "metadata": {
        "id": "n3l0R_KGQ5d6",
        "colab": {
          "base_uri": "https://localhost:8080/"
        },
        "outputId": "d24c23de-6b98-4a36-d869-33d7dc4d7e5b"
      },
      "source": [
        "type(x)"
      ],
      "execution_count": 12,
      "outputs": [
        {
          "output_type": "execute_result",
          "data": {
            "text/plain": [
              "int"
            ]
          },
          "metadata": {
            "tags": []
          },
          "execution_count": 12
        }
      ]
    },
    {
      "cell_type": "code",
      "metadata": {
        "id": "Cd3MrDMTQ8N9",
        "colab": {
          "base_uri": "https://localhost:8080/"
        },
        "outputId": "895fff03-ab02-496d-aca4-163a55a981ef"
      },
      "source": [
        "type(y)"
      ],
      "execution_count": 13,
      "outputs": [
        {
          "output_type": "execute_result",
          "data": {
            "text/plain": [
              "float"
            ]
          },
          "metadata": {
            "tags": []
          },
          "execution_count": 13
        }
      ]
    },
    {
      "cell_type": "code",
      "metadata": {
        "id": "ZrRK1g3HQ-ki",
        "colab": {
          "base_uri": "https://localhost:8080/"
        },
        "outputId": "1352ebd4-856d-4fc9-e343-35dd79f594be"
      },
      "source": [
        "type(True)"
      ],
      "execution_count": 14,
      "outputs": [
        {
          "output_type": "execute_result",
          "data": {
            "text/plain": [
              "bool"
            ]
          },
          "metadata": {
            "tags": []
          },
          "execution_count": 14
        }
      ]
    },
    {
      "cell_type": "code",
      "metadata": {
        "id": "qCd9qZOTRB3A",
        "colab": {
          "base_uri": "https://localhost:8080/"
        },
        "outputId": "a5503ecd-c18b-41b9-e6b1-6cf27d1d1a4c"
      },
      "source": [
        "type(False)"
      ],
      "execution_count": 15,
      "outputs": [
        {
          "output_type": "execute_result",
          "data": {
            "text/plain": [
              "bool"
            ]
          },
          "metadata": {
            "tags": []
          },
          "execution_count": 15
        }
      ]
    },
    {
      "cell_type": "markdown",
      "metadata": {
        "id": "hPHe3Lj_RLOR"
      },
      "source": [
        "Wie also Kombinieren? <br>\n",
        "\n",
        "- Transormieren / Umwandeln"
      ]
    },
    {
      "cell_type": "code",
      "metadata": {
        "ExecuteTime": {
          "end_time": "2019-04-03T14:37:06.968473Z",
          "start_time": "2019-04-03T14:37:06.960473Z"
        },
        "id": "WmZDiipFO2w4",
        "colab": {
          "base_uri": "https://localhost:8080/"
        },
        "outputId": "f919218f-7860-42a3-96c8-22ef3b3fc022"
      },
      "source": [
        "print('Deine Zahl ist die ' + str(5) + '.')"
      ],
      "execution_count": 16,
      "outputs": [
        {
          "output_type": "stream",
          "text": [
            "Deine Zahl ist die 5.\n"
          ],
          "name": "stdout"
        }
      ]
    },
    {
      "cell_type": "code",
      "metadata": {
        "id": "2r_pypJkRWT7",
        "colab": {
          "base_uri": "https://localhost:8080/"
        },
        "outputId": "d534fa42-9652-43f5-d31e-04a43c42b00b"
      },
      "source": [
        "print('Deine Zahl ist die ' + str(y) + '.')"
      ],
      "execution_count": 17,
      "outputs": [
        {
          "output_type": "stream",
          "text": [
            "Deine Zahl ist die 7.8.\n"
          ],
          "name": "stdout"
        }
      ]
    },
    {
      "cell_type": "markdown",
      "metadata": {
        "id": "YsbAezccRb8R"
      },
      "source": [
        "## Zahlenstränge"
      ]
    },
    {
      "cell_type": "code",
      "metadata": {
        "id": "5n6lgobLRmOM"
      },
      "source": [
        "x = [0, 1, 2, 3, 4, 5, 6]"
      ],
      "execution_count": 18,
      "outputs": []
    },
    {
      "cell_type": "code",
      "metadata": {
        "id": "_PCsfJbAC5K9",
        "colab": {
          "base_uri": "https://localhost:8080/"
        },
        "outputId": "e48dc01c-7b7d-46c0-bd84-b64edfbb74ec"
      },
      "source": [
        "type(x)"
      ],
      "execution_count": 19,
      "outputs": [
        {
          "output_type": "execute_result",
          "data": {
            "text/plain": [
              "list"
            ]
          },
          "metadata": {
            "tags": []
          },
          "execution_count": 19
        }
      ]
    },
    {
      "cell_type": "code",
      "metadata": {
        "id": "JIjUV5JpRqDN",
        "colab": {
          "base_uri": "https://localhost:8080/"
        },
        "outputId": "d4abbf98-72a0-4b2d-f384-6f88dbfb23c3"
      },
      "source": [
        "x[0]"
      ],
      "execution_count": 20,
      "outputs": [
        {
          "output_type": "execute_result",
          "data": {
            "text/plain": [
              "0"
            ]
          },
          "metadata": {
            "tags": []
          },
          "execution_count": 20
        }
      ]
    },
    {
      "cell_type": "code",
      "metadata": {
        "id": "6JA3BBbiRbOy"
      },
      "source": [
        "x = [1, 2, 3, 4, 5, 6]"
      ],
      "execution_count": 21,
      "outputs": []
    },
    {
      "cell_type": "code",
      "metadata": {
        "id": "QwkFuVvbRvt5",
        "colab": {
          "base_uri": "https://localhost:8080/"
        },
        "outputId": "fc921390-3e4f-42d1-8e2e-51d0561ddb59"
      },
      "source": [
        "x[0]"
      ],
      "execution_count": 22,
      "outputs": [
        {
          "output_type": "execute_result",
          "data": {
            "text/plain": [
              "1"
            ]
          },
          "metadata": {
            "tags": []
          },
          "execution_count": 22
        }
      ]
    },
    {
      "cell_type": "code",
      "metadata": {
        "id": "OjWneWo2Rw4e",
        "colab": {
          "base_uri": "https://localhost:8080/"
        },
        "outputId": "74ad01be-8985-424c-a379-9265583a6835"
      },
      "source": [
        "x[2]"
      ],
      "execution_count": 23,
      "outputs": [
        {
          "output_type": "execute_result",
          "data": {
            "text/plain": [
              "3"
            ]
          },
          "metadata": {
            "tags": []
          },
          "execution_count": 23
        }
      ]
    },
    {
      "cell_type": "code",
      "metadata": {
        "id": "V2EBCO9rR1he",
        "colab": {
          "base_uri": "https://localhost:8080/"
        },
        "outputId": "34158a4b-c286-47e2-9e13-44851c384b46"
      },
      "source": [
        "x[-1]"
      ],
      "execution_count": 24,
      "outputs": [
        {
          "output_type": "execute_result",
          "data": {
            "text/plain": [
              "6"
            ]
          },
          "metadata": {
            "tags": []
          },
          "execution_count": 24
        }
      ]
    },
    {
      "cell_type": "code",
      "metadata": {
        "id": "rB731gSQR3K0",
        "colab": {
          "base_uri": "https://localhost:8080/"
        },
        "outputId": "3e2c2a9f-b9e6-4e28-d66c-c200e1c59bb9"
      },
      "source": [
        "x[-2]"
      ],
      "execution_count": 25,
      "outputs": [
        {
          "output_type": "execute_result",
          "data": {
            "text/plain": [
              "5"
            ]
          },
          "metadata": {
            "tags": []
          },
          "execution_count": 25
        }
      ]
    },
    {
      "cell_type": "code",
      "metadata": {
        "id": "NzMlzpelR54w",
        "colab": {
          "base_uri": "https://localhost:8080/"
        },
        "outputId": "9a1ade3f-065c-4e7c-bdda-73f73daae7a4"
      },
      "source": [
        "x"
      ],
      "execution_count": 26,
      "outputs": [
        {
          "output_type": "execute_result",
          "data": {
            "text/plain": [
              "[1, 2, 3, 4, 5, 6]"
            ]
          },
          "metadata": {
            "tags": []
          },
          "execution_count": 26
        }
      ]
    },
    {
      "cell_type": "code",
      "metadata": {
        "id": "y66PcdIVTKeQ"
      },
      "source": [
        "y = ['Brot', 'Eier', 'Milch', 'Obst', 'Gemüse']"
      ],
      "execution_count": 27,
      "outputs": []
    },
    {
      "cell_type": "code",
      "metadata": {
        "id": "3OX_RN7XTSAA",
        "colab": {
          "base_uri": "https://localhost:8080/"
        },
        "outputId": "371dc895-0a30-46ff-c416-700ac6bdb6ed"
      },
      "source": [
        "y"
      ],
      "execution_count": 28,
      "outputs": [
        {
          "output_type": "execute_result",
          "data": {
            "text/plain": [
              "['Brot', 'Eier', 'Milch', 'Obst', 'Gemüse']"
            ]
          },
          "metadata": {
            "tags": []
          },
          "execution_count": 28
        }
      ]
    },
    {
      "cell_type": "code",
      "metadata": {
        "id": "QetMeGYzDEkv",
        "colab": {
          "base_uri": "https://localhost:8080/"
        },
        "outputId": "fbfbf30b-91e6-4fb3-9201-57963bee0dce"
      },
      "source": [
        "z = [0, 'Haus', 4, 'Baum', 'Wiese', 10.8]\n",
        "z"
      ],
      "execution_count": 29,
      "outputs": [
        {
          "output_type": "execute_result",
          "data": {
            "text/plain": [
              "[0, 'Haus', 4, 'Baum', 'Wiese', 10.8]"
            ]
          },
          "metadata": {
            "tags": []
          },
          "execution_count": 29
        }
      ]
    },
    {
      "cell_type": "markdown",
      "metadata": {
        "id": "L31wQUtXO2xA"
      },
      "source": [
        "## For loops"
      ]
    },
    {
      "cell_type": "markdown",
      "metadata": {
        "id": "SbhHQBOiSJll"
      },
      "source": [
        "Wiederholungen in einer Schleife."
      ]
    },
    {
      "cell_type": "code",
      "metadata": {
        "id": "qEvZHJAqSl3x",
        "colab": {
          "base_uri": "https://localhost:8080/"
        },
        "outputId": "92d2b270-cf60-45f5-fec0-935dbb54a5ac"
      },
      "source": [
        "range(10)"
      ],
      "execution_count": 30,
      "outputs": [
        {
          "output_type": "execute_result",
          "data": {
            "text/plain": [
              "range(0, 10)"
            ]
          },
          "metadata": {
            "tags": []
          },
          "execution_count": 30
        }
      ]
    },
    {
      "cell_type": "code",
      "metadata": {
        "id": "XPxyXE5GS9Ji",
        "colab": {
          "base_uri": "https://localhost:8080/"
        },
        "outputId": "b38813fa-b55f-48d9-a74a-36c87daa735a"
      },
      "source": [
        "for i in range(10):\n",
        "    print(i)"
      ],
      "execution_count": 31,
      "outputs": [
        {
          "output_type": "stream",
          "text": [
            "0\n",
            "1\n",
            "2\n",
            "3\n",
            "4\n",
            "5\n",
            "6\n",
            "7\n",
            "8\n",
            "9\n"
          ],
          "name": "stdout"
        }
      ]
    },
    {
      "cell_type": "code",
      "metadata": {
        "id": "0kek-BTJSYM1",
        "colab": {
          "base_uri": "https://localhost:8080/"
        },
        "outputId": "9748a056-aae1-4428-fdbe-30ea94a7ea2c"
      },
      "source": [
        "for i in range(10):\n",
        "    print('Hello.')"
      ],
      "execution_count": 32,
      "outputs": [
        {
          "output_type": "stream",
          "text": [
            "Hello.\n",
            "Hello.\n",
            "Hello.\n",
            "Hello.\n",
            "Hello.\n",
            "Hello.\n",
            "Hello.\n",
            "Hello.\n",
            "Hello.\n",
            "Hello.\n"
          ],
          "name": "stdout"
        }
      ]
    },
    {
      "cell_type": "code",
      "metadata": {
        "ExecuteTime": {
          "end_time": "2019-04-03T14:37:27.131473Z",
          "start_time": "2019-04-03T14:37:27.127473Z"
        },
        "id": "W6cTm5vuO2xB",
        "colab": {
          "base_uri": "https://localhost:8080/"
        },
        "outputId": "5f5be491-2392-4abf-ee43-76194f9e1796"
      },
      "source": [
        "for i in x:\n",
        "    print(i)"
      ],
      "execution_count": 33,
      "outputs": [
        {
          "output_type": "stream",
          "text": [
            "1\n",
            "2\n",
            "3\n",
            "4\n",
            "5\n",
            "6\n"
          ],
          "name": "stdout"
        }
      ]
    },
    {
      "cell_type": "code",
      "metadata": {
        "id": "Eb9Kv0-3TT7X",
        "colab": {
          "base_uri": "https://localhost:8080/"
        },
        "outputId": "9ec29fcf-ae53-45de-d0cd-d2cdd42e3128"
      },
      "source": [
        "for i in y:\n",
        "    print(i)"
      ],
      "execution_count": 34,
      "outputs": [
        {
          "output_type": "stream",
          "text": [
            "Brot\n",
            "Eier\n",
            "Milch\n",
            "Obst\n",
            "Gemüse\n"
          ],
          "name": "stdout"
        }
      ]
    },
    {
      "cell_type": "code",
      "metadata": {
        "id": "wf7TfeJaDfq9",
        "colab": {
          "base_uri": "https://localhost:8080/"
        },
        "outputId": "ba2be3e3-ef7d-4b45-a673-3e50c816cb73"
      },
      "source": [
        "for i in z:\n",
        "    print(i)"
      ],
      "execution_count": 35,
      "outputs": [
        {
          "output_type": "stream",
          "text": [
            "0\n",
            "Haus\n",
            "4\n",
            "Baum\n",
            "Wiese\n",
            "10.8\n"
          ],
          "name": "stdout"
        }
      ]
    },
    {
      "cell_type": "code",
      "metadata": {
        "ExecuteTime": {
          "end_time": "2019-04-03T14:43:25.899473Z",
          "start_time": "2019-04-03T14:43:25.889473Z"
        },
        "id": "C7jt-6UvO2xI",
        "colab": {
          "base_uri": "https://localhost:8080/"
        },
        "outputId": "f6781a82-dbd7-4114-976c-bb5ba5544a14"
      },
      "source": [
        "for i in x:\n",
        "    print('Die nächste Zahl ist die ' + str(i) + '.')"
      ],
      "execution_count": 36,
      "outputs": [
        {
          "output_type": "stream",
          "text": [
            "Die nächste Zahl ist die 1.\n",
            "Die nächste Zahl ist die 2.\n",
            "Die nächste Zahl ist die 3.\n",
            "Die nächste Zahl ist die 4.\n",
            "Die nächste Zahl ist die 5.\n",
            "Die nächste Zahl ist die 6.\n"
          ],
          "name": "stdout"
        }
      ]
    },
    {
      "cell_type": "code",
      "metadata": {
        "id": "QhnRvhn5TYJa",
        "colab": {
          "base_uri": "https://localhost:8080/"
        },
        "outputId": "826f2323-8c7d-422b-ef6e-fd755f7b7177"
      },
      "source": [
        "for i in y:\n",
        "    print('Kaufe ' + i)"
      ],
      "execution_count": 37,
      "outputs": [
        {
          "output_type": "stream",
          "text": [
            "Kaufe Brot\n",
            "Kaufe Eier\n",
            "Kaufe Milch\n",
            "Kaufe Obst\n",
            "Kaufe Gemüse\n"
          ],
          "name": "stdout"
        }
      ]
    },
    {
      "cell_type": "markdown",
      "metadata": {
        "id": "rBpu7rarS3es"
      },
      "source": [
        "## if Bedingungen"
      ]
    },
    {
      "cell_type": "code",
      "metadata": {
        "id": "GHfP-B7ISXAU",
        "colab": {
          "base_uri": "https://localhost:8080/"
        },
        "outputId": "62d345f9-a9aa-4194-c4d6-2017757b5eaf"
      },
      "source": [
        "if True:\n",
        "    print('Stimmt.')"
      ],
      "execution_count": 38,
      "outputs": [
        {
          "output_type": "stream",
          "text": [
            "Stimmt.\n"
          ],
          "name": "stdout"
        }
      ]
    },
    {
      "cell_type": "code",
      "metadata": {
        "id": "0b5Apb1OTpz0"
      },
      "source": [
        "if False:\n",
        "    print('Stimmt nicht')"
      ],
      "execution_count": 39,
      "outputs": []
    },
    {
      "cell_type": "code",
      "metadata": {
        "id": "7pD4_v6OTs83",
        "colab": {
          "base_uri": "https://localhost:8080/"
        },
        "outputId": "10439775-4a3c-4d3a-ea03-d1f53f988a7d"
      },
      "source": [
        "for lebensmittel in y:\n",
        "    if 'i' in lebensmittel:\n",
        "        print(lebensmittel)"
      ],
      "execution_count": 40,
      "outputs": [
        {
          "output_type": "stream",
          "text": [
            "Eier\n",
            "Milch\n"
          ],
          "name": "stdout"
        }
      ]
    },
    {
      "cell_type": "code",
      "metadata": {
        "id": "kYVVgkW5UKAK",
        "colab": {
          "base_uri": "https://localhost:8080/"
        },
        "outputId": "5278c699-da94-467d-964a-2e432832dcf1"
      },
      "source": [
        "for lebensmittel in y:\n",
        "    if 'i' in lebensmittel:\n",
        "        print('Lebensmittel mit einem i:')\n",
        "        print(lebensmittel)"
      ],
      "execution_count": 41,
      "outputs": [
        {
          "output_type": "stream",
          "text": [
            "Lebensmittel mit einem i:\n",
            "Eier\n",
            "Lebensmittel mit einem i:\n",
            "Milch\n"
          ],
          "name": "stdout"
        }
      ]
    },
    {
      "cell_type": "code",
      "metadata": {
        "id": "3X2KVNQ5UWvB",
        "colab": {
          "base_uri": "https://localhost:8080/"
        },
        "outputId": "cb40609b-0e80-4e29-bcea-b62c42d663f9"
      },
      "source": [
        "for lebensmittel in y:\n",
        "    if 'i' in lebensmittel:\n",
        "        print('Lebensmittel mit einem i: ' + lebensmittel)"
      ],
      "execution_count": 42,
      "outputs": [
        {
          "output_type": "stream",
          "text": [
            "Lebensmittel mit einem i: Eier\n",
            "Lebensmittel mit einem i: Milch\n"
          ],
          "name": "stdout"
        }
      ]
    },
    {
      "cell_type": "code",
      "metadata": {
        "id": "DXckrwaoUZqa",
        "colab": {
          "base_uri": "https://localhost:8080/"
        },
        "outputId": "be57df18-b309-4a9b-83b1-d7abcdd1993f"
      },
      "source": [
        "for lebensmittel in y:\n",
        "    if 'i' in lebensmittel:\n",
        "        print('Lebensmittel mit einem i: ' + lebensmittel)\n",
        "\n",
        "    else:\n",
        "         print('Lebensmittel ohne einem i: ' + lebensmittel)"
      ],
      "execution_count": 43,
      "outputs": [
        {
          "output_type": "stream",
          "text": [
            "Lebensmittel ohne einem i: Brot\n",
            "Lebensmittel mit einem i: Eier\n",
            "Lebensmittel mit einem i: Milch\n",
            "Lebensmittel ohne einem i: Obst\n",
            "Lebensmittel ohne einem i: Gemüse\n"
          ],
          "name": "stdout"
        }
      ]
    },
    {
      "cell_type": "markdown",
      "metadata": {
        "id": "Zrk3rtqjVfwi"
      },
      "source": [
        "# Einlesen und plotten von Daten"
      ]
    },
    {
      "cell_type": "markdown",
      "metadata": {
        "id": "c3jJCLPsVfwk"
      },
      "source": [
        "## Numpy, Pandas & Seaborn"
      ]
    },
    {
      "cell_type": "markdown",
      "metadata": {
        "id": "yNQSVQd2Vfwm"
      },
      "source": [
        "Die Packete _Numpy_, _Pandas_ & _Seaborn_ sind elementar in der Analyse von Daten. _Numpy_ wird benutzt um Arrays zu bilden und zu bearbeiten. _Pandas_ bildet daraus Strukturen, Tabellen, etc. und bieten auch Analyse Werkzeuge. _Seaborn_ ist ein Visualisierungspacket. Es ist auf einem anderen Visualisierungspacket, _Matplotlib_, aufgebaut und bietet eine einfachere Bedienung. "
      ]
    },
    {
      "cell_type": "markdown",
      "metadata": {
        "id": "D8GkKSkgVfwo"
      },
      "source": [
        "***"
      ]
    },
    {
      "cell_type": "markdown",
      "metadata": {
        "id": "pCM8nUmiVfwq"
      },
      "source": [
        "### Numpy"
      ]
    },
    {
      "cell_type": "markdown",
      "metadata": {
        "id": "cY0juAELVfwr"
      },
      "source": [
        "Erst muss das Packet importiert werden. Das machen wir per __import__ und geben dem Packet das Kürzel np mit __as__."
      ]
    },
    {
      "cell_type": "code",
      "metadata": {
        "id": "3RD-hKQRVfwt"
      },
      "source": [
        "import numpy as np"
      ],
      "execution_count": 44,
      "outputs": []
    },
    {
      "cell_type": "code",
      "metadata": {
        "id": "Uq4livOhVv7H",
        "colab": {
          "base_uri": "https://localhost:8080/"
        },
        "outputId": "c857f1cb-704f-4ecf-c146-e7ca2349644a"
      },
      "source": [
        "a = np.arange(0,20,0.5)\n",
        "a"
      ],
      "execution_count": 45,
      "outputs": [
        {
          "output_type": "execute_result",
          "data": {
            "text/plain": [
              "array([ 0. ,  0.5,  1. ,  1.5,  2. ,  2.5,  3. ,  3.5,  4. ,  4.5,  5. ,\n",
              "        5.5,  6. ,  6.5,  7. ,  7.5,  8. ,  8.5,  9. ,  9.5, 10. , 10.5,\n",
              "       11. , 11.5, 12. , 12.5, 13. , 13.5, 14. , 14.5, 15. , 15.5, 16. ,\n",
              "       16.5, 17. , 17.5, 18. , 18.5, 19. , 19.5])"
            ]
          },
          "metadata": {
            "tags": []
          },
          "execution_count": 45
        }
      ]
    },
    {
      "cell_type": "code",
      "metadata": {
        "id": "VFSPlYbCV3Pb",
        "colab": {
          "base_uri": "https://localhost:8080/"
        },
        "outputId": "61e04faa-a1f4-4141-d0f3-76b427da7af8"
      },
      "source": [
        "x = np.random.randn(20)\n",
        "x"
      ],
      "execution_count": 46,
      "outputs": [
        {
          "output_type": "execute_result",
          "data": {
            "text/plain": [
              "array([-0.24220436,  0.25413122, -0.04701889,  0.11771902, -0.93912738,\n",
              "       -0.81559631,  0.09417363,  2.12678214,  0.50641536, -0.31994049,\n",
              "        0.90782056, -0.12238188, -0.66519124, -0.80597479,  1.42697491,\n",
              "        0.33719539,  0.11597364, -0.12981432, -1.19594865,  0.7836468 ])"
            ]
          },
          "metadata": {
            "tags": []
          },
          "execution_count": 46
        }
      ]
    },
    {
      "cell_type": "code",
      "metadata": {
        "id": "1nhATypnV_Hd",
        "colab": {
          "base_uri": "https://localhost:8080/"
        },
        "outputId": "5bacda0f-8785-4a5c-80df-2409962a56d3"
      },
      "source": [
        "x = np.random.normal(2, 1, 20)\n",
        "x"
      ],
      "execution_count": 47,
      "outputs": [
        {
          "output_type": "execute_result",
          "data": {
            "text/plain": [
              "array([-0.12113497,  0.0291572 ,  1.83647212,  1.7070669 ,  1.05137253,\n",
              "        1.92858868,  1.75692941,  0.45567155,  1.55808394,  1.4569341 ,\n",
              "        1.15522925,  0.26087484,  2.6385358 ,  2.28262681,  2.68947228,\n",
              "        2.73726139,  2.13715524,  0.89866576,  1.68258583,  3.54591041])"
            ]
          },
          "metadata": {
            "tags": []
          },
          "execution_count": 47
        }
      ]
    },
    {
      "cell_type": "code",
      "metadata": {
        "id": "CwyFMY0uDwG6",
        "colab": {
          "base_uri": "https://localhost:8080/"
        },
        "outputId": "ce12d911-ec8c-49d6-e94a-5abb1044ce1f"
      },
      "source": [
        "np.random"
      ],
      "execution_count": 48,
      "outputs": [
        {
          "output_type": "execute_result",
          "data": {
            "text/plain": [
              "<module 'numpy.random' from '/usr/local/lib/python3.7/dist-packages/numpy/random/__init__.py'>"
            ]
          },
          "metadata": {
            "tags": []
          },
          "execution_count": 48
        }
      ]
    },
    {
      "cell_type": "markdown",
      "metadata": {
        "id": "wS7YC7oyVfw3"
      },
      "source": [
        "Wir haben aus einer Normalverteilung mit einem Mittelwert $\\mu$ und einer Standardabweichung $\\sigma^2$ zufällig gesampled mit der Funktion np.random.normal():"
      ]
    },
    {
      "cell_type": "code",
      "metadata": {
        "id": "f-_c6ldXVfw4"
      },
      "source": [
        "mu, sigma = 10, 1 # mean and standard deviation\n",
        "\n",
        "s = np.random.normal(mu, sigma, 1000)"
      ],
      "execution_count": 95,
      "outputs": []
    },
    {
      "cell_type": "code",
      "metadata": {
        "id": "xnd1pM6Ac4hg",
        "colab": {
          "base_uri": "https://localhost:8080/"
        },
        "outputId": "e8bf59d3-77f5-433a-d92a-9eb81f04ae13"
      },
      "source": [
        "s[:10]"
      ],
      "execution_count": 50,
      "outputs": [
        {
          "output_type": "execute_result",
          "data": {
            "text/plain": [
              "array([ 7.32686355,  8.5983674 ,  8.37206853,  9.15639511,  9.40621671,\n",
              "        9.245463  ,  9.20510358, 10.34046671, 10.59803302, 12.46605975])"
            ]
          },
          "metadata": {
            "tags": []
          },
          "execution_count": 50
        }
      ]
    },
    {
      "cell_type": "code",
      "metadata": {
        "id": "j9dXtpvBc9Ne",
        "colab": {
          "base_uri": "https://localhost:8080/"
        },
        "outputId": "fc59ca26-2133-4ef9-b065-b64738a8fea0"
      },
      "source": [
        "s[900:]"
      ],
      "execution_count": 51,
      "outputs": [
        {
          "output_type": "execute_result",
          "data": {
            "text/plain": [
              "array([ 9.28075379, 12.39290374, 10.65552782,  9.465742  , 10.16035513,\n",
              "        8.91966339, 10.30905992, 10.37511382,  9.64576325, 11.05736079,\n",
              "        8.85053969,  9.28960527, 11.19690392,  9.59457045,  8.90079107,\n",
              "        8.41237081,  9.94542772, 10.64641393, 10.2912749 ,  9.34934174,\n",
              "       10.18642636,  9.84786439,  8.8229091 ,  8.88750233, 10.34663907,\n",
              "        9.53604684, 11.43650374, 11.80374187, 10.41404779, 11.62503476,\n",
              "        9.66260608, 10.35497912, 10.61359819,  8.38300712, 10.89114915,\n",
              "       10.27788405, 10.01903976, 11.22576486,  9.02070138, 11.59827089,\n",
              "        9.05309602, 10.39544487, 10.23934677, 10.23995838, 10.50803354,\n",
              "        9.42953585, 10.52737372,  9.10411479, 10.81989676, 10.15413228,\n",
              "       10.07860539,  8.48394146,  9.89469957,  9.44375002,  9.95702583,\n",
              "        8.34034503,  8.57977489, 10.15704865,  9.69739056,  8.56857936,\n",
              "       11.15714857,  8.47891684,  8.61024187, 10.42787619, 10.87034538,\n",
              "       11.82260446, 11.23694406, 10.23344857, 11.40420743, 10.6494337 ,\n",
              "        9.76581254,  7.9435455 ,  8.47337032,  9.85945399, 10.5476318 ,\n",
              "       10.79343916, 10.29655151, 11.8027627 , 10.24811328, 10.51956661,\n",
              "       10.88736358, 11.09919273,  9.51139815,  9.1420561 ,  9.88584461,\n",
              "        9.90186387, 10.47029355,  9.3468774 ,  9.09705445, 11.0809177 ,\n",
              "        8.27936503, 11.63488925, 10.91691205,  9.86620859,  8.7259848 ,\n",
              "        8.51210784,  9.95303842,  9.80963152,  9.29582732, 10.26311269])"
            ]
          },
          "metadata": {
            "tags": []
          },
          "execution_count": 51
        }
      ]
    },
    {
      "cell_type": "markdown",
      "metadata": {
        "id": "HRdxK1OtVfxB"
      },
      "source": [
        "***"
      ]
    },
    {
      "cell_type": "markdown",
      "metadata": {
        "id": "Y_AFtQM6VfxC"
      },
      "source": [
        "### Seaborn"
      ]
    },
    {
      "cell_type": "markdown",
      "metadata": {
        "id": "11JYQqmcVfxD"
      },
      "source": [
        "Mit _Seaborn_ können wir das ganze jetzt visualisieren. Erst importieren wir das Packet _Matplotlib.pyplot_ als __plt__ und dann _Seaborn_ mit dem Kürzel __sns__."
      ]
    },
    {
      "cell_type": "code",
      "metadata": {
        "id": "WEryHxO-VfxE"
      },
      "source": [
        "import matplotlib\n",
        "import matplotlib.pyplot as plt\n",
        "import seaborn as sns"
      ],
      "execution_count": 52,
      "outputs": []
    },
    {
      "cell_type": "markdown",
      "metadata": {
        "id": "WsFxUH9XVfxK"
      },
      "source": [
        "#### Verteilungen"
      ]
    },
    {
      "cell_type": "markdown",
      "metadata": {
        "id": "u4OWVDOnVfxM"
      },
      "source": [
        "Dann wollen wir uns die Verteilung einmal angucken."
      ]
    },
    {
      "cell_type": "code",
      "metadata": {
        "scrolled": false,
        "id": "-1joloecVfxN",
        "colab": {
          "base_uri": "https://localhost:8080/",
          "height": 339
        },
        "outputId": "0e70588e-8323-4d53-a57c-107e7d095899"
      },
      "source": [
        "sns.distplot(s)"
      ],
      "execution_count": 53,
      "outputs": [
        {
          "output_type": "stream",
          "text": [
            "/usr/local/lib/python3.7/dist-packages/seaborn/distributions.py:2557: FutureWarning: `distplot` is a deprecated function and will be removed in a future version. Please adapt your code to use either `displot` (a figure-level function with similar flexibility) or `histplot` (an axes-level function for histograms).\n",
            "  warnings.warn(msg, FutureWarning)\n"
          ],
          "name": "stderr"
        },
        {
          "output_type": "execute_result",
          "data": {
            "text/plain": [
              "<matplotlib.axes._subplots.AxesSubplot at 0x7f777a0e6790>"
            ]
          },
          "metadata": {
            "tags": []
          },
          "execution_count": 53
        },
        {
          "output_type": "display_data",
          "data": {
            "image/png": "[encoded data removed]",
            "text/plain": [
              "<Figure size 432x288 with 1 Axes>"
            ]
          },
          "metadata": {
            "tags": [],
            "needs_background": "light"
          }
        }
      ]
    },
    {
      "cell_type": "markdown",
      "metadata": {
        "id": "-5VBKq6yeJDK"
      },
      "source": [
        "Verändern der default Figure Größe."
      ]
    },
    {
      "cell_type": "code",
      "metadata": {
        "id": "LWtg8OFSf3zG"
      },
      "source": [
        "plt.rcParams['figure.figsize'] = [12, 12]"
      ],
      "execution_count": 54,
      "outputs": []
    },
    {
      "cell_type": "code",
      "metadata": {
        "id": "C5qU8JqihS_m",
        "colab": {
          "base_uri": "https://localhost:8080/",
          "height": 774
        },
        "outputId": "5ec2bff1-e99b-443b-d380-a0027c733d04"
      },
      "source": [
        "sns.distplot(s)"
      ],
      "execution_count": 55,
      "outputs": [
        {
          "output_type": "stream",
          "text": [
            "/usr/local/lib/python3.7/dist-packages/seaborn/distributions.py:2557: FutureWarning: `distplot` is a deprecated function and will be removed in a future version. Please adapt your code to use either `displot` (a figure-level function with similar flexibility) or `histplot` (an axes-level function for histograms).\n",
            "  warnings.warn(msg, FutureWarning)\n"
          ],
          "name": "stderr"
        },
        {
          "output_type": "execute_result",
          "data": {
            "text/plain": [
              "<matplotlib.axes._subplots.AxesSubplot at 0x7f7762fdf890>"
            ]
          },
          "metadata": {
            "tags": []
          },
          "execution_count": 55
        },
        {
          "output_type": "display_data",
          "data": {
            "image/png": "[encoded data removed]",
            "text/plain": [
              "<Figure size 864x864 with 1 Axes>"
            ]
          },
          "metadata": {
            "tags": [],
            "needs_background": "light"
          }
        }
      ]
    },
    {
      "cell_type": "code",
      "metadata": {
        "id": "O_GPxySngy1D",
        "colab": {
          "base_uri": "https://localhost:8080/",
          "height": 374
        },
        "outputId": "87c47d8a-97de-4948-a2cb-a360219e1e00"
      },
      "source": [
        "plt.figure(figsize=(16, 6))\n",
        "sns.boxplot(x=s);"
      ],
      "execution_count": 56,
      "outputs": [
        {
          "output_type": "display_data",
          "data": {
            "image/png": "[encoded data removed]",
            "text/plain": [
              "<Figure size 1152x432 with 1 Axes>"
            ]
          },
          "metadata": {
            "tags": [],
            "needs_background": "light"
          }
        }
      ]
    },
    {
      "cell_type": "markdown",
      "metadata": {
        "id": "cQVth70fVfxU"
      },
      "source": [
        "Die Funktion distplot() in sns hat viele Parameter die verstellt werden können hier ein paar Beispiele."
      ]
    },
    {
      "cell_type": "code",
      "metadata": {
        "id": "uD5bNXceVfxU",
        "colab": {
          "base_uri": "https://localhost:8080/",
          "height": 756
        },
        "outputId": "efb27c0b-6370-4eb4-9ca8-62d43c7b1ff7"
      },
      "source": [
        "sns.distplot(s, \n",
        "             hist=True, \n",
        "             kde=False, \n",
        "             bins=100, \n",
        "             color = 'red',\n",
        "             hist_kws={'edgecolor':'black'});"
      ],
      "execution_count": 57,
      "outputs": [
        {
          "output_type": "stream",
          "text": [
            "/usr/local/lib/python3.7/dist-packages/seaborn/distributions.py:2557: FutureWarning: `distplot` is a deprecated function and will be removed in a future version. Please adapt your code to use either `displot` (a figure-level function with similar flexibility) or `histplot` (an axes-level function for histograms).\n",
            "  warnings.warn(msg, FutureWarning)\n"
          ],
          "name": "stderr"
        },
        {
          "output_type": "display_data",
          "data": {
            "image/png": "[encoded data removed]",
            "text/plain": [
              "<Figure size 864x864 with 1 Axes>"
            ]
          },
          "metadata": {
            "tags": [],
            "needs_background": "light"
          }
        }
      ]
    },
    {
      "cell_type": "markdown",
      "metadata": {
        "id": "fJ06BEoxVfxZ"
      },
      "source": [
        "Eine volle Dokumentation von Seaborn findet ihr unter https://seaborn.pydata.org/index.html"
      ]
    },
    {
      "cell_type": "markdown",
      "metadata": {
        "id": "6cuvAhIQVfxm"
      },
      "source": [
        "Hinzufügen von Axenbeschriftung und einem Titel machen wir über Matplotlib."
      ]
    },
    {
      "cell_type": "code",
      "metadata": {
        "id": "myG1755FVfxn",
        "colab": {
          "base_uri": "https://localhost:8080/",
          "height": 790
        },
        "outputId": "bb305576-af3f-48a0-a0a1-5e07647748f5"
      },
      "source": [
        "# seaborn histogram\n",
        "sns.distplot(s, \n",
        "             hist=True, \n",
        "             kde=False, \n",
        "             bins=100, \n",
        "             color = 'red',\n",
        "             hist_kws={'edgecolor':'black'})\n",
        "\n",
        "# Add labels\n",
        "plt.title('Histogram of a Gaussian Distribution')\n",
        "plt.ylabel('Count')"
      ],
      "execution_count": 58,
      "outputs": [
        {
          "output_type": "stream",
          "text": [
            "/usr/local/lib/python3.7/dist-packages/seaborn/distributions.py:2557: FutureWarning: `distplot` is a deprecated function and will be removed in a future version. Please adapt your code to use either `displot` (a figure-level function with similar flexibility) or `histplot` (an axes-level function for histograms).\n",
            "  warnings.warn(msg, FutureWarning)\n"
          ],
          "name": "stderr"
        },
        {
          "output_type": "execute_result",
          "data": {
            "text/plain": [
              "Text(0, 0.5, 'Count')"
            ]
          },
          "metadata": {
            "tags": []
          },
          "execution_count": 58
        },
        {
          "output_type": "display_data",
          "data": {
            "image/png": "[encoded data removed]",
            "text/plain": [
              "<Figure size 864x864 with 1 Axes>"
            ]
          },
          "metadata": {
            "tags": [],
            "needs_background": "light"
          }
        }
      ]
    },
    {
      "cell_type": "markdown",
      "metadata": {
        "id": "BYwtkoBbVfxx"
      },
      "source": [
        "***"
      ]
    },
    {
      "cell_type": "markdown",
      "metadata": {
        "id": "utgkSSzbVfxy"
      },
      "source": [
        "### Pandas"
      ]
    },
    {
      "cell_type": "markdown",
      "metadata": {
        "id": "ctqy2dEuVfx0"
      },
      "source": [
        "Mit _Pandas_ können wir jetzt z.b. Tabellen einlesen. <br>\n",
        "\n",
        "Z.B. diese sehr interessante Studie: https://www.kaggle.com/miroslavsabo/young-people-survey#responses.csv\n",
        "\n"
      ]
    },
    {
      "cell_type": "code",
      "metadata": {
        "id": "eg34VpjtVfx1"
      },
      "source": [
        "import pandas as pd"
      ],
      "execution_count": 59,
      "outputs": []
    },
    {
      "cell_type": "code",
      "metadata": {
        "id": "6rpF5bXPVfx5"
      },
      "source": [
        "from google.colab import files\n",
        "import io"
      ],
      "execution_count": 60,
      "outputs": []
    },
    {
      "cell_type": "code",
      "metadata": {
        "id": "8ary7y2Wk12N",
        "colab": {
          "resources": {
            "http://localhost:8080/nbextensions/google.colab/files.js": {
              "data": "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",
              "ok": true,
              "headers": [
                [
                  "content-type",
                  "application/javascript"
                ]
              ],
              "status": 200,
              "status_text": "OK"
            }
          },
          "base_uri": "https://localhost:8080/",
          "height": 111
        },
        "outputId": "35643917-2917-4420-ebcb-7e09d16dce92"
      },
      "source": [
        "uploaded = files.upload()"
      ],
      "execution_count": 61,
      "outputs": [
        {
          "output_type": "display_data",
          "data": {
            "text/html": [
              "\n",
              "     <input type=\"file\" id=\"files-83af19a4-421a-4e22-80be-3b83212a882e\" name=\"files[]\" multiple disabled\n",
              "        style=\"border:none\" />\n",
              "     <output id=\"result-83af19a4-421a-4e22-80be-3b83212a882e\">\n",
              "      Upload widget is only available when the cell has been executed in the\n",
              "      current browser session. Please rerun this cell to enable.\n",
              "      </output>\n",
              "      <script src=\"/nbextensions/google.colab/files.js\"></script> "
            ],
            "text/plain": [
              "<IPython.core.display.HTML object>"
            ]
          },
          "metadata": {
            "tags": []
          }
        },
        {
          "output_type": "stream",
          "text": [
            "Saving columns.csv to columns.csv\n",
            "Saving responses.csv to responses.csv\n"
          ],
          "name": "stdout"
        }
      ]
    },
    {
      "cell_type": "code",
      "metadata": {
        "id": "AkgE1wskjnem"
      },
      "source": [
        "df_questions = pd.read_csv(io.BytesIO(uploaded['columns.csv']))"
      ],
      "execution_count": 62,
      "outputs": []
    },
    {
      "cell_type": "code",
      "metadata": {
        "id": "a9An5_8aVfx_",
        "colab": {
          "base_uri": "https://localhost:8080/",
          "height": 424
        },
        "outputId": "7efb0d33-896e-4a88-c848-0e5c0097dbe9"
      },
      "source": [
        "df_questions"
      ],
      "execution_count": 63,
      "outputs": [
        {
          "output_type": "execute_result",
          "data": {
            "text/html": [
              "<div>\n",
              "<style scoped>\n",
              "    .dataframe tbody tr th:only-of-type {\n",
              "        vertical-align: middle;\n",
              "    }\n",
              "\n",
              "    .dataframe tbody tr th {\n",
              "        vertical-align: top;\n",
              "    }\n",
              "\n",
              "    .dataframe thead th {\n",
              "        text-align: right;\n",
              "    }\n",
              "</style>\n",
              "<table border=\"1\" class=\"dataframe\">\n",
              "  <thead>\n",
              "    <tr style=\"text-align: right;\">\n",
              "      <th></th>\n",
              "      <th>original</th>\n",
              "      <th>short</th>\n",
              "    </tr>\n",
              "  </thead>\n",
              "  <tbody>\n",
              "    <tr>\n",
              "      <th>0</th>\n",
              "      <td>I enjoy listening to music.</td>\n",
              "      <td>Music</td>\n",
              "    </tr>\n",
              "    <tr>\n",
              "      <th>1</th>\n",
              "      <td>I prefer.</td>\n",
              "      <td>Slow songs or fast songs</td>\n",
              "    </tr>\n",
              "    <tr>\n",
              "      <th>2</th>\n",
              "      <td>Dance, Disco, Funk</td>\n",
              "      <td>Dance</td>\n",
              "    </tr>\n",
              "    <tr>\n",
              "      <th>3</th>\n",
              "      <td>Folk music</td>\n",
              "      <td>Folk</td>\n",
              "    </tr>\n",
              "    <tr>\n",
              "      <th>4</th>\n",
              "      <td>Country</td>\n",
              "      <td>Country</td>\n",
              "    </tr>\n",
              "    <tr>\n",
              "      <th>...</th>\n",
              "      <td>...</td>\n",
              "      <td>...</td>\n",
              "    </tr>\n",
              "    <tr>\n",
              "      <th>145</th>\n",
              "      <td>I am</td>\n",
              "      <td>Left - right handed</td>\n",
              "    </tr>\n",
              "    <tr>\n",
              "      <th>146</th>\n",
              "      <td>Highest education achieved</td>\n",
              "      <td>Education</td>\n",
              "    </tr>\n",
              "    <tr>\n",
              "      <th>147</th>\n",
              "      <td>I am the only child</td>\n",
              "      <td>Only child</td>\n",
              "    </tr>\n",
              "    <tr>\n",
              "      <th>148</th>\n",
              "      <td>I spent most of my childhood in a</td>\n",
              "      <td>Village - town</td>\n",
              "    </tr>\n",
              "    <tr>\n",
              "      <th>149</th>\n",
              "      <td>I lived most of my childhood in a</td>\n",
              "      <td>House - block of flats</td>\n",
              "    </tr>\n",
              "  </tbody>\n",
              "</table>\n",
              "<p>150 rows × 2 columns</p>\n",
              "</div>"
            ],
            "text/plain": [
              "                              original                     short\n",
              "0          I enjoy listening to music.                     Music\n",
              "1                            I prefer.  Slow songs or fast songs\n",
              "2                   Dance, Disco, Funk                     Dance\n",
              "3                           Folk music                      Folk\n",
              "4                              Country                   Country\n",
              "..                                 ...                       ...\n",
              "145                               I am       Left - right handed\n",
              "146         Highest education achieved                 Education\n",
              "147                I am the only child                Only child\n",
              "148  I spent most of my childhood in a            Village - town\n",
              "149  I lived most of my childhood in a    House - block of flats\n",
              "\n",
              "[150 rows x 2 columns]"
            ]
          },
          "metadata": {
            "tags": []
          },
          "execution_count": 63
        }
      ]
    },
    {
      "cell_type": "code",
      "metadata": {
        "id": "6nGzKjzsVfyC"
      },
      "source": [
        "pd.options.display.max_rows = None"
      ],
      "execution_count": 64,
      "outputs": []
    },
    {
      "cell_type": "code",
      "metadata": {
        "scrolled": true,
        "id": "KYtJ_28yVfyG",
        "colab": {
          "base_uri": "https://localhost:8080/",
          "height": 1000
        },
        "outputId": "c47b93bf-535f-4f44-d1cb-7ed44bf864e3"
      },
      "source": [
        "df_questions"
      ],
      "execution_count": 65,
      "outputs": [
        {
          "output_type": "execute_result",
          "data": {
            "text/html": [
              "<div>\n",
              "<style scoped>\n",
              "    .dataframe tbody tr th:only-of-type {\n",
              "        vertical-align: middle;\n",
              "    }\n",
              "\n",
              "    .dataframe tbody tr th {\n",
              "        vertical-align: top;\n",
              "    }\n",
              "\n",
              "    .dataframe thead th {\n",
              "        text-align: right;\n",
              "    }\n",
              "</style>\n",
              "<table border=\"1\" class=\"dataframe\">\n",
              "  <thead>\n",
              "    <tr style=\"text-align: right;\">\n",
              "      <th></th>\n",
              "      <th>original</th>\n",
              "      <th>short</th>\n",
              "    </tr>\n",
              "  </thead>\n",
              "  <tbody>\n",
              "    <tr>\n",
              "      <th>0</th>\n",
              "      <td>I enjoy listening to music.</td>\n",
              "      <td>Music</td>\n",
              "    </tr>\n",
              "    <tr>\n",
              "      <th>1</th>\n",
              "      <td>I prefer.</td>\n",
              "      <td>Slow songs or fast songs</td>\n",
              "    </tr>\n",
              "    <tr>\n",
              "      <th>2</th>\n",
              "      <td>Dance, Disco, Funk</td>\n",
              "      <td>Dance</td>\n",
              "    </tr>\n",
              "    <tr>\n",
              "      <th>3</th>\n",
              "      <td>Folk music</td>\n",
              "      <td>Folk</td>\n",
              "    </tr>\n",
              "    <tr>\n",
              "      <th>4</th>\n",
              "      <td>Country</td>\n",
              "      <td>Country</td>\n",
              "    </tr>\n",
              "    <tr>\n",
              "      <th>5</th>\n",
              "      <td>Classical</td>\n",
              "      <td>Classical music</td>\n",
              "    </tr>\n",
              "    <tr>\n",
              "      <th>6</th>\n",
              "      <td>Musicals</td>\n",
              "      <td>Musical</td>\n",
              "    </tr>\n",
              "    <tr>\n",
              "      <th>7</th>\n",
              "      <td>Pop</td>\n",
              "      <td>Pop</td>\n",
              "    </tr>\n",
              "    <tr>\n",
              "      <th>8</th>\n",
              "      <td>Rock</td>\n",
              "      <td>Rock</td>\n",
              "    </tr>\n",
              "    <tr>\n",
              "      <th>9</th>\n",
              "      <td>Metal, Hard rock</td>\n",
              "      <td>Metal or Hardrock</td>\n",
              "    </tr>\n",
              "    <tr>\n",
              "      <th>10</th>\n",
              "      <td>Punk</td>\n",
              "      <td>Punk</td>\n",
              "    </tr>\n",
              "    <tr>\n",
              "      <th>11</th>\n",
              "      <td>Hip hop, Rap</td>\n",
              "      <td>Hiphop, Rap</td>\n",
              "    </tr>\n",
              "    <tr>\n",
              "      <th>12</th>\n",
              "      <td>Reggae, Ska</td>\n",
              "      <td>Reggae, Ska</td>\n",
              "    </tr>\n",
              "    <tr>\n",
              "      <th>13</th>\n",
              "      <td>Swing, Jazz</td>\n",
              "      <td>Swing, Jazz</td>\n",
              "    </tr>\n",
              "    <tr>\n",
              "      <th>14</th>\n",
              "      <td>Rock n Roll</td>\n",
              "      <td>Rock n roll</td>\n",
              "    </tr>\n",
              "    <tr>\n",
              "      <th>15</th>\n",
              "      <td>Alternative music</td>\n",
              "      <td>Alternative</td>\n",
              "    </tr>\n",
              "    <tr>\n",
              "      <th>16</th>\n",
              "      <td>Latin</td>\n",
              "      <td>Latino</td>\n",
              "    </tr>\n",
              "    <tr>\n",
              "      <th>17</th>\n",
              "      <td>Techno, Trance</td>\n",
              "      <td>Techno, Trance</td>\n",
              "    </tr>\n",
              "    <tr>\n",
              "      <th>18</th>\n",
              "      <td>Opera</td>\n",
              "      <td>Opera</td>\n",
              "    </tr>\n",
              "    <tr>\n",
              "      <th>19</th>\n",
              "      <td>I really enjoy watching movies.</td>\n",
              "      <td>Movies</td>\n",
              "    </tr>\n",
              "    <tr>\n",
              "      <th>20</th>\n",
              "      <td>Horror movies</td>\n",
              "      <td>Horror</td>\n",
              "    </tr>\n",
              "    <tr>\n",
              "      <th>21</th>\n",
              "      <td>Thriller movies</td>\n",
              "      <td>Thriller</td>\n",
              "    </tr>\n",
              "    <tr>\n",
              "      <th>22</th>\n",
              "      <td>Comedies</td>\n",
              "      <td>Comedy</td>\n",
              "    </tr>\n",
              "    <tr>\n",
              "      <th>23</th>\n",
              "      <td>Romantic movies</td>\n",
              "      <td>Romantic</td>\n",
              "    </tr>\n",
              "    <tr>\n",
              "      <th>24</th>\n",
              "      <td>Sci-fi movies</td>\n",
              "      <td>Sci-fi</td>\n",
              "    </tr>\n",
              "    <tr>\n",
              "      <th>25</th>\n",
              "      <td>War movies</td>\n",
              "      <td>War</td>\n",
              "    </tr>\n",
              "    <tr>\n",
              "      <th>26</th>\n",
              "      <td>Tales</td>\n",
              "      <td>Fantasy/Fairy tales</td>\n",
              "    </tr>\n",
              "    <tr>\n",
              "      <th>27</th>\n",
              "      <td>Cartoons</td>\n",
              "      <td>Animated</td>\n",
              "    </tr>\n",
              "    <tr>\n",
              "      <th>28</th>\n",
              "      <td>Documentaries</td>\n",
              "      <td>Documentary</td>\n",
              "    </tr>\n",
              "    <tr>\n",
              "      <th>29</th>\n",
              "      <td>Western movies</td>\n",
              "      <td>Western</td>\n",
              "    </tr>\n",
              "    <tr>\n",
              "      <th>30</th>\n",
              "      <td>Action movies</td>\n",
              "      <td>Action</td>\n",
              "    </tr>\n",
              "    <tr>\n",
              "      <th>31</th>\n",
              "      <td>History</td>\n",
              "      <td>History</td>\n",
              "    </tr>\n",
              "    <tr>\n",
              "      <th>32</th>\n",
              "      <td>Psychology</td>\n",
              "      <td>Psychology</td>\n",
              "    </tr>\n",
              "    <tr>\n",
              "      <th>33</th>\n",
              "      <td>Politics</td>\n",
              "      <td>Politics</td>\n",
              "    </tr>\n",
              "    <tr>\n",
              "      <th>34</th>\n",
              "      <td>Mathematics</td>\n",
              "      <td>Mathematics</td>\n",
              "    </tr>\n",
              "    <tr>\n",
              "      <th>35</th>\n",
              "      <td>Physics</td>\n",
              "      <td>Physics</td>\n",
              "    </tr>\n",
              "    <tr>\n",
              "      <th>36</th>\n",
              "      <td>Internet</td>\n",
              "      <td>Internet</td>\n",
              "    </tr>\n",
              "    <tr>\n",
              "      <th>37</th>\n",
              "      <td>PC Software, Hardware</td>\n",
              "      <td>PC</td>\n",
              "    </tr>\n",
              "    <tr>\n",
              "      <th>38</th>\n",
              "      <td>Economy, Management</td>\n",
              "      <td>Economy Management</td>\n",
              "    </tr>\n",
              "    <tr>\n",
              "      <th>39</th>\n",
              "      <td>Biology</td>\n",
              "      <td>Biology</td>\n",
              "    </tr>\n",
              "    <tr>\n",
              "      <th>40</th>\n",
              "      <td>Chemistry</td>\n",
              "      <td>Chemistry</td>\n",
              "    </tr>\n",
              "    <tr>\n",
              "      <th>41</th>\n",
              "      <td>Poetry reading</td>\n",
              "      <td>Reading</td>\n",
              "    </tr>\n",
              "    <tr>\n",
              "      <th>42</th>\n",
              "      <td>Geography</td>\n",
              "      <td>Geography</td>\n",
              "    </tr>\n",
              "    <tr>\n",
              "      <th>43</th>\n",
              "      <td>Foreign languages</td>\n",
              "      <td>Foreign languages</td>\n",
              "    </tr>\n",
              "    <tr>\n",
              "      <th>44</th>\n",
              "      <td>Medicine</td>\n",
              "      <td>Medicine</td>\n",
              "    </tr>\n",
              "    <tr>\n",
              "      <th>45</th>\n",
              "      <td>Law</td>\n",
              "      <td>Law</td>\n",
              "    </tr>\n",
              "    <tr>\n",
              "      <th>46</th>\n",
              "      <td>Cars</td>\n",
              "      <td>Cars</td>\n",
              "    </tr>\n",
              "    <tr>\n",
              "      <th>47</th>\n",
              "      <td>Art</td>\n",
              "      <td>Art exhibitions</td>\n",
              "    </tr>\n",
              "    <tr>\n",
              "      <th>48</th>\n",
              "      <td>Religion</td>\n",
              "      <td>Religion</td>\n",
              "    </tr>\n",
              "    <tr>\n",
              "      <th>49</th>\n",
              "      <td>Outdoor activities</td>\n",
              "      <td>Countryside, outdoors</td>\n",
              "    </tr>\n",
              "    <tr>\n",
              "      <th>50</th>\n",
              "      <td>Dancing</td>\n",
              "      <td>Dancing</td>\n",
              "    </tr>\n",
              "    <tr>\n",
              "      <th>51</th>\n",
              "      <td>Playing musical instruments</td>\n",
              "      <td>Musical instruments</td>\n",
              "    </tr>\n",
              "    <tr>\n",
              "      <th>52</th>\n",
              "      <td>Poetry writing</td>\n",
              "      <td>Writing</td>\n",
              "    </tr>\n",
              "    <tr>\n",
              "      <th>53</th>\n",
              "      <td>Sport and leisure activities</td>\n",
              "      <td>Passive sport</td>\n",
              "    </tr>\n",
              "    <tr>\n",
              "      <th>54</th>\n",
              "      <td>Sport at competitive level</td>\n",
              "      <td>Active sport</td>\n",
              "    </tr>\n",
              "    <tr>\n",
              "      <th>55</th>\n",
              "      <td>Gardening</td>\n",
              "      <td>Gardening</td>\n",
              "    </tr>\n",
              "    <tr>\n",
              "      <th>56</th>\n",
              "      <td>Celebrity lifestyle</td>\n",
              "      <td>Celebrities</td>\n",
              "    </tr>\n",
              "    <tr>\n",
              "      <th>57</th>\n",
              "      <td>Shopping</td>\n",
              "      <td>Shopping</td>\n",
              "    </tr>\n",
              "    <tr>\n",
              "      <th>58</th>\n",
              "      <td>Science and technology</td>\n",
              "      <td>Science and technology</td>\n",
              "    </tr>\n",
              "    <tr>\n",
              "      <th>59</th>\n",
              "      <td>Theatre</td>\n",
              "      <td>Theatre</td>\n",
              "    </tr>\n",
              "    <tr>\n",
              "      <th>60</th>\n",
              "      <td>Socializing</td>\n",
              "      <td>Fun with friends</td>\n",
              "    </tr>\n",
              "    <tr>\n",
              "      <th>61</th>\n",
              "      <td>Adrenaline sports</td>\n",
              "      <td>Adrenaline sports</td>\n",
              "    </tr>\n",
              "    <tr>\n",
              "      <th>62</th>\n",
              "      <td>Pets</td>\n",
              "      <td>Pets</td>\n",
              "    </tr>\n",
              "    <tr>\n",
              "      <th>63</th>\n",
              "      <td>Flying</td>\n",
              "      <td>Flying</td>\n",
              "    </tr>\n",
              "    <tr>\n",
              "      <th>64</th>\n",
              "      <td>Thunder, lightning</td>\n",
              "      <td>Storm</td>\n",
              "    </tr>\n",
              "    <tr>\n",
              "      <th>65</th>\n",
              "      <td>Darkness</td>\n",
              "      <td>Darkness</td>\n",
              "    </tr>\n",
              "    <tr>\n",
              "      <th>66</th>\n",
              "      <td>Heights</td>\n",
              "      <td>Heights</td>\n",
              "    </tr>\n",
              "    <tr>\n",
              "      <th>67</th>\n",
              "      <td>Spiders</td>\n",
              "      <td>Spiders</td>\n",
              "    </tr>\n",
              "    <tr>\n",
              "      <th>68</th>\n",
              "      <td>Snakes</td>\n",
              "      <td>Snakes</td>\n",
              "    </tr>\n",
              "    <tr>\n",
              "      <th>69</th>\n",
              "      <td>Rats, mice</td>\n",
              "      <td>Rats</td>\n",
              "    </tr>\n",
              "    <tr>\n",
              "      <th>70</th>\n",
              "      <td>Ageing</td>\n",
              "      <td>Ageing</td>\n",
              "    </tr>\n",
              "    <tr>\n",
              "      <th>71</th>\n",
              "      <td>Dangerous dogs</td>\n",
              "      <td>Dangerous dogs</td>\n",
              "    </tr>\n",
              "    <tr>\n",
              "      <th>72</th>\n",
              "      <td>Public speaking</td>\n",
              "      <td>Fear of public speaking</td>\n",
              "    </tr>\n",
              "    <tr>\n",
              "      <th>73</th>\n",
              "      <td>Smoking habits</td>\n",
              "      <td>Smoking</td>\n",
              "    </tr>\n",
              "    <tr>\n",
              "      <th>74</th>\n",
              "      <td>Drinking</td>\n",
              "      <td>Alcohol</td>\n",
              "    </tr>\n",
              "    <tr>\n",
              "      <th>75</th>\n",
              "      <td>I live a very healthy lifestyle.</td>\n",
              "      <td>Healthy eating</td>\n",
              "    </tr>\n",
              "    <tr>\n",
              "      <th>76</th>\n",
              "      <td>I take notice of what goes on around me.</td>\n",
              "      <td>Daily events</td>\n",
              "    </tr>\n",
              "    <tr>\n",
              "      <th>77</th>\n",
              "      <td>I try to do tasks as soon as possible and not ...</td>\n",
              "      <td>Prioritising workload</td>\n",
              "    </tr>\n",
              "    <tr>\n",
              "      <th>78</th>\n",
              "      <td>I always make a list so I don't forget anything.</td>\n",
              "      <td>Writing notes</td>\n",
              "    </tr>\n",
              "    <tr>\n",
              "      <th>79</th>\n",
              "      <td>I often study or work even in my spare time.</td>\n",
              "      <td>Workaholism</td>\n",
              "    </tr>\n",
              "    <tr>\n",
              "      <th>80</th>\n",
              "      <td>I look at things from all different angles bef...</td>\n",
              "      <td>Thinking ahead</td>\n",
              "    </tr>\n",
              "    <tr>\n",
              "      <th>81</th>\n",
              "      <td>I believe that bad people will suffer one day ...</td>\n",
              "      <td>Final judgement</td>\n",
              "    </tr>\n",
              "    <tr>\n",
              "      <th>82</th>\n",
              "      <td>I am reliable at work and always complete all ...</td>\n",
              "      <td>Reliability</td>\n",
              "    </tr>\n",
              "    <tr>\n",
              "      <th>83</th>\n",
              "      <td>I always keep my promises.</td>\n",
              "      <td>Keeping promises</td>\n",
              "    </tr>\n",
              "    <tr>\n",
              "      <th>84</th>\n",
              "      <td>I can fall for someone very quickly and then c...</td>\n",
              "      <td>Loss of interest</td>\n",
              "    </tr>\n",
              "    <tr>\n",
              "      <th>85</th>\n",
              "      <td>I would rather have lots of friends than lots ...</td>\n",
              "      <td>Friends versus money</td>\n",
              "    </tr>\n",
              "    <tr>\n",
              "      <th>86</th>\n",
              "      <td>I always try to be the funniest one.</td>\n",
              "      <td>Funniness</td>\n",
              "    </tr>\n",
              "    <tr>\n",
              "      <th>87</th>\n",
              "      <td>I can be two faced sometimes.</td>\n",
              "      <td>Fake</td>\n",
              "    </tr>\n",
              "    <tr>\n",
              "      <th>88</th>\n",
              "      <td>I damaged things in the past when angry.</td>\n",
              "      <td>Criminal damage</td>\n",
              "    </tr>\n",
              "    <tr>\n",
              "      <th>89</th>\n",
              "      <td>I take my time to make decisions.</td>\n",
              "      <td>Decision making</td>\n",
              "    </tr>\n",
              "    <tr>\n",
              "      <th>90</th>\n",
              "      <td>I always try to vote in elections.</td>\n",
              "      <td>Elections</td>\n",
              "    </tr>\n",
              "    <tr>\n",
              "      <th>91</th>\n",
              "      <td>I often think about and regret the decisions I...</td>\n",
              "      <td>Self-criticism</td>\n",
              "    </tr>\n",
              "    <tr>\n",
              "      <th>92</th>\n",
              "      <td>I can tell if people listen to me or not when ...</td>\n",
              "      <td>Judgment calls</td>\n",
              "    </tr>\n",
              "    <tr>\n",
              "      <th>93</th>\n",
              "      <td>I am a hypochondriac.</td>\n",
              "      <td>Hypochondria</td>\n",
              "    </tr>\n",
              "    <tr>\n",
              "      <th>94</th>\n",
              "      <td>I am emphatetic person.</td>\n",
              "      <td>Empathy</td>\n",
              "    </tr>\n",
              "    <tr>\n",
              "      <th>95</th>\n",
              "      <td>I eat because I have to. I don't enjoy food an...</td>\n",
              "      <td>Eating to survive</td>\n",
              "    </tr>\n",
              "    <tr>\n",
              "      <th>96</th>\n",
              "      <td>I try to give as much as I can to other people...</td>\n",
              "      <td>Giving</td>\n",
              "    </tr>\n",
              "    <tr>\n",
              "      <th>97</th>\n",
              "      <td>I don't like seeing animals suffering.</td>\n",
              "      <td>Compassion to animals</td>\n",
              "    </tr>\n",
              "    <tr>\n",
              "      <th>98</th>\n",
              "      <td>I look after things I have borrowed from others.</td>\n",
              "      <td>Borrowed stuff</td>\n",
              "    </tr>\n",
              "    <tr>\n",
              "      <th>99</th>\n",
              "      <td>I feel lonely in life.</td>\n",
              "      <td>Loneliness</td>\n",
              "    </tr>\n",
              "    <tr>\n",
              "      <th>100</th>\n",
              "      <td>I used to cheat at school.</td>\n",
              "      <td>Cheating in school</td>\n",
              "    </tr>\n",
              "    <tr>\n",
              "      <th>101</th>\n",
              "      <td>I worry about my health.</td>\n",
              "      <td>Health</td>\n",
              "    </tr>\n",
              "    <tr>\n",
              "      <th>102</th>\n",
              "      <td>I wish I could change the past because of the ...</td>\n",
              "      <td>Changing the past</td>\n",
              "    </tr>\n",
              "    <tr>\n",
              "      <th>103</th>\n",
              "      <td>I believe in God.</td>\n",
              "      <td>God</td>\n",
              "    </tr>\n",
              "    <tr>\n",
              "      <th>104</th>\n",
              "      <td>I always have good dreams.</td>\n",
              "      <td>Dreams</td>\n",
              "    </tr>\n",
              "    <tr>\n",
              "      <th>105</th>\n",
              "      <td>I always give to charity.</td>\n",
              "      <td>Charity</td>\n",
              "    </tr>\n",
              "    <tr>\n",
              "      <th>106</th>\n",
              "      <td>I have lots of friends.</td>\n",
              "      <td>Number of friends</td>\n",
              "    </tr>\n",
              "    <tr>\n",
              "      <th>107</th>\n",
              "      <td>Timekeeping.</td>\n",
              "      <td>Punctuality</td>\n",
              "    </tr>\n",
              "    <tr>\n",
              "      <th>108</th>\n",
              "      <td>Do you lie to others?</td>\n",
              "      <td>Lying</td>\n",
              "    </tr>\n",
              "    <tr>\n",
              "      <th>109</th>\n",
              "      <td>I am very patient.</td>\n",
              "      <td>Waiting</td>\n",
              "    </tr>\n",
              "    <tr>\n",
              "      <th>110</th>\n",
              "      <td>I can quickly adapt to a new environment.</td>\n",
              "      <td>New environment</td>\n",
              "    </tr>\n",
              "    <tr>\n",
              "      <th>111</th>\n",
              "      <td>My moods change quickly.</td>\n",
              "      <td>Mood swings</td>\n",
              "    </tr>\n",
              "    <tr>\n",
              "      <th>112</th>\n",
              "      <td>I am well mannered and I look after my appeara...</td>\n",
              "      <td>Appearence and gestures</td>\n",
              "    </tr>\n",
              "    <tr>\n",
              "      <th>113</th>\n",
              "      <td>I enjoy meeting new people.</td>\n",
              "      <td>Socializing</td>\n",
              "    </tr>\n",
              "    <tr>\n",
              "      <th>114</th>\n",
              "      <td>I always let other people know about my achiev...</td>\n",
              "      <td>Achievements</td>\n",
              "    </tr>\n",
              "    <tr>\n",
              "      <th>115</th>\n",
              "      <td>I think carefully before answering any importa...</td>\n",
              "      <td>Responding to a serious letter</td>\n",
              "    </tr>\n",
              "    <tr>\n",
              "      <th>116</th>\n",
              "      <td>I enjoy childrens' company.</td>\n",
              "      <td>Children</td>\n",
              "    </tr>\n",
              "    <tr>\n",
              "      <th>117</th>\n",
              "      <td>I am not afraid to give my opinion if I feel s...</td>\n",
              "      <td>Assertiveness</td>\n",
              "    </tr>\n",
              "    <tr>\n",
              "      <th>118</th>\n",
              "      <td>I can get angry very easily.</td>\n",
              "      <td>Getting angry</td>\n",
              "    </tr>\n",
              "    <tr>\n",
              "      <th>119</th>\n",
              "      <td>I always make sure I connect with the right pe...</td>\n",
              "      <td>Knowing the right people</td>\n",
              "    </tr>\n",
              "    <tr>\n",
              "      <th>120</th>\n",
              "      <td>I have to be well prepared before public speak...</td>\n",
              "      <td>Public speaking</td>\n",
              "    </tr>\n",
              "    <tr>\n",
              "      <th>121</th>\n",
              "      <td>I will find a fault in myself if people don't ...</td>\n",
              "      <td>Unpopularity</td>\n",
              "    </tr>\n",
              "    <tr>\n",
              "      <th>122</th>\n",
              "      <td>I cry when I feel down or things don't go the ...</td>\n",
              "      <td>Life struggles</td>\n",
              "    </tr>\n",
              "    <tr>\n",
              "      <th>123</th>\n",
              "      <td>I am 100% happy with my life.</td>\n",
              "      <td>Happiness in life</td>\n",
              "    </tr>\n",
              "    <tr>\n",
              "      <th>124</th>\n",
              "      <td>I am always full of life and energy.</td>\n",
              "      <td>Energy levels</td>\n",
              "    </tr>\n",
              "    <tr>\n",
              "      <th>125</th>\n",
              "      <td>I prefer big dangerous dogs to smaller, calmer...</td>\n",
              "      <td>Small - big dogs</td>\n",
              "    </tr>\n",
              "    <tr>\n",
              "      <th>126</th>\n",
              "      <td>I believe all my personality traits are positive.</td>\n",
              "      <td>Personality</td>\n",
              "    </tr>\n",
              "    <tr>\n",
              "      <th>127</th>\n",
              "      <td>If I find something the doesn't belong to me I...</td>\n",
              "      <td>Finding lost valuables</td>\n",
              "    </tr>\n",
              "    <tr>\n",
              "      <th>128</th>\n",
              "      <td>I find it very difficult to get up in the morn...</td>\n",
              "      <td>Getting up</td>\n",
              "    </tr>\n",
              "    <tr>\n",
              "      <th>129</th>\n",
              "      <td>I have many different hobbies and interests.</td>\n",
              "      <td>Interests or hobbies</td>\n",
              "    </tr>\n",
              "    <tr>\n",
              "      <th>130</th>\n",
              "      <td>I always listen to my parents' advice.</td>\n",
              "      <td>Parents' advice</td>\n",
              "    </tr>\n",
              "    <tr>\n",
              "      <th>131</th>\n",
              "      <td>I enjoy taking part in surveys.</td>\n",
              "      <td>Questionnaires or polls</td>\n",
              "    </tr>\n",
              "    <tr>\n",
              "      <th>132</th>\n",
              "      <td>How much time do you spend online?</td>\n",
              "      <td>Internet usage</td>\n",
              "    </tr>\n",
              "    <tr>\n",
              "      <th>133</th>\n",
              "      <td>I save all the money I can.</td>\n",
              "      <td>Finances</td>\n",
              "    </tr>\n",
              "    <tr>\n",
              "      <th>134</th>\n",
              "      <td>I enjoy going to large shopping centres.</td>\n",
              "      <td>Shopping centres</td>\n",
              "    </tr>\n",
              "    <tr>\n",
              "      <th>135</th>\n",
              "      <td>I prefer branded clothing to non branded.</td>\n",
              "      <td>Branded clothing</td>\n",
              "    </tr>\n",
              "    <tr>\n",
              "      <th>136</th>\n",
              "      <td>I spend a lot of money on  partying and social...</td>\n",
              "      <td>Entertainment spending</td>\n",
              "    </tr>\n",
              "    <tr>\n",
              "      <th>137</th>\n",
              "      <td>I spend a lot of money on my appearance.</td>\n",
              "      <td>Spending on looks</td>\n",
              "    </tr>\n",
              "    <tr>\n",
              "      <th>138</th>\n",
              "      <td>I spend a lot of money on gadgets.</td>\n",
              "      <td>Spending on gadgets</td>\n",
              "    </tr>\n",
              "    <tr>\n",
              "      <th>139</th>\n",
              "      <td>I will hapilly pay more money for good, qualit...</td>\n",
              "      <td>Spending on healthy eating</td>\n",
              "    </tr>\n",
              "    <tr>\n",
              "      <th>140</th>\n",
              "      <td>Age</td>\n",
              "      <td>Age</td>\n",
              "    </tr>\n",
              "    <tr>\n",
              "      <th>141</th>\n",
              "      <td>Height</td>\n",
              "      <td>Height</td>\n",
              "    </tr>\n",
              "    <tr>\n",
              "      <th>142</th>\n",
              "      <td>Weight</td>\n",
              "      <td>Weight</td>\n",
              "    </tr>\n",
              "    <tr>\n",
              "      <th>143</th>\n",
              "      <td>How many siblings do you have?</td>\n",
              "      <td>Number of siblings</td>\n",
              "    </tr>\n",
              "    <tr>\n",
              "      <th>144</th>\n",
              "      <td>Gender</td>\n",
              "      <td>Gender</td>\n",
              "    </tr>\n",
              "    <tr>\n",
              "      <th>145</th>\n",
              "      <td>I am</td>\n",
              "      <td>Left - right handed</td>\n",
              "    </tr>\n",
              "    <tr>\n",
              "      <th>146</th>\n",
              "      <td>Highest education achieved</td>\n",
              "      <td>Education</td>\n",
              "    </tr>\n",
              "    <tr>\n",
              "      <th>147</th>\n",
              "      <td>I am the only child</td>\n",
              "      <td>Only child</td>\n",
              "    </tr>\n",
              "    <tr>\n",
              "      <th>148</th>\n",
              "      <td>I spent most of my childhood in a</td>\n",
              "      <td>Village - town</td>\n",
              "    </tr>\n",
              "    <tr>\n",
              "      <th>149</th>\n",
              "      <td>I lived most of my childhood in a</td>\n",
              "      <td>House - block of flats</td>\n",
              "    </tr>\n",
              "  </tbody>\n",
              "</table>\n",
              "</div>"
            ],
            "text/plain": [
              "                                              original                           short\n",
              "0                          I enjoy listening to music.                           Music\n",
              "1                                            I prefer.        Slow songs or fast songs\n",
              "2                                   Dance, Disco, Funk                           Dance\n",
              "3                                           Folk music                            Folk\n",
              "4                                              Country                         Country\n",
              "5                                            Classical                 Classical music\n",
              "6                                             Musicals                         Musical\n",
              "7                                                  Pop                             Pop\n",
              "8                                                 Rock                            Rock\n",
              "9                                     Metal, Hard rock               Metal or Hardrock\n",
              "10                                                Punk                            Punk\n",
              "11                                        Hip hop, Rap                     Hiphop, Rap\n",
              "12                                         Reggae, Ska                     Reggae, Ska\n",
              "13                                         Swing, Jazz                     Swing, Jazz\n",
              "14                                         Rock n Roll                     Rock n roll\n",
              "15                                   Alternative music                     Alternative\n",
              "16                                               Latin                          Latino\n",
              "17                                      Techno, Trance                  Techno, Trance\n",
              "18                                               Opera                           Opera\n",
              "19                     I really enjoy watching movies.                          Movies\n",
              "20                                       Horror movies                          Horror\n",
              "21                                     Thriller movies                        Thriller\n",
              "22                                            Comedies                          Comedy\n",
              "23                                     Romantic movies                        Romantic\n",
              "24                                       Sci-fi movies                          Sci-fi\n",
              "25                                          War movies                             War\n",
              "26                                               Tales             Fantasy/Fairy tales\n",
              "27                                            Cartoons                        Animated\n",
              "28                                       Documentaries                     Documentary\n",
              "29                                      Western movies                         Western\n",
              "30                                       Action movies                          Action\n",
              "31                                             History                         History\n",
              "32                                          Psychology                      Psychology\n",
              "33                                            Politics                        Politics\n",
              "34                                         Mathematics                     Mathematics\n",
              "35                                             Physics                         Physics\n",
              "36                                            Internet                        Internet\n",
              "37                               PC Software, Hardware                              PC\n",
              "38                                 Economy, Management              Economy Management\n",
              "39                                             Biology                         Biology\n",
              "40                                           Chemistry                       Chemistry\n",
              "41                                      Poetry reading                         Reading\n",
              "42                                           Geography                       Geography\n",
              "43                                   Foreign languages               Foreign languages\n",
              "44                                            Medicine                        Medicine\n",
              "45                                                 Law                             Law\n",
              "46                                                Cars                            Cars\n",
              "47                                                 Art                 Art exhibitions\n",
              "48                                            Religion                        Religion\n",
              "49                                  Outdoor activities           Countryside, outdoors\n",
              "50                                             Dancing                         Dancing\n",
              "51                         Playing musical instruments             Musical instruments\n",
              "52                                      Poetry writing                         Writing\n",
              "53                        Sport and leisure activities                   Passive sport\n",
              "54                          Sport at competitive level                    Active sport\n",
              "55                                           Gardening                       Gardening\n",
              "56                                 Celebrity lifestyle                     Celebrities\n",
              "57                                            Shopping                        Shopping\n",
              "58                              Science and technology          Science and technology\n",
              "59                                             Theatre                         Theatre\n",
              "60                                         Socializing                Fun with friends\n",
              "61                                   Adrenaline sports               Adrenaline sports\n",
              "62                                                Pets                            Pets\n",
              "63                                              Flying                          Flying\n",
              "64                                  Thunder, lightning                           Storm\n",
              "65                                            Darkness                        Darkness\n",
              "66                                             Heights                         Heights\n",
              "67                                             Spiders                         Spiders\n",
              "68                                              Snakes                          Snakes\n",
              "69                                          Rats, mice                            Rats\n",
              "70                                              Ageing                          Ageing\n",
              "71                                      Dangerous dogs                  Dangerous dogs\n",
              "72                                     Public speaking         Fear of public speaking\n",
              "73                                      Smoking habits                         Smoking\n",
              "74                                            Drinking                         Alcohol\n",
              "75                    I live a very healthy lifestyle.                  Healthy eating\n",
              "76            I take notice of what goes on around me.                    Daily events\n",
              "77   I try to do tasks as soon as possible and not ...           Prioritising workload\n",
              "78    I always make a list so I don't forget anything.                   Writing notes\n",
              "79        I often study or work even in my spare time.                     Workaholism\n",
              "80   I look at things from all different angles bef...                  Thinking ahead\n",
              "81   I believe that bad people will suffer one day ...                 Final judgement\n",
              "82   I am reliable at work and always complete all ...                     Reliability\n",
              "83                          I always keep my promises.                Keeping promises\n",
              "84   I can fall for someone very quickly and then c...                Loss of interest\n",
              "85   I would rather have lots of friends than lots ...            Friends versus money\n",
              "86                I always try to be the funniest one.                       Funniness\n",
              "87                       I can be two faced sometimes.                            Fake\n",
              "88            I damaged things in the past when angry.                 Criminal damage\n",
              "89                   I take my time to make decisions.                 Decision making\n",
              "90                  I always try to vote in elections.                       Elections\n",
              "91   I often think about and regret the decisions I...                  Self-criticism\n",
              "92   I can tell if people listen to me or not when ...                  Judgment calls\n",
              "93                               I am a hypochondriac.                    Hypochondria\n",
              "94                             I am emphatetic person.                         Empathy\n",
              "95   I eat because I have to. I don't enjoy food an...               Eating to survive\n",
              "96   I try to give as much as I can to other people...                          Giving\n",
              "97              I don't like seeing animals suffering.           Compassion to animals\n",
              "98    I look after things I have borrowed from others.                  Borrowed stuff\n",
              "99                              I feel lonely in life.                      Loneliness\n",
              "100                         I used to cheat at school.              Cheating in school\n",
              "101                           I worry about my health.                          Health\n",
              "102  I wish I could change the past because of the ...               Changing the past\n",
              "103                                  I believe in God.                             God\n",
              "104                         I always have good dreams.                          Dreams\n",
              "105                          I always give to charity.                         Charity\n",
              "106                            I have lots of friends.               Number of friends\n",
              "107                                       Timekeeping.                     Punctuality\n",
              "108                              Do you lie to others?                           Lying\n",
              "109                                 I am very patient.                         Waiting\n",
              "110          I can quickly adapt to a new environment.                 New environment\n",
              "111                           My moods change quickly.                     Mood swings\n",
              "112  I am well mannered and I look after my appeara...         Appearence and gestures\n",
              "113                        I enjoy meeting new people.                     Socializing\n",
              "114  I always let other people know about my achiev...                    Achievements\n",
              "115  I think carefully before answering any importa...  Responding to a serious letter\n",
              "116                        I enjoy childrens' company.                        Children\n",
              "117  I am not afraid to give my opinion if I feel s...                   Assertiveness\n",
              "118                       I can get angry very easily.                   Getting angry\n",
              "119  I always make sure I connect with the right pe...        Knowing the right people\n",
              "120  I have to be well prepared before public speak...                 Public speaking\n",
              "121  I will find a fault in myself if people don't ...                    Unpopularity\n",
              "122  I cry when I feel down or things don't go the ...                  Life struggles\n",
              "123                      I am 100% happy with my life.               Happiness in life\n",
              "124               I am always full of life and energy.                   Energy levels\n",
              "125  I prefer big dangerous dogs to smaller, calmer...                Small - big dogs\n",
              "126  I believe all my personality traits are positive.                     Personality\n",
              "127  If I find something the doesn't belong to me I...          Finding lost valuables\n",
              "128  I find it very difficult to get up in the morn...                      Getting up\n",
              "129       I have many different hobbies and interests.            Interests or hobbies\n",
              "130             I always listen to my parents' advice.                 Parents' advice\n",
              "131                    I enjoy taking part in surveys.         Questionnaires or polls\n",
              "132                 How much time do you spend online?                  Internet usage\n",
              "133                        I save all the money I can.                        Finances\n",
              "134           I enjoy going to large shopping centres.                Shopping centres\n",
              "135          I prefer branded clothing to non branded.                Branded clothing\n",
              "136  I spend a lot of money on  partying and social...          Entertainment spending\n",
              "137           I spend a lot of money on my appearance.               Spending on looks\n",
              "138                 I spend a lot of money on gadgets.             Spending on gadgets\n",
              "139  I will hapilly pay more money for good, qualit...      Spending on healthy eating\n",
              "140                                                Age                             Age\n",
              "141                                             Height                          Height\n",
              "142                                             Weight                          Weight\n",
              "143                     How many siblings do you have?              Number of siblings\n",
              "144                                             Gender                          Gender\n",
              "145                                               I am             Left - right handed\n",
              "146                         Highest education achieved                       Education\n",
              "147                                I am the only child                      Only child\n",
              "148                  I spent most of my childhood in a                  Village - town\n",
              "149                  I lived most of my childhood in a          House - block of flats"
            ]
          },
          "metadata": {
            "tags": []
          },
          "execution_count": 65
        }
      ]
    },
    {
      "cell_type": "markdown",
      "metadata": {
        "id": "ofncx4FzVfyP"
      },
      "source": [
        "***"
      ]
    },
    {
      "cell_type": "code",
      "metadata": {
        "id": "QXi_0dsgVfyS"
      },
      "source": [
        "df = pd.read_csv(io.BytesIO(uploaded['responses.csv']))"
      ],
      "execution_count": 66,
      "outputs": []
    },
    {
      "cell_type": "code",
      "metadata": {
        "id": "q1d9N9hLVfyZ",
        "colab": {
          "base_uri": "https://localhost:8080/",
          "height": 412
        },
        "outputId": "81d64184-c798-4db4-c4f3-a3cd2caef45b"
      },
      "source": [
        "df.head()"
      ],
      "execution_count": 67,
      "outputs": [
        {
          "output_type": "execute_result",
          "data": {
            "text/html": [
              "<div>\n",
              "<style scoped>\n",
              "    .dataframe tbody tr th:only-of-type {\n",
              "        vertical-align: middle;\n",
              "    }\n",
              "\n",
              "    .dataframe tbody tr th {\n",
              "        vertical-align: top;\n",
              "    }\n",
              "\n",
              "    .dataframe thead th {\n",
              "        text-align: right;\n",
              "    }\n",
              "</style>\n",
              "<table border=\"1\" class=\"dataframe\">\n",
              "  <thead>\n",
              "    <tr style=\"text-align: right;\">\n",
              "      <th></th>\n",
              "      <th>Music</th>\n",
              "      <th>Slow songs or fast songs</th>\n",
              "      <th>Dance</th>\n",
              "      <th>Folk</th>\n",
              "      <th>Country</th>\n",
              "      <th>Classical music</th>\n",
              "      <th>Musical</th>\n",
              "      <th>Pop</th>\n",
              "      <th>Rock</th>\n",
              "      <th>Metal or Hardrock</th>\n",
              "      <th>Punk</th>\n",
              "      <th>Hiphop, Rap</th>\n",
              "      <th>Reggae, Ska</th>\n",
              "      <th>Swing, Jazz</th>\n",
              "      <th>Rock n roll</th>\n",
              "      <th>Alternative</th>\n",
              "      <th>Latino</th>\n",
              "      <th>Techno, Trance</th>\n",
              "      <th>Opera</th>\n",
              "      <th>Movies</th>\n",
              "      <th>Horror</th>\n",
              "      <th>Thriller</th>\n",
              "      <th>Comedy</th>\n",
              "      <th>Romantic</th>\n",
              "      <th>Sci-fi</th>\n",
              "      <th>War</th>\n",
              "      <th>Fantasy/Fairy tales</th>\n",
              "      <th>Animated</th>\n",
              "      <th>Documentary</th>\n",
              "      <th>Western</th>\n",
              "      <th>Action</th>\n",
              "      <th>History</th>\n",
              "      <th>Psychology</th>\n",
              "      <th>Politics</th>\n",
              "      <th>Mathematics</th>\n",
              "      <th>Physics</th>\n",
              "      <th>Internet</th>\n",
              "      <th>PC</th>\n",
              "      <th>Economy Management</th>\n",
              "      <th>Biology</th>\n",
              "      <th>...</th>\n",
              "      <th>New environment</th>\n",
              "      <th>Mood swings</th>\n",
              "      <th>Appearence and gestures</th>\n",
              "      <th>Socializing</th>\n",
              "      <th>Achievements</th>\n",
              "      <th>Responding to a serious letter</th>\n",
              "      <th>Children</th>\n",
              "      <th>Assertiveness</th>\n",
              "      <th>Getting angry</th>\n",
              "      <th>Knowing the right people</th>\n",
              "      <th>Public speaking</th>\n",
              "      <th>Unpopularity</th>\n",
              "      <th>Life struggles</th>\n",
              "      <th>Happiness in life</th>\n",
              "      <th>Energy levels</th>\n",
              "      <th>Small - big dogs</th>\n",
              "      <th>Personality</th>\n",
              "      <th>Finding lost valuables</th>\n",
              "      <th>Getting up</th>\n",
              "      <th>Interests or hobbies</th>\n",
              "      <th>Parents' advice</th>\n",
              "      <th>Questionnaires or polls</th>\n",
              "      <th>Internet usage</th>\n",
              "      <th>Finances</th>\n",
              "      <th>Shopping centres</th>\n",
              "      <th>Branded clothing</th>\n",
              "      <th>Entertainment spending</th>\n",
              "      <th>Spending on looks</th>\n",
              "      <th>Spending on gadgets</th>\n",
              "      <th>Spending on healthy eating</th>\n",
              "      <th>Age</th>\n",
              "      <th>Height</th>\n",
              "      <th>Weight</th>\n",
              "      <th>Number of siblings</th>\n",
              "      <th>Gender</th>\n",
              "      <th>Left - right handed</th>\n",
              "      <th>Education</th>\n",
              "      <th>Only child</th>\n",
              "      <th>Village - town</th>\n",
              "      <th>House - block of flats</th>\n",
              "    </tr>\n",
              "  </thead>\n",
              "  <tbody>\n",
              "    <tr>\n",
              "      <th>0</th>\n",
              "      <td>5.0</td>\n",
              "      <td>3.0</td>\n",
              "      <td>2.0</td>\n",
              "      <td>1.0</td>\n",
              "      <td>2.0</td>\n",
              "      <td>2.0</td>\n",
              "      <td>1.0</td>\n",
              "      <td>5.0</td>\n",
              "      <td>5.0</td>\n",
              "      <td>1.0</td>\n",
              "      <td>1.0</td>\n",
              "      <td>1.0</td>\n",
              "      <td>1.0</td>\n",
              "      <td>1.0</td>\n",
              "      <td>3.0</td>\n",
              "      <td>1.0</td>\n",
              "      <td>1.0</td>\n",
              "      <td>1.0</td>\n",
              "      <td>1.0</td>\n",
              "      <td>5.0</td>\n",
              "      <td>4.0</td>\n",
              "      <td>2.0</td>\n",
              "      <td>5.0</td>\n",
              "      <td>4.0</td>\n",
              "      <td>4.0</td>\n",
              "      <td>1.0</td>\n",
              "      <td>5.0</td>\n",
              "      <td>5.0</td>\n",
              "      <td>3.0</td>\n",
              "      <td>1.0</td>\n",
              "      <td>2.0</td>\n",
              "      <td>1.0</td>\n",
              "      <td>5.0</td>\n",
              "      <td>1.0</td>\n",
              "      <td>3.0</td>\n",
              "      <td>3.0</td>\n",
              "      <td>5.0</td>\n",
              "      <td>3.0</td>\n",
              "      <td>5.0</td>\n",
              "      <td>3.0</td>\n",
              "      <td>...</td>\n",
              "      <td>4.0</td>\n",
              "      <td>3.0</td>\n",
              "      <td>4.0</td>\n",
              "      <td>3.0</td>\n",
              "      <td>4.0</td>\n",
              "      <td>3.0</td>\n",
              "      <td>5.0</td>\n",
              "      <td>1.0</td>\n",
              "      <td>1.0</td>\n",
              "      <td>3.0</td>\n",
              "      <td>5.0</td>\n",
              "      <td>5.0</td>\n",
              "      <td>1.0</td>\n",
              "      <td>4.0</td>\n",
              "      <td>5.0</td>\n",
              "      <td>1.0</td>\n",
              "      <td>4.0</td>\n",
              "      <td>3.0</td>\n",
              "      <td>2.0</td>\n",
              "      <td>3.0</td>\n",
              "      <td>4.0</td>\n",
              "      <td>3.0</td>\n",
              "      <td>few hours a day</td>\n",
              "      <td>3.0</td>\n",
              "      <td>4.0</td>\n",
              "      <td>5.0</td>\n",
              "      <td>3.0</td>\n",
              "      <td>3.0</td>\n",
              "      <td>1</td>\n",
              "      <td>3.0</td>\n",
              "      <td>20.0</td>\n",
              "      <td>163.0</td>\n",
              "      <td>48.0</td>\n",
              "      <td>1.0</td>\n",
              "      <td>female</td>\n",
              "      <td>right handed</td>\n",
              "      <td>college/bachelor degree</td>\n",
              "      <td>no</td>\n",
              "      <td>village</td>\n",
              "      <td>block of flats</td>\n",
              "    </tr>\n",
              "    <tr>\n",
              "      <th>1</th>\n",
              "      <td>4.0</td>\n",
              "      <td>4.0</td>\n",
              "      <td>2.0</td>\n",
              "      <td>1.0</td>\n",
              "      <td>1.0</td>\n",
              "      <td>1.0</td>\n",
              "      <td>2.0</td>\n",
              "      <td>3.0</td>\n",
              "      <td>5.0</td>\n",
              "      <td>4.0</td>\n",
              "      <td>4.0</td>\n",
              "      <td>1.0</td>\n",
              "      <td>3.0</td>\n",
              "      <td>1.0</td>\n",
              "      <td>4.0</td>\n",
              "      <td>4.0</td>\n",
              "      <td>2.0</td>\n",
              "      <td>1.0</td>\n",
              "      <td>1.0</td>\n",
              "      <td>5.0</td>\n",
              "      <td>2.0</td>\n",
              "      <td>2.0</td>\n",
              "      <td>4.0</td>\n",
              "      <td>3.0</td>\n",
              "      <td>4.0</td>\n",
              "      <td>1.0</td>\n",
              "      <td>3.0</td>\n",
              "      <td>5.0</td>\n",
              "      <td>4.0</td>\n",
              "      <td>1.0</td>\n",
              "      <td>4.0</td>\n",
              "      <td>1.0</td>\n",
              "      <td>3.0</td>\n",
              "      <td>4.0</td>\n",
              "      <td>5.0</td>\n",
              "      <td>2.0</td>\n",
              "      <td>4.0</td>\n",
              "      <td>4.0</td>\n",
              "      <td>5.0</td>\n",
              "      <td>1.0</td>\n",
              "      <td>...</td>\n",
              "      <td>4.0</td>\n",
              "      <td>4.0</td>\n",
              "      <td>4.0</td>\n",
              "      <td>4.0</td>\n",
              "      <td>2.0</td>\n",
              "      <td>4.0</td>\n",
              "      <td>2.0</td>\n",
              "      <td>2.0</td>\n",
              "      <td>5.0</td>\n",
              "      <td>4.0</td>\n",
              "      <td>4.0</td>\n",
              "      <td>4.0</td>\n",
              "      <td>1.0</td>\n",
              "      <td>4.0</td>\n",
              "      <td>3.0</td>\n",
              "      <td>5.0</td>\n",
              "      <td>3.0</td>\n",
              "      <td>4.0</td>\n",
              "      <td>5.0</td>\n",
              "      <td>3.0</td>\n",
              "      <td>2.0</td>\n",
              "      <td>3.0</td>\n",
              "      <td>few hours a day</td>\n",
              "      <td>3.0</td>\n",
              "      <td>4.0</td>\n",
              "      <td>1.0</td>\n",
              "      <td>4.0</td>\n",
              "      <td>2.0</td>\n",
              "      <td>5</td>\n",
              "      <td>2.0</td>\n",
              "      <td>19.0</td>\n",
              "      <td>163.0</td>\n",
              "      <td>58.0</td>\n",
              "      <td>2.0</td>\n",
              "      <td>female</td>\n",
              "      <td>right handed</td>\n",
              "      <td>college/bachelor degree</td>\n",
              "      <td>no</td>\n",
              "      <td>city</td>\n",
              "      <td>block of flats</td>\n",
              "    </tr>\n",
              "    <tr>\n",
              "      <th>2</th>\n",
              "      <td>5.0</td>\n",
              "      <td>5.0</td>\n",
              "      <td>2.0</td>\n",
              "      <td>2.0</td>\n",
              "      <td>3.0</td>\n",
              "      <td>4.0</td>\n",
              "      <td>5.0</td>\n",
              "      <td>3.0</td>\n",
              "      <td>5.0</td>\n",
              "      <td>3.0</td>\n",
              "      <td>4.0</td>\n",
              "      <td>1.0</td>\n",
              "      <td>4.0</td>\n",
              "      <td>3.0</td>\n",
              "      <td>5.0</td>\n",
              "      <td>5.0</td>\n",
              "      <td>5.0</td>\n",
              "      <td>1.0</td>\n",
              "      <td>3.0</td>\n",
              "      <td>5.0</td>\n",
              "      <td>3.0</td>\n",
              "      <td>4.0</td>\n",
              "      <td>4.0</td>\n",
              "      <td>2.0</td>\n",
              "      <td>4.0</td>\n",
              "      <td>2.0</td>\n",
              "      <td>5.0</td>\n",
              "      <td>5.0</td>\n",
              "      <td>2.0</td>\n",
              "      <td>2.0</td>\n",
              "      <td>1.0</td>\n",
              "      <td>1.0</td>\n",
              "      <td>2.0</td>\n",
              "      <td>1.0</td>\n",
              "      <td>5.0</td>\n",
              "      <td>2.0</td>\n",
              "      <td>4.0</td>\n",
              "      <td>2.0</td>\n",
              "      <td>4.0</td>\n",
              "      <td>1.0</td>\n",
              "      <td>...</td>\n",
              "      <td>3.0</td>\n",
              "      <td>4.0</td>\n",
              "      <td>3.0</td>\n",
              "      <td>5.0</td>\n",
              "      <td>3.0</td>\n",
              "      <td>4.0</td>\n",
              "      <td>4.0</td>\n",
              "      <td>3.0</td>\n",
              "      <td>4.0</td>\n",
              "      <td>3.0</td>\n",
              "      <td>2.0</td>\n",
              "      <td>4.0</td>\n",
              "      <td>4.0</td>\n",
              "      <td>4.0</td>\n",
              "      <td>4.0</td>\n",
              "      <td>3.0</td>\n",
              "      <td>3.0</td>\n",
              "      <td>3.0</td>\n",
              "      <td>4.0</td>\n",
              "      <td>5.0</td>\n",
              "      <td>3.0</td>\n",
              "      <td>1.0</td>\n",
              "      <td>few hours a day</td>\n",
              "      <td>2.0</td>\n",
              "      <td>4.0</td>\n",
              "      <td>1.0</td>\n",
              "      <td>4.0</td>\n",
              "      <td>3.0</td>\n",
              "      <td>4</td>\n",
              "      <td>2.0</td>\n",
              "      <td>20.0</td>\n",
              "      <td>176.0</td>\n",
              "      <td>67.0</td>\n",
              "      <td>2.0</td>\n",
              "      <td>female</td>\n",
              "      <td>right handed</td>\n",
              "      <td>secondary school</td>\n",
              "      <td>no</td>\n",
              "      <td>city</td>\n",
              "      <td>block of flats</td>\n",
              "    </tr>\n",
              "    <tr>\n",
              "      <th>3</th>\n",
              "      <td>5.0</td>\n",
              "      <td>3.0</td>\n",
              "      <td>2.0</td>\n",
              "      <td>1.0</td>\n",
              "      <td>1.0</td>\n",
              "      <td>1.0</td>\n",
              "      <td>1.0</td>\n",
              "      <td>2.0</td>\n",
              "      <td>2.0</td>\n",
              "      <td>1.0</td>\n",
              "      <td>4.0</td>\n",
              "      <td>2.0</td>\n",
              "      <td>2.0</td>\n",
              "      <td>1.0</td>\n",
              "      <td>2.0</td>\n",
              "      <td>5.0</td>\n",
              "      <td>1.0</td>\n",
              "      <td>2.0</td>\n",
              "      <td>1.0</td>\n",
              "      <td>5.0</td>\n",
              "      <td>4.0</td>\n",
              "      <td>4.0</td>\n",
              "      <td>3.0</td>\n",
              "      <td>3.0</td>\n",
              "      <td>4.0</td>\n",
              "      <td>3.0</td>\n",
              "      <td>1.0</td>\n",
              "      <td>2.0</td>\n",
              "      <td>5.0</td>\n",
              "      <td>1.0</td>\n",
              "      <td>2.0</td>\n",
              "      <td>4.0</td>\n",
              "      <td>4.0</td>\n",
              "      <td>5.0</td>\n",
              "      <td>4.0</td>\n",
              "      <td>1.0</td>\n",
              "      <td>3.0</td>\n",
              "      <td>1.0</td>\n",
              "      <td>2.0</td>\n",
              "      <td>3.0</td>\n",
              "      <td>...</td>\n",
              "      <td>1.0</td>\n",
              "      <td>5.0</td>\n",
              "      <td>3.0</td>\n",
              "      <td>1.0</td>\n",
              "      <td>3.0</td>\n",
              "      <td>3.0</td>\n",
              "      <td>2.0</td>\n",
              "      <td>5.0</td>\n",
              "      <td>5.0</td>\n",
              "      <td>4.0</td>\n",
              "      <td>5.0</td>\n",
              "      <td>3.0</td>\n",
              "      <td>3.0</td>\n",
              "      <td>2.0</td>\n",
              "      <td>2.0</td>\n",
              "      <td>1.0</td>\n",
              "      <td>2.0</td>\n",
              "      <td>1.0</td>\n",
              "      <td>1.0</td>\n",
              "      <td>NaN</td>\n",
              "      <td>2.0</td>\n",
              "      <td>4.0</td>\n",
              "      <td>most of the day</td>\n",
              "      <td>2.0</td>\n",
              "      <td>4.0</td>\n",
              "      <td>3.0</td>\n",
              "      <td>3.0</td>\n",
              "      <td>4.0</td>\n",
              "      <td>4</td>\n",
              "      <td>1.0</td>\n",
              "      <td>22.0</td>\n",
              "      <td>172.0</td>\n",
              "      <td>59.0</td>\n",
              "      <td>1.0</td>\n",
              "      <td>female</td>\n",
              "      <td>right handed</td>\n",
              "      <td>college/bachelor degree</td>\n",
              "      <td>yes</td>\n",
              "      <td>city</td>\n",
              "      <td>house/bungalow</td>\n",
              "    </tr>\n",
              "    <tr>\n",
              "      <th>4</th>\n",
              "      <td>5.0</td>\n",
              "      <td>3.0</td>\n",
              "      <td>4.0</td>\n",
              "      <td>3.0</td>\n",
              "      <td>2.0</td>\n",
              "      <td>4.0</td>\n",
              "      <td>3.0</td>\n",
              "      <td>5.0</td>\n",
              "      <td>3.0</td>\n",
              "      <td>1.0</td>\n",
              "      <td>2.0</td>\n",
              "      <td>5.0</td>\n",
              "      <td>3.0</td>\n",
              "      <td>2.0</td>\n",
              "      <td>1.0</td>\n",
              "      <td>2.0</td>\n",
              "      <td>4.0</td>\n",
              "      <td>2.0</td>\n",
              "      <td>2.0</td>\n",
              "      <td>5.0</td>\n",
              "      <td>4.0</td>\n",
              "      <td>4.0</td>\n",
              "      <td>5.0</td>\n",
              "      <td>2.0</td>\n",
              "      <td>3.0</td>\n",
              "      <td>3.0</td>\n",
              "      <td>4.0</td>\n",
              "      <td>4.0</td>\n",
              "      <td>3.0</td>\n",
              "      <td>1.0</td>\n",
              "      <td>4.0</td>\n",
              "      <td>3.0</td>\n",
              "      <td>2.0</td>\n",
              "      <td>3.0</td>\n",
              "      <td>2.0</td>\n",
              "      <td>2.0</td>\n",
              "      <td>2.0</td>\n",
              "      <td>2.0</td>\n",
              "      <td>2.0</td>\n",
              "      <td>3.0</td>\n",
              "      <td>...</td>\n",
              "      <td>4.0</td>\n",
              "      <td>2.0</td>\n",
              "      <td>3.0</td>\n",
              "      <td>3.0</td>\n",
              "      <td>3.0</td>\n",
              "      <td>3.0</td>\n",
              "      <td>5.0</td>\n",
              "      <td>4.0</td>\n",
              "      <td>2.0</td>\n",
              "      <td>3.0</td>\n",
              "      <td>5.0</td>\n",
              "      <td>5.0</td>\n",
              "      <td>2.0</td>\n",
              "      <td>3.0</td>\n",
              "      <td>5.0</td>\n",
              "      <td>3.0</td>\n",
              "      <td>3.0</td>\n",
              "      <td>2.0</td>\n",
              "      <td>4.0</td>\n",
              "      <td>3.0</td>\n",
              "      <td>3.0</td>\n",
              "      <td>3.0</td>\n",
              "      <td>few hours a day</td>\n",
              "      <td>4.0</td>\n",
              "      <td>3.0</td>\n",
              "      <td>4.0</td>\n",
              "      <td>3.0</td>\n",
              "      <td>3.0</td>\n",
              "      <td>2</td>\n",
              "      <td>4.0</td>\n",
              "      <td>20.0</td>\n",
              "      <td>170.0</td>\n",
              "      <td>59.0</td>\n",
              "      <td>1.0</td>\n",
              "      <td>female</td>\n",
              "      <td>right handed</td>\n",
              "      <td>secondary school</td>\n",
              "      <td>no</td>\n",
              "      <td>village</td>\n",
              "      <td>house/bungalow</td>\n",
              "    </tr>\n",
              "  </tbody>\n",
              "</table>\n",
              "<p>5 rows × 150 columns</p>\n",
              "</div>"
            ],
            "text/plain": [
              "   Music  Slow songs or fast songs  ...  Village - town  House - block of flats\n",
              "0    5.0                       3.0  ...         village          block of flats\n",
              "1    4.0                       4.0  ...            city          block of flats\n",
              "2    5.0                       5.0  ...            city          block of flats\n",
              "3    5.0                       3.0  ...            city          house/bungalow\n",
              "4    5.0                       3.0  ...         village          house/bungalow\n",
              "\n",
              "[5 rows x 150 columns]"
            ]
          },
          "metadata": {
            "tags": []
          },
          "execution_count": 67
        }
      ]
    },
    {
      "cell_type": "code",
      "metadata": {
        "id": "Xtb2sgPYQymW"
      },
      "source": [
        "pd.options.display.max_columns = None"
      ],
      "execution_count": 68,
      "outputs": []
    },
    {
      "cell_type": "code",
      "metadata": {
        "id": "8KGtsW0BVfyd",
        "colab": {
          "base_uri": "https://localhost:8080/",
          "height": 435
        },
        "outputId": "22cf7b1e-489e-404f-ac01-69ebbd4a93e0"
      },
      "source": [
        "df.tail()"
      ],
      "execution_count": 69,
      "outputs": [
        {
          "output_type": "execute_result",
          "data": {
            "text/html": [
              "<div>\n",
              "<style scoped>\n",
              "    .dataframe tbody tr th:only-of-type {\n",
              "        vertical-align: middle;\n",
              "    }\n",
              "\n",
              "    .dataframe tbody tr th {\n",
              "        vertical-align: top;\n",
              "    }\n",
              "\n",
              "    .dataframe thead th {\n",
              "        text-align: right;\n",
              "    }\n",
              "</style>\n",
              "<table border=\"1\" class=\"dataframe\">\n",
              "  <thead>\n",
              "    <tr style=\"text-align: right;\">\n",
              "      <th></th>\n",
              "      <th>Music</th>\n",
              "      <th>Slow songs or fast songs</th>\n",
              "      <th>Dance</th>\n",
              "      <th>Folk</th>\n",
              "      <th>Country</th>\n",
              "      <th>Classical music</th>\n",
              "      <th>Musical</th>\n",
              "      <th>Pop</th>\n",
              "      <th>Rock</th>\n",
              "      <th>Metal or Hardrock</th>\n",
              "      <th>Punk</th>\n",
              "      <th>Hiphop, Rap</th>\n",
              "      <th>Reggae, Ska</th>\n",
              "      <th>Swing, Jazz</th>\n",
              "      <th>Rock n roll</th>\n",
              "      <th>Alternative</th>\n",
              "      <th>Latino</th>\n",
              "      <th>Techno, Trance</th>\n",
              "      <th>Opera</th>\n",
              "      <th>Movies</th>\n",
              "      <th>Horror</th>\n",
              "      <th>Thriller</th>\n",
              "      <th>Comedy</th>\n",
              "      <th>Romantic</th>\n",
              "      <th>Sci-fi</th>\n",
              "      <th>War</th>\n",
              "      <th>Fantasy/Fairy tales</th>\n",
              "      <th>Animated</th>\n",
              "      <th>Documentary</th>\n",
              "      <th>Western</th>\n",
              "      <th>Action</th>\n",
              "      <th>History</th>\n",
              "      <th>Psychology</th>\n",
              "      <th>Politics</th>\n",
              "      <th>Mathematics</th>\n",
              "      <th>Physics</th>\n",
              "      <th>Internet</th>\n",
              "      <th>PC</th>\n",
              "      <th>Economy Management</th>\n",
              "      <th>Biology</th>\n",
              "      <th>Chemistry</th>\n",
              "      <th>Reading</th>\n",
              "      <th>Geography</th>\n",
              "      <th>Foreign languages</th>\n",
              "      <th>Medicine</th>\n",
              "      <th>Law</th>\n",
              "      <th>Cars</th>\n",
              "      <th>Art exhibitions</th>\n",
              "      <th>Religion</th>\n",
              "      <th>Countryside, outdoors</th>\n",
              "      <th>Dancing</th>\n",
              "      <th>Musical instruments</th>\n",
              "      <th>Writing</th>\n",
              "      <th>Passive sport</th>\n",
              "      <th>Active sport</th>\n",
              "      <th>Gardening</th>\n",
              "      <th>Celebrities</th>\n",
              "      <th>Shopping</th>\n",
              "      <th>Science and technology</th>\n",
              "      <th>Theatre</th>\n",
              "      <th>Fun with friends</th>\n",
              "      <th>Adrenaline sports</th>\n",
              "      <th>Pets</th>\n",
              "      <th>Flying</th>\n",
              "      <th>Storm</th>\n",
              "      <th>Darkness</th>\n",
              "      <th>Heights</th>\n",
              "      <th>Spiders</th>\n",
              "      <th>Snakes</th>\n",
              "      <th>Rats</th>\n",
              "      <th>Ageing</th>\n",
              "      <th>Dangerous dogs</th>\n",
              "      <th>Fear of public speaking</th>\n",
              "      <th>Smoking</th>\n",
              "      <th>Alcohol</th>\n",
              "      <th>Healthy eating</th>\n",
              "      <th>Daily events</th>\n",
              "      <th>Prioritising workload</th>\n",
              "      <th>Writing notes</th>\n",
              "      <th>Workaholism</th>\n",
              "      <th>Thinking ahead</th>\n",
              "      <th>Final judgement</th>\n",
              "      <th>Reliability</th>\n",
              "      <th>Keeping promises</th>\n",
              "      <th>Loss of interest</th>\n",
              "      <th>Friends versus money</th>\n",
              "      <th>Funniness</th>\n",
              "      <th>Fake</th>\n",
              "      <th>Criminal damage</th>\n",
              "      <th>Decision making</th>\n",
              "      <th>Elections</th>\n",
              "      <th>Self-criticism</th>\n",
              "      <th>Judgment calls</th>\n",
              "      <th>Hypochondria</th>\n",
              "      <th>Empathy</th>\n",
              "      <th>Eating to survive</th>\n",
              "      <th>Giving</th>\n",
              "      <th>Compassion to animals</th>\n",
              "      <th>Borrowed stuff</th>\n",
              "      <th>Loneliness</th>\n",
              "      <th>Cheating in school</th>\n",
              "      <th>Health</th>\n",
              "      <th>Changing the past</th>\n",
              "      <th>God</th>\n",
              "      <th>Dreams</th>\n",
              "      <th>Charity</th>\n",
              "      <th>Number of friends</th>\n",
              "      <th>Punctuality</th>\n",
              "      <th>Lying</th>\n",
              "      <th>Waiting</th>\n",
              "      <th>New environment</th>\n",
              "      <th>Mood swings</th>\n",
              "      <th>Appearence and gestures</th>\n",
              "      <th>Socializing</th>\n",
              "      <th>Achievements</th>\n",
              "      <th>Responding to a serious letter</th>\n",
              "      <th>Children</th>\n",
              "      <th>Assertiveness</th>\n",
              "      <th>Getting angry</th>\n",
              "      <th>Knowing the right people</th>\n",
              "      <th>Public speaking</th>\n",
              "      <th>Unpopularity</th>\n",
              "      <th>Life struggles</th>\n",
              "      <th>Happiness in life</th>\n",
              "      <th>Energy levels</th>\n",
              "      <th>Small - big dogs</th>\n",
              "      <th>Personality</th>\n",
              "      <th>Finding lost valuables</th>\n",
              "      <th>Getting up</th>\n",
              "      <th>Interests or hobbies</th>\n",
              "      <th>Parents' advice</th>\n",
              "      <th>Questionnaires or polls</th>\n",
              "      <th>Internet usage</th>\n",
              "      <th>Finances</th>\n",
              "      <th>Shopping centres</th>\n",
              "      <th>Branded clothing</th>\n",
              "      <th>Entertainment spending</th>\n",
              "      <th>Spending on looks</th>\n",
              "      <th>Spending on gadgets</th>\n",
              "      <th>Spending on healthy eating</th>\n",
              "      <th>Age</th>\n",
              "      <th>Height</th>\n",
              "      <th>Weight</th>\n",
              "      <th>Number of siblings</th>\n",
              "      <th>Gender</th>\n",
              "      <th>Left - right handed</th>\n",
              "      <th>Education</th>\n",
              "      <th>Only child</th>\n",
              "      <th>Village - town</th>\n",
              "      <th>House - block of flats</th>\n",
              "    </tr>\n",
              "  </thead>\n",
              "  <tbody>\n",
              "    <tr>\n",
              "      <th>1005</th>\n",
              "      <td>5.0</td>\n",
              "      <td>2.0</td>\n",
              "      <td>5.0</td>\n",
              "      <td>2.0</td>\n",
              "      <td>2.0</td>\n",
              "      <td>5.0</td>\n",
              "      <td>4.0</td>\n",
              "      <td>4.0</td>\n",
              "      <td>4.0</td>\n",
              "      <td>3.0</td>\n",
              "      <td>2.0</td>\n",
              "      <td>4.0</td>\n",
              "      <td>1.0</td>\n",
              "      <td>5.0</td>\n",
              "      <td>4.0</td>\n",
              "      <td>4.0</td>\n",
              "      <td>3.0</td>\n",
              "      <td>3.0</td>\n",
              "      <td>2.0</td>\n",
              "      <td>5.0</td>\n",
              "      <td>2.0</td>\n",
              "      <td>3.0</td>\n",
              "      <td>4.0</td>\n",
              "      <td>5.0</td>\n",
              "      <td>4.0</td>\n",
              "      <td>2.0</td>\n",
              "      <td>5.0</td>\n",
              "      <td>5.0</td>\n",
              "      <td>2.0</td>\n",
              "      <td>1.0</td>\n",
              "      <td>4.0</td>\n",
              "      <td>4.0</td>\n",
              "      <td>4.0</td>\n",
              "      <td>2.0</td>\n",
              "      <td>1.0</td>\n",
              "      <td>2.0</td>\n",
              "      <td>4.0</td>\n",
              "      <td>3.0</td>\n",
              "      <td>1.0</td>\n",
              "      <td>2.0</td>\n",
              "      <td>1.0</td>\n",
              "      <td>5.0</td>\n",
              "      <td>4.0</td>\n",
              "      <td>5.0</td>\n",
              "      <td>2.0</td>\n",
              "      <td>1.0</td>\n",
              "      <td>1.0</td>\n",
              "      <td>5.0</td>\n",
              "      <td>1.0</td>\n",
              "      <td>2.0</td>\n",
              "      <td>2.0</td>\n",
              "      <td>3.0</td>\n",
              "      <td>4.0</td>\n",
              "      <td>4.0</td>\n",
              "      <td>4.0</td>\n",
              "      <td>2.0</td>\n",
              "      <td>4.0</td>\n",
              "      <td>5.0</td>\n",
              "      <td>3.0</td>\n",
              "      <td>5.0</td>\n",
              "      <td>5.0</td>\n",
              "      <td>4.0</td>\n",
              "      <td>4.0</td>\n",
              "      <td>1.0</td>\n",
              "      <td>2.0</td>\n",
              "      <td>4.0</td>\n",
              "      <td>5.0</td>\n",
              "      <td>2.0</td>\n",
              "      <td>2</td>\n",
              "      <td>2.0</td>\n",
              "      <td>3.0</td>\n",
              "      <td>3.0</td>\n",
              "      <td>4.0</td>\n",
              "      <td>current smoker</td>\n",
              "      <td>drink a lot</td>\n",
              "      <td>3.0</td>\n",
              "      <td>3.0</td>\n",
              "      <td>2.0</td>\n",
              "      <td>1.0</td>\n",
              "      <td>4.0</td>\n",
              "      <td>2.0</td>\n",
              "      <td>3.0</td>\n",
              "      <td>3.0</td>\n",
              "      <td>3.0</td>\n",
              "      <td>4.0</td>\n",
              "      <td>4.0</td>\n",
              "      <td>4.0</td>\n",
              "      <td>3.0</td>\n",
              "      <td>2.0</td>\n",
              "      <td>1.0</td>\n",
              "      <td>5.0</td>\n",
              "      <td>2.0</td>\n",
              "      <td>4.0</td>\n",
              "      <td>1.0</td>\n",
              "      <td>3.0</td>\n",
              "      <td>1</td>\n",
              "      <td>3.0</td>\n",
              "      <td>5.0</td>\n",
              "      <td>3.0</td>\n",
              "      <td>4.0</td>\n",
              "      <td>5.0</td>\n",
              "      <td>4.0</td>\n",
              "      <td>1.0</td>\n",
              "      <td>3.0</td>\n",
              "      <td>3</td>\n",
              "      <td>2.0</td>\n",
              "      <td>3</td>\n",
              "      <td>i am often running late</td>\n",
              "      <td>everytime it suits me</td>\n",
              "      <td>2.0</td>\n",
              "      <td>4.0</td>\n",
              "      <td>3.0</td>\n",
              "      <td>4.0</td>\n",
              "      <td>4.0</td>\n",
              "      <td>3.0</td>\n",
              "      <td>4.0</td>\n",
              "      <td>3.0</td>\n",
              "      <td>2.0</td>\n",
              "      <td>2.0</td>\n",
              "      <td>4.0</td>\n",
              "      <td>5.0</td>\n",
              "      <td>4.0</td>\n",
              "      <td>4.0</td>\n",
              "      <td>4.0</td>\n",
              "      <td>3.0</td>\n",
              "      <td>3.0</td>\n",
              "      <td>3.0</td>\n",
              "      <td>4.0</td>\n",
              "      <td>5.0</td>\n",
              "      <td>4.0</td>\n",
              "      <td>4.0</td>\n",
              "      <td>3.0</td>\n",
              "      <td>few hours a day</td>\n",
              "      <td>3.0</td>\n",
              "      <td>5.0</td>\n",
              "      <td>4.0</td>\n",
              "      <td>3.0</td>\n",
              "      <td>4.0</td>\n",
              "      <td>3</td>\n",
              "      <td>4.0</td>\n",
              "      <td>20.0</td>\n",
              "      <td>164.0</td>\n",
              "      <td>57.0</td>\n",
              "      <td>1.0</td>\n",
              "      <td>female</td>\n",
              "      <td>right handed</td>\n",
              "      <td>secondary school</td>\n",
              "      <td>no</td>\n",
              "      <td>city</td>\n",
              "      <td>house/bungalow</td>\n",
              "    </tr>\n",
              "    <tr>\n",
              "      <th>1006</th>\n",
              "      <td>4.0</td>\n",
              "      <td>4.0</td>\n",
              "      <td>5.0</td>\n",
              "      <td>1.0</td>\n",
              "      <td>3.0</td>\n",
              "      <td>4.0</td>\n",
              "      <td>1.0</td>\n",
              "      <td>4.0</td>\n",
              "      <td>1.0</td>\n",
              "      <td>1.0</td>\n",
              "      <td>4.0</td>\n",
              "      <td>1.0</td>\n",
              "      <td>1.0</td>\n",
              "      <td>2.0</td>\n",
              "      <td>3.0</td>\n",
              "      <td>1.0</td>\n",
              "      <td>3.0</td>\n",
              "      <td>4.0</td>\n",
              "      <td>1.0</td>\n",
              "      <td>5.0</td>\n",
              "      <td>2.0</td>\n",
              "      <td>5.0</td>\n",
              "      <td>5.0</td>\n",
              "      <td>1.0</td>\n",
              "      <td>5.0</td>\n",
              "      <td>5.0</td>\n",
              "      <td>1.0</td>\n",
              "      <td>5.0</td>\n",
              "      <td>5.0</td>\n",
              "      <td>2.0</td>\n",
              "      <td>5.0</td>\n",
              "      <td>4.0</td>\n",
              "      <td>1.0</td>\n",
              "      <td>1.0</td>\n",
              "      <td>5.0</td>\n",
              "      <td>4.0</td>\n",
              "      <td>5.0</td>\n",
              "      <td>5.0</td>\n",
              "      <td>2.0</td>\n",
              "      <td>2.0</td>\n",
              "      <td>1.0</td>\n",
              "      <td>1.0</td>\n",
              "      <td>2.0</td>\n",
              "      <td>2.0</td>\n",
              "      <td>1.0</td>\n",
              "      <td>1.0</td>\n",
              "      <td>5.0</td>\n",
              "      <td>1.0</td>\n",
              "      <td>5.0</td>\n",
              "      <td>5.0</td>\n",
              "      <td>5.0</td>\n",
              "      <td>5.0</td>\n",
              "      <td>NaN</td>\n",
              "      <td>1.0</td>\n",
              "      <td>5.0</td>\n",
              "      <td>5.0</td>\n",
              "      <td>1.0</td>\n",
              "      <td>2.0</td>\n",
              "      <td>5.0</td>\n",
              "      <td>1.0</td>\n",
              "      <td>5.0</td>\n",
              "      <td>1.0</td>\n",
              "      <td>5.0</td>\n",
              "      <td>1.0</td>\n",
              "      <td>1.0</td>\n",
              "      <td>1.0</td>\n",
              "      <td>1.0</td>\n",
              "      <td>1.0</td>\n",
              "      <td>1</td>\n",
              "      <td>1.0</td>\n",
              "      <td>2.0</td>\n",
              "      <td>5.0</td>\n",
              "      <td>5.0</td>\n",
              "      <td>never smoked</td>\n",
              "      <td>social drinker</td>\n",
              "      <td>3.0</td>\n",
              "      <td>1.0</td>\n",
              "      <td>3.0</td>\n",
              "      <td>1.0</td>\n",
              "      <td>5.0</td>\n",
              "      <td>5.0</td>\n",
              "      <td>5.0</td>\n",
              "      <td>5.0</td>\n",
              "      <td>4.0</td>\n",
              "      <td>1.0</td>\n",
              "      <td>2.0</td>\n",
              "      <td>1.0</td>\n",
              "      <td>1.0</td>\n",
              "      <td>3.0</td>\n",
              "      <td>5.0</td>\n",
              "      <td>5.0</td>\n",
              "      <td>5.0</td>\n",
              "      <td>5.0</td>\n",
              "      <td>1.0</td>\n",
              "      <td>2.0</td>\n",
              "      <td>1</td>\n",
              "      <td>4.0</td>\n",
              "      <td>3.0</td>\n",
              "      <td>4.0</td>\n",
              "      <td>1.0</td>\n",
              "      <td>1.0</td>\n",
              "      <td>3.0</td>\n",
              "      <td>4.0</td>\n",
              "      <td>5.0</td>\n",
              "      <td>3</td>\n",
              "      <td>3.0</td>\n",
              "      <td>3</td>\n",
              "      <td>i am often early</td>\n",
              "      <td>sometimes</td>\n",
              "      <td>5.0</td>\n",
              "      <td>5.0</td>\n",
              "      <td>1.0</td>\n",
              "      <td>3.0</td>\n",
              "      <td>3.0</td>\n",
              "      <td>3.0</td>\n",
              "      <td>5.0</td>\n",
              "      <td>5.0</td>\n",
              "      <td>4.0</td>\n",
              "      <td>1.0</td>\n",
              "      <td>2.0</td>\n",
              "      <td>5.0</td>\n",
              "      <td>1.0</td>\n",
              "      <td>1.0</td>\n",
              "      <td>4.0</td>\n",
              "      <td>4.0</td>\n",
              "      <td>3.0</td>\n",
              "      <td>5.0</td>\n",
              "      <td>3.0</td>\n",
              "      <td>1.0</td>\n",
              "      <td>3.0</td>\n",
              "      <td>4.0</td>\n",
              "      <td>3.0</td>\n",
              "      <td>less than an hour a day</td>\n",
              "      <td>3.0</td>\n",
              "      <td>1.0</td>\n",
              "      <td>1.0</td>\n",
              "      <td>1.0</td>\n",
              "      <td>1.0</td>\n",
              "      <td>5</td>\n",
              "      <td>3.0</td>\n",
              "      <td>27.0</td>\n",
              "      <td>183.0</td>\n",
              "      <td>80.0</td>\n",
              "      <td>5.0</td>\n",
              "      <td>male</td>\n",
              "      <td>left handed</td>\n",
              "      <td>masters degree</td>\n",
              "      <td>no</td>\n",
              "      <td>village</td>\n",
              "      <td>house/bungalow</td>\n",
              "    </tr>\n",
              "    <tr>\n",
              "      <th>1007</th>\n",
              "      <td>4.0</td>\n",
              "      <td>3.0</td>\n",
              "      <td>1.0</td>\n",
              "      <td>1.0</td>\n",
              "      <td>2.0</td>\n",
              "      <td>2.0</td>\n",
              "      <td>2.0</td>\n",
              "      <td>3.0</td>\n",
              "      <td>4.0</td>\n",
              "      <td>1.0</td>\n",
              "      <td>2.0</td>\n",
              "      <td>3.0</td>\n",
              "      <td>3.0</td>\n",
              "      <td>2.0</td>\n",
              "      <td>2.0</td>\n",
              "      <td>5.0</td>\n",
              "      <td>1.0</td>\n",
              "      <td>1.0</td>\n",
              "      <td>1.0</td>\n",
              "      <td>4.0</td>\n",
              "      <td>5.0</td>\n",
              "      <td>5.0</td>\n",
              "      <td>3.0</td>\n",
              "      <td>5.0</td>\n",
              "      <td>2.0</td>\n",
              "      <td>1.0</td>\n",
              "      <td>4.0</td>\n",
              "      <td>4.0</td>\n",
              "      <td>3.0</td>\n",
              "      <td>1.0</td>\n",
              "      <td>3.0</td>\n",
              "      <td>2.0</td>\n",
              "      <td>3.0</td>\n",
              "      <td>3.0</td>\n",
              "      <td>3.0</td>\n",
              "      <td>1.0</td>\n",
              "      <td>3.0</td>\n",
              "      <td>4.0</td>\n",
              "      <td>1.0</td>\n",
              "      <td>1.0</td>\n",
              "      <td>1.0</td>\n",
              "      <td>4.0</td>\n",
              "      <td>1.0</td>\n",
              "      <td>5.0</td>\n",
              "      <td>1.0</td>\n",
              "      <td>1.0</td>\n",
              "      <td>1.0</td>\n",
              "      <td>1.0</td>\n",
              "      <td>1.0</td>\n",
              "      <td>1.0</td>\n",
              "      <td>1.0</td>\n",
              "      <td>2.0</td>\n",
              "      <td>1.0</td>\n",
              "      <td>2.0</td>\n",
              "      <td>2.0</td>\n",
              "      <td>1.0</td>\n",
              "      <td>1.0</td>\n",
              "      <td>2.0</td>\n",
              "      <td>3.0</td>\n",
              "      <td>2.0</td>\n",
              "      <td>3.0</td>\n",
              "      <td>1.0</td>\n",
              "      <td>5.0</td>\n",
              "      <td>2.0</td>\n",
              "      <td>1.0</td>\n",
              "      <td>3.0</td>\n",
              "      <td>2.0</td>\n",
              "      <td>2.0</td>\n",
              "      <td>2</td>\n",
              "      <td>1.0</td>\n",
              "      <td>1.0</td>\n",
              "      <td>1.0</td>\n",
              "      <td>5.0</td>\n",
              "      <td>tried smoking</td>\n",
              "      <td>social drinker</td>\n",
              "      <td>2.0</td>\n",
              "      <td>3.0</td>\n",
              "      <td>1.0</td>\n",
              "      <td>1.0</td>\n",
              "      <td>1.0</td>\n",
              "      <td>4.0</td>\n",
              "      <td>1.0</td>\n",
              "      <td>3.0</td>\n",
              "      <td>5.0</td>\n",
              "      <td>1.0</td>\n",
              "      <td>4.0</td>\n",
              "      <td>1.0</td>\n",
              "      <td>1.0</td>\n",
              "      <td>5.0</td>\n",
              "      <td>4.0</td>\n",
              "      <td>5.0</td>\n",
              "      <td>5.0</td>\n",
              "      <td>2.0</td>\n",
              "      <td>1.0</td>\n",
              "      <td>5.0</td>\n",
              "      <td>1</td>\n",
              "      <td>1.0</td>\n",
              "      <td>5.0</td>\n",
              "      <td>4.0</td>\n",
              "      <td>4.0</td>\n",
              "      <td>5.0</td>\n",
              "      <td>3.0</td>\n",
              "      <td>5.0</td>\n",
              "      <td>1.0</td>\n",
              "      <td>3</td>\n",
              "      <td>1.0</td>\n",
              "      <td>1</td>\n",
              "      <td>i am often running late</td>\n",
              "      <td>only to avoid hurting someone</td>\n",
              "      <td>3.0</td>\n",
              "      <td>1.0</td>\n",
              "      <td>2.0</td>\n",
              "      <td>4.0</td>\n",
              "      <td>1.0</td>\n",
              "      <td>3.0</td>\n",
              "      <td>5.0</td>\n",
              "      <td>3.0</td>\n",
              "      <td>1.0</td>\n",
              "      <td>2.0</td>\n",
              "      <td>1.0</td>\n",
              "      <td>5.0</td>\n",
              "      <td>5.0</td>\n",
              "      <td>5.0</td>\n",
              "      <td>3.0</td>\n",
              "      <td>1.0</td>\n",
              "      <td>3.0</td>\n",
              "      <td>2.0</td>\n",
              "      <td>3.0</td>\n",
              "      <td>5.0</td>\n",
              "      <td>1.0</td>\n",
              "      <td>4.0</td>\n",
              "      <td>5.0</td>\n",
              "      <td>most of the day</td>\n",
              "      <td>1.0</td>\n",
              "      <td>2.0</td>\n",
              "      <td>5.0</td>\n",
              "      <td>2.0</td>\n",
              "      <td>2.0</td>\n",
              "      <td>2</td>\n",
              "      <td>5.0</td>\n",
              "      <td>18.0</td>\n",
              "      <td>173.0</td>\n",
              "      <td>75.0</td>\n",
              "      <td>0.0</td>\n",
              "      <td>female</td>\n",
              "      <td>right handed</td>\n",
              "      <td>secondary school</td>\n",
              "      <td>yes</td>\n",
              "      <td>city</td>\n",
              "      <td>block of flats</td>\n",
              "    </tr>\n",
              "    <tr>\n",
              "      <th>1008</th>\n",
              "      <td>5.0</td>\n",
              "      <td>3.0</td>\n",
              "      <td>3.0</td>\n",
              "      <td>3.0</td>\n",
              "      <td>1.0</td>\n",
              "      <td>3.0</td>\n",
              "      <td>1.0</td>\n",
              "      <td>3.0</td>\n",
              "      <td>4.0</td>\n",
              "      <td>1.0</td>\n",
              "      <td>1.0</td>\n",
              "      <td>2.0</td>\n",
              "      <td>2.0</td>\n",
              "      <td>3.0</td>\n",
              "      <td>2.0</td>\n",
              "      <td>5.0</td>\n",
              "      <td>2.0</td>\n",
              "      <td>2.0</td>\n",
              "      <td>1.0</td>\n",
              "      <td>5.0</td>\n",
              "      <td>3.0</td>\n",
              "      <td>4.0</td>\n",
              "      <td>5.0</td>\n",
              "      <td>3.0</td>\n",
              "      <td>1.0</td>\n",
              "      <td>2.0</td>\n",
              "      <td>5.0</td>\n",
              "      <td>5.0</td>\n",
              "      <td>3.0</td>\n",
              "      <td>1.0</td>\n",
              "      <td>4.0</td>\n",
              "      <td>3.0</td>\n",
              "      <td>5.0</td>\n",
              "      <td>3.0</td>\n",
              "      <td>1.0</td>\n",
              "      <td>1.0</td>\n",
              "      <td>5.0</td>\n",
              "      <td>4.0</td>\n",
              "      <td>3.0</td>\n",
              "      <td>3.0</td>\n",
              "      <td>3.0</td>\n",
              "      <td>2.0</td>\n",
              "      <td>5.0</td>\n",
              "      <td>5.0</td>\n",
              "      <td>3.0</td>\n",
              "      <td>1.0</td>\n",
              "      <td>1.0</td>\n",
              "      <td>5.0</td>\n",
              "      <td>1.0</td>\n",
              "      <td>5.0</td>\n",
              "      <td>4.0</td>\n",
              "      <td>1.0</td>\n",
              "      <td>4.0</td>\n",
              "      <td>2.0</td>\n",
              "      <td>4.0</td>\n",
              "      <td>1.0</td>\n",
              "      <td>3.0</td>\n",
              "      <td>5.0</td>\n",
              "      <td>5.0</td>\n",
              "      <td>5.0</td>\n",
              "      <td>5.0</td>\n",
              "      <td>1.0</td>\n",
              "      <td>4.0</td>\n",
              "      <td>2.0</td>\n",
              "      <td>3.0</td>\n",
              "      <td>2.0</td>\n",
              "      <td>5.0</td>\n",
              "      <td>3.0</td>\n",
              "      <td>3</td>\n",
              "      <td>3.0</td>\n",
              "      <td>3.0</td>\n",
              "      <td>5.0</td>\n",
              "      <td>5.0</td>\n",
              "      <td>tried smoking</td>\n",
              "      <td>social drinker</td>\n",
              "      <td>3.0</td>\n",
              "      <td>3.0</td>\n",
              "      <td>1.0</td>\n",
              "      <td>5.0</td>\n",
              "      <td>1.0</td>\n",
              "      <td>3.0</td>\n",
              "      <td>4.0</td>\n",
              "      <td>4.0</td>\n",
              "      <td>4.0</td>\n",
              "      <td>5.0</td>\n",
              "      <td>3.0</td>\n",
              "      <td>3.0</td>\n",
              "      <td>1.0</td>\n",
              "      <td>1.0</td>\n",
              "      <td>5.0</td>\n",
              "      <td>5.0</td>\n",
              "      <td>3.0</td>\n",
              "      <td>5.0</td>\n",
              "      <td>1.0</td>\n",
              "      <td>4.0</td>\n",
              "      <td>3</td>\n",
              "      <td>3.0</td>\n",
              "      <td>4.0</td>\n",
              "      <td>5.0</td>\n",
              "      <td>3.0</td>\n",
              "      <td>5.0</td>\n",
              "      <td>4.0</td>\n",
              "      <td>3.0</td>\n",
              "      <td>2.0</td>\n",
              "      <td>3</td>\n",
              "      <td>3.0</td>\n",
              "      <td>3</td>\n",
              "      <td>i am often running late</td>\n",
              "      <td>sometimes</td>\n",
              "      <td>3.0</td>\n",
              "      <td>4.0</td>\n",
              "      <td>4.0</td>\n",
              "      <td>5.0</td>\n",
              "      <td>3.0</td>\n",
              "      <td>2.0</td>\n",
              "      <td>5.0</td>\n",
              "      <td>3.0</td>\n",
              "      <td>5.0</td>\n",
              "      <td>4.0</td>\n",
              "      <td>4.0</td>\n",
              "      <td>5.0</td>\n",
              "      <td>3.0</td>\n",
              "      <td>5.0</td>\n",
              "      <td>3.0</td>\n",
              "      <td>2.0</td>\n",
              "      <td>2.0</td>\n",
              "      <td>4.0</td>\n",
              "      <td>1.0</td>\n",
              "      <td>5.0</td>\n",
              "      <td>3.0</td>\n",
              "      <td>3.0</td>\n",
              "      <td>3.0</td>\n",
              "      <td>most of the day</td>\n",
              "      <td>3.0</td>\n",
              "      <td>2.0</td>\n",
              "      <td>1.0</td>\n",
              "      <td>5.0</td>\n",
              "      <td>3.0</td>\n",
              "      <td>3</td>\n",
              "      <td>3.0</td>\n",
              "      <td>25.0</td>\n",
              "      <td>173.0</td>\n",
              "      <td>58.0</td>\n",
              "      <td>1.0</td>\n",
              "      <td>female</td>\n",
              "      <td>right handed</td>\n",
              "      <td>college/bachelor degree</td>\n",
              "      <td>no</td>\n",
              "      <td>city</td>\n",
              "      <td>block of flats</td>\n",
              "    </tr>\n",
              "    <tr>\n",
              "      <th>1009</th>\n",
              "      <td>5.0</td>\n",
              "      <td>5.0</td>\n",
              "      <td>4.0</td>\n",
              "      <td>3.0</td>\n",
              "      <td>2.0</td>\n",
              "      <td>3.0</td>\n",
              "      <td>3.0</td>\n",
              "      <td>4.0</td>\n",
              "      <td>1.0</td>\n",
              "      <td>1.0</td>\n",
              "      <td>2.0</td>\n",
              "      <td>3.0</td>\n",
              "      <td>1.0</td>\n",
              "      <td>1.0</td>\n",
              "      <td>3.0</td>\n",
              "      <td>2.0</td>\n",
              "      <td>2.0</td>\n",
              "      <td>3.0</td>\n",
              "      <td>1.0</td>\n",
              "      <td>5.0</td>\n",
              "      <td>2.0</td>\n",
              "      <td>3.0</td>\n",
              "      <td>5.0</td>\n",
              "      <td>2.0</td>\n",
              "      <td>3.0</td>\n",
              "      <td>1.0</td>\n",
              "      <td>4.0</td>\n",
              "      <td>2.0</td>\n",
              "      <td>4.0</td>\n",
              "      <td>1.0</td>\n",
              "      <td>4.0</td>\n",
              "      <td>2.0</td>\n",
              "      <td>3.0</td>\n",
              "      <td>1.0</td>\n",
              "      <td>2.0</td>\n",
              "      <td>2.0</td>\n",
              "      <td>4.0</td>\n",
              "      <td>2.0</td>\n",
              "      <td>1.0</td>\n",
              "      <td>5.0</td>\n",
              "      <td>3.0</td>\n",
              "      <td>1.0</td>\n",
              "      <td>5.0</td>\n",
              "      <td>4.0</td>\n",
              "      <td>5.0</td>\n",
              "      <td>1.0</td>\n",
              "      <td>3.0</td>\n",
              "      <td>1.0</td>\n",
              "      <td>1.0</td>\n",
              "      <td>4.0</td>\n",
              "      <td>2.0</td>\n",
              "      <td>1.0</td>\n",
              "      <td>2.0</td>\n",
              "      <td>5.0</td>\n",
              "      <td>4.0</td>\n",
              "      <td>5.0</td>\n",
              "      <td>3.0</td>\n",
              "      <td>3.0</td>\n",
              "      <td>3.0</td>\n",
              "      <td>1.0</td>\n",
              "      <td>5.0</td>\n",
              "      <td>2.0</td>\n",
              "      <td>5.0</td>\n",
              "      <td>2.0</td>\n",
              "      <td>1.0</td>\n",
              "      <td>2.0</td>\n",
              "      <td>5.0</td>\n",
              "      <td>1.0</td>\n",
              "      <td>4</td>\n",
              "      <td>2.0</td>\n",
              "      <td>2.0</td>\n",
              "      <td>3.0</td>\n",
              "      <td>2.0</td>\n",
              "      <td>tried smoking</td>\n",
              "      <td>social drinker</td>\n",
              "      <td>3.0</td>\n",
              "      <td>3.0</td>\n",
              "      <td>5.0</td>\n",
              "      <td>4.0</td>\n",
              "      <td>5.0</td>\n",
              "      <td>4.0</td>\n",
              "      <td>3.0</td>\n",
              "      <td>5.0</td>\n",
              "      <td>5.0</td>\n",
              "      <td>3.0</td>\n",
              "      <td>4.0</td>\n",
              "      <td>3.0</td>\n",
              "      <td>4.0</td>\n",
              "      <td>2.0</td>\n",
              "      <td>5.0</td>\n",
              "      <td>2.0</td>\n",
              "      <td>3.0</td>\n",
              "      <td>5.0</td>\n",
              "      <td>3.0</td>\n",
              "      <td>4.0</td>\n",
              "      <td>4</td>\n",
              "      <td>1.0</td>\n",
              "      <td>5.0</td>\n",
              "      <td>5.0</td>\n",
              "      <td>3.0</td>\n",
              "      <td>2.0</td>\n",
              "      <td>5.0</td>\n",
              "      <td>1.0</td>\n",
              "      <td>1.0</td>\n",
              "      <td>3</td>\n",
              "      <td>1.0</td>\n",
              "      <td>2</td>\n",
              "      <td>i am often running late</td>\n",
              "      <td>everytime it suits me</td>\n",
              "      <td>1.0</td>\n",
              "      <td>2.0</td>\n",
              "      <td>2.0</td>\n",
              "      <td>4.0</td>\n",
              "      <td>2.0</td>\n",
              "      <td>1.0</td>\n",
              "      <td>1.0</td>\n",
              "      <td>2.0</td>\n",
              "      <td>2.0</td>\n",
              "      <td>1.0</td>\n",
              "      <td>2.0</td>\n",
              "      <td>2.0</td>\n",
              "      <td>4.0</td>\n",
              "      <td>2.0</td>\n",
              "      <td>4.0</td>\n",
              "      <td>2.0</td>\n",
              "      <td>3.0</td>\n",
              "      <td>4.0</td>\n",
              "      <td>1.0</td>\n",
              "      <td>2.0</td>\n",
              "      <td>2.0</td>\n",
              "      <td>3.0</td>\n",
              "      <td>5.0</td>\n",
              "      <td>few hours a day</td>\n",
              "      <td>5.0</td>\n",
              "      <td>4.0</td>\n",
              "      <td>2.0</td>\n",
              "      <td>3.0</td>\n",
              "      <td>1.0</td>\n",
              "      <td>1</td>\n",
              "      <td>5.0</td>\n",
              "      <td>21.0</td>\n",
              "      <td>185.0</td>\n",
              "      <td>72.0</td>\n",
              "      <td>1.0</td>\n",
              "      <td>male</td>\n",
              "      <td>right handed</td>\n",
              "      <td>secondary school</td>\n",
              "      <td>no</td>\n",
              "      <td>village</td>\n",
              "      <td>house/bungalow</td>\n",
              "    </tr>\n",
              "  </tbody>\n",
              "</table>\n",
              "</div>"
            ],
            "text/plain": [
              "      Music  Slow songs or fast songs  Dance  Folk  Country  Classical music  \\\n",
              "1005    5.0                       2.0    5.0   2.0      2.0              5.0   \n",
              "1006    4.0                       4.0    5.0   1.0      3.0              4.0   \n",
              "1007    4.0                       3.0    1.0   1.0      2.0              2.0   \n",
              "1008    5.0                       3.0    3.0   3.0      1.0              3.0   \n",
              "1009    5.0                       5.0    4.0   3.0      2.0              3.0   \n",
              "\n",
              "      Musical  Pop  Rock  Metal or Hardrock  Punk  Hiphop, Rap  Reggae, Ska  \\\n",
              "1005      4.0  4.0   4.0                3.0   2.0          4.0          1.0   \n",
              "1006      1.0  4.0   1.0                1.0   4.0          1.0          1.0   \n",
              "1007      2.0  3.0   4.0                1.0   2.0          3.0          3.0   \n",
              "1008      1.0  3.0   4.0                1.0   1.0          2.0          2.0   \n",
              "1009      3.0  4.0   1.0                1.0   2.0          3.0          1.0   \n",
              "\n",
              "      Swing, Jazz  Rock n roll  Alternative  Latino  Techno, Trance  Opera  \\\n",
              "1005          5.0          4.0          4.0     3.0             3.0    2.0   \n",
              "1006          2.0          3.0          1.0     3.0             4.0    1.0   \n",
              "1007          2.0          2.0          5.0     1.0             1.0    1.0   \n",
              "1008          3.0          2.0          5.0     2.0             2.0    1.0   \n",
              "1009          1.0          3.0          2.0     2.0             3.0    1.0   \n",
              "\n",
              "      Movies  Horror  Thriller  Comedy  Romantic  Sci-fi  War  \\\n",
              "1005     5.0     2.0       3.0     4.0       5.0     4.0  2.0   \n",
              "1006     5.0     2.0       5.0     5.0       1.0     5.0  5.0   \n",
              "1007     4.0     5.0       5.0     3.0       5.0     2.0  1.0   \n",
              "1008     5.0     3.0       4.0     5.0       3.0     1.0  2.0   \n",
              "1009     5.0     2.0       3.0     5.0       2.0     3.0  1.0   \n",
              "\n",
              "      Fantasy/Fairy tales  Animated  Documentary  Western  Action  History  \\\n",
              "1005                  5.0       5.0          2.0      1.0     4.0      4.0   \n",
              "1006                  1.0       5.0          5.0      2.0     5.0      4.0   \n",
              "1007                  4.0       4.0          3.0      1.0     3.0      2.0   \n",
              "1008                  5.0       5.0          3.0      1.0     4.0      3.0   \n",
              "1009                  4.0       2.0          4.0      1.0     4.0      2.0   \n",
              "\n",
              "      Psychology  Politics  Mathematics  Physics  Internet   PC  \\\n",
              "1005         4.0       2.0          1.0      2.0       4.0  3.0   \n",
              "1006         1.0       1.0          5.0      4.0       5.0  5.0   \n",
              "1007         3.0       3.0          3.0      1.0       3.0  4.0   \n",
              "1008         5.0       3.0          1.0      1.0       5.0  4.0   \n",
              "1009         3.0       1.0          2.0      2.0       4.0  2.0   \n",
              "\n",
              "      Economy Management  Biology  Chemistry  Reading  Geography  \\\n",
              "1005                 1.0      2.0        1.0      5.0        4.0   \n",
              "1006                 2.0      2.0        1.0      1.0        2.0   \n",
              "1007                 1.0      1.0        1.0      4.0        1.0   \n",
              "1008                 3.0      3.0        3.0      2.0        5.0   \n",
              "1009                 1.0      5.0        3.0      1.0        5.0   \n",
              "\n",
              "      Foreign languages  Medicine  Law  Cars  Art exhibitions  Religion  \\\n",
              "1005                5.0       2.0  1.0   1.0              5.0       1.0   \n",
              "1006                2.0       1.0  1.0   5.0              1.0       5.0   \n",
              "1007                5.0       1.0  1.0   1.0              1.0       1.0   \n",
              "1008                5.0       3.0  1.0   1.0              5.0       1.0   \n",
              "1009                4.0       5.0  1.0   3.0              1.0       1.0   \n",
              "\n",
              "      Countryside, outdoors  Dancing  Musical instruments  Writing  \\\n",
              "1005                    2.0      2.0                  3.0      4.0   \n",
              "1006                    5.0      5.0                  5.0      NaN   \n",
              "1007                    1.0      1.0                  2.0      1.0   \n",
              "1008                    5.0      4.0                  1.0      4.0   \n",
              "1009                    4.0      2.0                  1.0      2.0   \n",
              "\n",
              "      Passive sport  Active sport  Gardening  Celebrities  Shopping  \\\n",
              "1005            4.0           4.0        2.0          4.0       5.0   \n",
              "1006            1.0           5.0        5.0          1.0       2.0   \n",
              "1007            2.0           2.0        1.0          1.0       2.0   \n",
              "1008            2.0           4.0        1.0          3.0       5.0   \n",
              "1009            5.0           4.0        5.0          3.0       3.0   \n",
              "\n",
              "      Science and technology  Theatre  Fun with friends  Adrenaline sports  \\\n",
              "1005                     3.0      5.0               5.0                4.0   \n",
              "1006                     5.0      1.0               5.0                1.0   \n",
              "1007                     3.0      2.0               3.0                1.0   \n",
              "1008                     5.0      5.0               5.0                1.0   \n",
              "1009                     3.0      1.0               5.0                2.0   \n",
              "\n",
              "      Pets  Flying  Storm  Darkness  Heights  Spiders  Snakes  Rats  Ageing  \\\n",
              "1005   4.0     1.0    2.0       4.0      5.0      2.0       2   2.0     3.0   \n",
              "1006   5.0     1.0    1.0       1.0      1.0      1.0       1   1.0     2.0   \n",
              "1007   5.0     2.0    1.0       3.0      2.0      2.0       2   1.0     1.0   \n",
              "1008   4.0     2.0    3.0       2.0      5.0      3.0       3   3.0     3.0   \n",
              "1009   5.0     2.0    1.0       2.0      5.0      1.0       4   2.0     2.0   \n",
              "\n",
              "      Dangerous dogs  Fear of public speaking         Smoking         Alcohol  \\\n",
              "1005             3.0                      4.0  current smoker     drink a lot   \n",
              "1006             5.0                      5.0    never smoked  social drinker   \n",
              "1007             1.0                      5.0   tried smoking  social drinker   \n",
              "1008             5.0                      5.0   tried smoking  social drinker   \n",
              "1009             3.0                      2.0   tried smoking  social drinker   \n",
              "\n",
              "      Healthy eating  Daily events  Prioritising workload  Writing notes  \\\n",
              "1005             3.0           3.0                    2.0            1.0   \n",
              "1006             3.0           1.0                    3.0            1.0   \n",
              "1007             2.0           3.0                    1.0            1.0   \n",
              "1008             3.0           3.0                    1.0            5.0   \n",
              "1009             3.0           3.0                    5.0            4.0   \n",
              "\n",
              "      Workaholism  Thinking ahead  Final judgement  Reliability  \\\n",
              "1005          4.0             2.0              3.0          3.0   \n",
              "1006          5.0             5.0              5.0          5.0   \n",
              "1007          1.0             4.0              1.0          3.0   \n",
              "1008          1.0             3.0              4.0          4.0   \n",
              "1009          5.0             4.0              3.0          5.0   \n",
              "\n",
              "      Keeping promises  Loss of interest  Friends versus money  Funniness  \\\n",
              "1005               3.0               4.0                   4.0        4.0   \n",
              "1006               4.0               1.0                   2.0        1.0   \n",
              "1007               5.0               1.0                   4.0        1.0   \n",
              "1008               4.0               5.0                   3.0        3.0   \n",
              "1009               5.0               3.0                   4.0        3.0   \n",
              "\n",
              "      Fake  Criminal damage  Decision making  Elections  Self-criticism  \\\n",
              "1005   3.0              2.0              1.0        5.0             2.0   \n",
              "1006   1.0              3.0              5.0        5.0             5.0   \n",
              "1007   1.0              5.0              4.0        5.0             5.0   \n",
              "1008   1.0              1.0              5.0        5.0             3.0   \n",
              "1009   4.0              2.0              5.0        2.0             3.0   \n",
              "\n",
              "      Judgment calls  Hypochondria  Empathy  Eating to survive  Giving  \\\n",
              "1005             4.0           1.0      3.0                  1     3.0   \n",
              "1006             5.0           1.0      2.0                  1     4.0   \n",
              "1007             2.0           1.0      5.0                  1     1.0   \n",
              "1008             5.0           1.0      4.0                  3     3.0   \n",
              "1009             5.0           3.0      4.0                  4     1.0   \n",
              "\n",
              "      Compassion to animals  Borrowed stuff  Loneliness  Cheating in school  \\\n",
              "1005                    5.0             3.0         4.0                 5.0   \n",
              "1006                    3.0             4.0         1.0                 1.0   \n",
              "1007                    5.0             4.0         4.0                 5.0   \n",
              "1008                    4.0             5.0         3.0                 5.0   \n",
              "1009                    5.0             5.0         3.0                 2.0   \n",
              "\n",
              "      Health  Changing the past  God  Dreams  Charity  Number of friends  \\\n",
              "1005     4.0                1.0  3.0       3      2.0                  3   \n",
              "1006     3.0                4.0  5.0       3      3.0                  3   \n",
              "1007     3.0                5.0  1.0       3      1.0                  1   \n",
              "1008     4.0                3.0  2.0       3      3.0                  3   \n",
              "1009     5.0                1.0  1.0       3      1.0                  2   \n",
              "\n",
              "                  Punctuality                          Lying  Waiting  \\\n",
              "1005  i am often running late          everytime it suits me      2.0   \n",
              "1006         i am often early                      sometimes      5.0   \n",
              "1007  i am often running late  only to avoid hurting someone      3.0   \n",
              "1008  i am often running late                      sometimes      3.0   \n",
              "1009  i am often running late          everytime it suits me      1.0   \n",
              "\n",
              "      New environment  Mood swings  Appearence and gestures  Socializing  \\\n",
              "1005              4.0          3.0                      4.0          4.0   \n",
              "1006              5.0          1.0                      3.0          3.0   \n",
              "1007              1.0          2.0                      4.0          1.0   \n",
              "1008              4.0          4.0                      5.0          3.0   \n",
              "1009              2.0          2.0                      4.0          2.0   \n",
              "\n",
              "      Achievements  Responding to a serious letter  Children  Assertiveness  \\\n",
              "1005           3.0                             4.0       3.0            2.0   \n",
              "1006           3.0                             5.0       5.0            4.0   \n",
              "1007           3.0                             5.0       3.0            1.0   \n",
              "1008           2.0                             5.0       3.0            5.0   \n",
              "1009           1.0                             1.0       2.0            2.0   \n",
              "\n",
              "      Getting angry  Knowing the right people  Public speaking  Unpopularity  \\\n",
              "1005            2.0                       4.0              5.0           4.0   \n",
              "1006            1.0                       2.0              5.0           1.0   \n",
              "1007            2.0                       1.0              5.0           5.0   \n",
              "1008            4.0                       4.0              5.0           3.0   \n",
              "1009            1.0                       2.0              2.0           4.0   \n",
              "\n",
              "      Life struggles  Happiness in life  Energy levels  Small - big dogs  \\\n",
              "1005             4.0                4.0            3.0               3.0   \n",
              "1006             1.0                4.0            4.0               3.0   \n",
              "1007             5.0                3.0            1.0               3.0   \n",
              "1008             5.0                3.0            2.0               2.0   \n",
              "1009             2.0                4.0            2.0               3.0   \n",
              "\n",
              "      Personality  Finding lost valuables  Getting up  Interests or hobbies  \\\n",
              "1005          3.0                     4.0         5.0                   4.0   \n",
              "1006          5.0                     3.0         1.0                   3.0   \n",
              "1007          2.0                     3.0         5.0                   1.0   \n",
              "1008          4.0                     1.0         5.0                   3.0   \n",
              "1009          4.0                     1.0         2.0                   2.0   \n",
              "\n",
              "      Parents' advice  Questionnaires or polls           Internet usage  \\\n",
              "1005              4.0                      3.0          few hours a day   \n",
              "1006              4.0                      3.0  less than an hour a day   \n",
              "1007              4.0                      5.0          most of the day   \n",
              "1008              3.0                      3.0          most of the day   \n",
              "1009              3.0                      5.0          few hours a day   \n",
              "\n",
              "      Finances  Shopping centres  Branded clothing  Entertainment spending  \\\n",
              "1005       3.0               5.0               4.0                     3.0   \n",
              "1006       3.0               1.0               1.0                     1.0   \n",
              "1007       1.0               2.0               5.0                     2.0   \n",
              "1008       3.0               2.0               1.0                     5.0   \n",
              "1009       5.0               4.0               2.0                     3.0   \n",
              "\n",
              "      Spending on looks  Spending on gadgets  Spending on healthy eating  \\\n",
              "1005                4.0                    3                         4.0   \n",
              "1006                1.0                    5                         3.0   \n",
              "1007                2.0                    2                         5.0   \n",
              "1008                3.0                    3                         3.0   \n",
              "1009                1.0                    1                         5.0   \n",
              "\n",
              "       Age  Height  Weight  Number of siblings  Gender Left - right handed  \\\n",
              "1005  20.0   164.0    57.0                 1.0  female        right handed   \n",
              "1006  27.0   183.0    80.0                 5.0    male         left handed   \n",
              "1007  18.0   173.0    75.0                 0.0  female        right handed   \n",
              "1008  25.0   173.0    58.0                 1.0  female        right handed   \n",
              "1009  21.0   185.0    72.0                 1.0    male        right handed   \n",
              "\n",
              "                    Education Only child Village - town House - block of flats  \n",
              "1005         secondary school         no           city         house/bungalow  \n",
              "1006           masters degree         no        village         house/bungalow  \n",
              "1007         secondary school        yes           city         block of flats  \n",
              "1008  college/bachelor degree         no           city         block of flats  \n",
              "1009         secondary school         no        village         house/bungalow  "
            ]
          },
          "metadata": {
            "tags": []
          },
          "execution_count": 69
        }
      ]
    },
    {
      "cell_type": "markdown",
      "metadata": {
        "id": "8jqt9Nf-mIXo"
      },
      "source": [
        "Was ist eine Kondition / Condition?"
      ]
    },
    {
      "cell_type": "code",
      "metadata": {
        "id": "ls_0GR_rmHtk",
        "colab": {
          "base_uri": "https://localhost:8080/",
          "height": 452
        },
        "outputId": "06a636da-63a7-413c-f42e-b99bf4e79a5a"
      },
      "source": [
        "df[df['Music'] == 5].head()"
      ],
      "execution_count": 94,
      "outputs": [
        {
          "output_type": "execute_result",
          "data": {
            "text/html": [
              "<div>\n",
              "<style scoped>\n",
              "    .dataframe tbody tr th:only-of-type {\n",
              "        vertical-align: middle;\n",
              "    }\n",
              "\n",
              "    .dataframe tbody tr th {\n",
              "        vertical-align: top;\n",
              "    }\n",
              "\n",
              "    .dataframe thead th {\n",
              "        text-align: right;\n",
              "    }\n",
              "</style>\n",
              "<table border=\"1\" class=\"dataframe\">\n",
              "  <thead>\n",
              "    <tr style=\"text-align: right;\">\n",
              "      <th></th>\n",
              "      <th>Music</th>\n",
              "      <th>Slow songs or fast songs</th>\n",
              "      <th>Dance</th>\n",
              "      <th>Folk</th>\n",
              "      <th>Country</th>\n",
              "      <th>Classical music</th>\n",
              "      <th>Musical</th>\n",
              "      <th>Pop</th>\n",
              "      <th>Rock</th>\n",
              "      <th>Metal or Hardrock</th>\n",
              "      <th>Punk</th>\n",
              "      <th>Hiphop, Rap</th>\n",
              "      <th>Reggae, Ska</th>\n",
              "      <th>Swing, Jazz</th>\n",
              "      <th>Rock n roll</th>\n",
              "      <th>Alternative</th>\n",
              "      <th>Latino</th>\n",
              "      <th>Techno, Trance</th>\n",
              "      <th>Opera</th>\n",
              "      <th>Movies</th>\n",
              "      <th>Horror</th>\n",
              "      <th>Thriller</th>\n",
              "      <th>Comedy</th>\n",
              "      <th>Romantic</th>\n",
              "      <th>Sci-fi</th>\n",
              "      <th>War</th>\n",
              "      <th>Fantasy/Fairy tales</th>\n",
              "      <th>Animated</th>\n",
              "      <th>Documentary</th>\n",
              "      <th>Western</th>\n",
              "      <th>Action</th>\n",
              "      <th>History</th>\n",
              "      <th>Psychology</th>\n",
              "      <th>Politics</th>\n",
              "      <th>Mathematics</th>\n",
              "      <th>Physics</th>\n",
              "      <th>Internet</th>\n",
              "      <th>PC</th>\n",
              "      <th>Economy Management</th>\n",
              "      <th>Biology</th>\n",
              "      <th>Chemistry</th>\n",
              "      <th>Reading</th>\n",
              "      <th>Geography</th>\n",
              "      <th>Foreign languages</th>\n",
              "      <th>Medicine</th>\n",
              "      <th>Law</th>\n",
              "      <th>Cars</th>\n",
              "      <th>Art exhibitions</th>\n",
              "      <th>Religion</th>\n",
              "      <th>Countryside, outdoors</th>\n",
              "      <th>Dancing</th>\n",
              "      <th>Musical instruments</th>\n",
              "      <th>Writing</th>\n",
              "      <th>Passive sport</th>\n",
              "      <th>Active sport</th>\n",
              "      <th>Gardening</th>\n",
              "      <th>Celebrities</th>\n",
              "      <th>Shopping</th>\n",
              "      <th>Science and technology</th>\n",
              "      <th>Theatre</th>\n",
              "      <th>Fun with friends</th>\n",
              "      <th>Adrenaline sports</th>\n",
              "      <th>Pets</th>\n",
              "      <th>Flying</th>\n",
              "      <th>Storm</th>\n",
              "      <th>Darkness</th>\n",
              "      <th>Heights</th>\n",
              "      <th>Spiders</th>\n",
              "      <th>Snakes</th>\n",
              "      <th>Rats</th>\n",
              "      <th>Ageing</th>\n",
              "      <th>Dangerous dogs</th>\n",
              "      <th>Fear of public speaking</th>\n",
              "      <th>Smoking</th>\n",
              "      <th>Alcohol</th>\n",
              "      <th>Healthy eating</th>\n",
              "      <th>Daily events</th>\n",
              "      <th>Prioritising workload</th>\n",
              "      <th>Writing notes</th>\n",
              "      <th>Workaholism</th>\n",
              "      <th>Thinking ahead</th>\n",
              "      <th>Final judgement</th>\n",
              "      <th>Reliability</th>\n",
              "      <th>Keeping promises</th>\n",
              "      <th>Loss of interest</th>\n",
              "      <th>Friends versus money</th>\n",
              "      <th>Funniness</th>\n",
              "      <th>Fake</th>\n",
              "      <th>Criminal damage</th>\n",
              "      <th>Decision making</th>\n",
              "      <th>Elections</th>\n",
              "      <th>Self-criticism</th>\n",
              "      <th>Judgment calls</th>\n",
              "      <th>Hypochondria</th>\n",
              "      <th>Empathy</th>\n",
              "      <th>Eating to survive</th>\n",
              "      <th>Giving</th>\n",
              "      <th>Compassion to animals</th>\n",
              "      <th>Borrowed stuff</th>\n",
              "      <th>Loneliness</th>\n",
              "      <th>Cheating in school</th>\n",
              "      <th>Health</th>\n",
              "      <th>Changing the past</th>\n",
              "      <th>God</th>\n",
              "      <th>Dreams</th>\n",
              "      <th>Charity</th>\n",
              "      <th>Number of friends</th>\n",
              "      <th>Punctuality</th>\n",
              "      <th>Lying</th>\n",
              "      <th>Waiting</th>\n",
              "      <th>New environment</th>\n",
              "      <th>Mood swings</th>\n",
              "      <th>Appearence and gestures</th>\n",
              "      <th>Socializing</th>\n",
              "      <th>Achievements</th>\n",
              "      <th>Responding to a serious letter</th>\n",
              "      <th>Children</th>\n",
              "      <th>Assertiveness</th>\n",
              "      <th>Getting angry</th>\n",
              "      <th>Knowing the right people</th>\n",
              "      <th>Public speaking</th>\n",
              "      <th>Unpopularity</th>\n",
              "      <th>Life struggles</th>\n",
              "      <th>Happiness in life</th>\n",
              "      <th>Energy levels</th>\n",
              "      <th>Small - big dogs</th>\n",
              "      <th>Personality</th>\n",
              "      <th>Finding lost valuables</th>\n",
              "      <th>Getting up</th>\n",
              "      <th>Interests or hobbies</th>\n",
              "      <th>Parents' advice</th>\n",
              "      <th>Questionnaires or polls</th>\n",
              "      <th>Internet usage</th>\n",
              "      <th>Finances</th>\n",
              "      <th>Shopping centres</th>\n",
              "      <th>Branded clothing</th>\n",
              "      <th>Entertainment spending</th>\n",
              "      <th>Spending on looks</th>\n",
              "      <th>Spending on gadgets</th>\n",
              "      <th>Spending on healthy eating</th>\n",
              "      <th>Age</th>\n",
              "      <th>Height</th>\n",
              "      <th>Weight</th>\n",
              "      <th>Number of siblings</th>\n",
              "      <th>Gender</th>\n",
              "      <th>Left - right handed</th>\n",
              "      <th>Education</th>\n",
              "      <th>Only child</th>\n",
              "      <th>Village - town</th>\n",
              "      <th>House - block of flats</th>\n",
              "    </tr>\n",
              "  </thead>\n",
              "  <tbody>\n",
              "    <tr>\n",
              "      <th>0</th>\n",
              "      <td>5.0</td>\n",
              "      <td>3.0</td>\n",
              "      <td>2.0</td>\n",
              "      <td>1.0</td>\n",
              "      <td>2.0</td>\n",
              "      <td>2.0</td>\n",
              "      <td>1.0</td>\n",
              "      <td>5.0</td>\n",
              "      <td>5.0</td>\n",
              "      <td>1.0</td>\n",
              "      <td>1.0</td>\n",
              "      <td>1.0</td>\n",
              "      <td>1.0</td>\n",
              "      <td>1.0</td>\n",
              "      <td>3.0</td>\n",
              "      <td>1.0</td>\n",
              "      <td>1.0</td>\n",
              "      <td>1.0</td>\n",
              "      <td>1.0</td>\n",
              "      <td>5.0</td>\n",
              "      <td>4.0</td>\n",
              "      <td>2.0</td>\n",
              "      <td>5.0</td>\n",
              "      <td>4.0</td>\n",
              "      <td>4.0</td>\n",
              "      <td>1.0</td>\n",
              "      <td>5.0</td>\n",
              "      <td>5.0</td>\n",
              "      <td>3.0</td>\n",
              "      <td>1.0</td>\n",
              "      <td>2.0</td>\n",
              "      <td>1.0</td>\n",
              "      <td>5.0</td>\n",
              "      <td>1.0</td>\n",
              "      <td>3.0</td>\n",
              "      <td>3.0</td>\n",
              "      <td>5.0</td>\n",
              "      <td>3.0</td>\n",
              "      <td>5.0</td>\n",
              "      <td>3.0</td>\n",
              "      <td>3.0</td>\n",
              "      <td>3.0</td>\n",
              "      <td>3.0</td>\n",
              "      <td>5.0</td>\n",
              "      <td>3.0</td>\n",
              "      <td>1.0</td>\n",
              "      <td>1.0</td>\n",
              "      <td>1.0</td>\n",
              "      <td>1.0</td>\n",
              "      <td>5.0</td>\n",
              "      <td>3.0</td>\n",
              "      <td>3.0</td>\n",
              "      <td>2.0</td>\n",
              "      <td>1.0</td>\n",
              "      <td>5.0</td>\n",
              "      <td>5.0</td>\n",
              "      <td>1.0</td>\n",
              "      <td>4.0</td>\n",
              "      <td>4.0</td>\n",
              "      <td>2.0</td>\n",
              "      <td>5.0</td>\n",
              "      <td>4.0</td>\n",
              "      <td>4.0</td>\n",
              "      <td>1.0</td>\n",
              "      <td>1.0</td>\n",
              "      <td>1.0</td>\n",
              "      <td>1.0</td>\n",
              "      <td>1.0</td>\n",
              "      <td>5</td>\n",
              "      <td>3.0</td>\n",
              "      <td>1.0</td>\n",
              "      <td>3.0</td>\n",
              "      <td>2.0</td>\n",
              "      <td>never smoked</td>\n",
              "      <td>drink a lot</td>\n",
              "      <td>4.0</td>\n",
              "      <td>2.0</td>\n",
              "      <td>2.0</td>\n",
              "      <td>5.0</td>\n",
              "      <td>4.0</td>\n",
              "      <td>2.0</td>\n",
              "      <td>5.0</td>\n",
              "      <td>4.0</td>\n",
              "      <td>4.0</td>\n",
              "      <td>1.0</td>\n",
              "      <td>3.0</td>\n",
              "      <td>5.0</td>\n",
              "      <td>1.0</td>\n",
              "      <td>1.0</td>\n",
              "      <td>3.0</td>\n",
              "      <td>4.0</td>\n",
              "      <td>1.0</td>\n",
              "      <td>3.0</td>\n",
              "      <td>1.0</td>\n",
              "      <td>3.0</td>\n",
              "      <td>1</td>\n",
              "      <td>4.0</td>\n",
              "      <td>5.0</td>\n",
              "      <td>4.0</td>\n",
              "      <td>3.0</td>\n",
              "      <td>2.0</td>\n",
              "      <td>1.0</td>\n",
              "      <td>1.0</td>\n",
              "      <td>1.0</td>\n",
              "      <td>4</td>\n",
              "      <td>2.0</td>\n",
              "      <td>3</td>\n",
              "      <td>i am always on time</td>\n",
              "      <td>never</td>\n",
              "      <td>3.0</td>\n",
              "      <td>4.0</td>\n",
              "      <td>3.0</td>\n",
              "      <td>4.0</td>\n",
              "      <td>3.0</td>\n",
              "      <td>4.0</td>\n",
              "      <td>3.0</td>\n",
              "      <td>5.0</td>\n",
              "      <td>1.0</td>\n",
              "      <td>1.0</td>\n",
              "      <td>3.0</td>\n",
              "      <td>5.0</td>\n",
              "      <td>5.0</td>\n",
              "      <td>1.0</td>\n",
              "      <td>4.0</td>\n",
              "      <td>5.0</td>\n",
              "      <td>1.0</td>\n",
              "      <td>4.0</td>\n",
              "      <td>3.0</td>\n",
              "      <td>2.0</td>\n",
              "      <td>3.0</td>\n",
              "      <td>4.0</td>\n",
              "      <td>3.0</td>\n",
              "      <td>few hours a day</td>\n",
              "      <td>3.0</td>\n",
              "      <td>4.0</td>\n",
              "      <td>5.0</td>\n",
              "      <td>3.0</td>\n",
              "      <td>3.0</td>\n",
              "      <td>1</td>\n",
              "      <td>3.0</td>\n",
              "      <td>20.0</td>\n",
              "      <td>163.0</td>\n",
              "      <td>48.0</td>\n",
              "      <td>1.0</td>\n",
              "      <td>female</td>\n",
              "      <td>right handed</td>\n",
              "      <td>college/bachelor degree</td>\n",
              "      <td>no</td>\n",
              "      <td>village</td>\n",
              "      <td>block of flats</td>\n",
              "    </tr>\n",
              "    <tr>\n",
              "      <th>2</th>\n",
              "      <td>5.0</td>\n",
              "      <td>5.0</td>\n",
              "      <td>2.0</td>\n",
              "      <td>2.0</td>\n",
              "      <td>3.0</td>\n",
              "      <td>4.0</td>\n",
              "      <td>5.0</td>\n",
              "      <td>3.0</td>\n",
              "      <td>5.0</td>\n",
              "      <td>3.0</td>\n",
              "      <td>4.0</td>\n",
              "      <td>1.0</td>\n",
              "      <td>4.0</td>\n",
              "      <td>3.0</td>\n",
              "      <td>5.0</td>\n",
              "      <td>5.0</td>\n",
              "      <td>5.0</td>\n",
              "      <td>1.0</td>\n",
              "      <td>3.0</td>\n",
              "      <td>5.0</td>\n",
              "      <td>3.0</td>\n",
              "      <td>4.0</td>\n",
              "      <td>4.0</td>\n",
              "      <td>2.0</td>\n",
              "      <td>4.0</td>\n",
              "      <td>2.0</td>\n",
              "      <td>5.0</td>\n",
              "      <td>5.0</td>\n",
              "      <td>2.0</td>\n",
              "      <td>2.0</td>\n",
              "      <td>1.0</td>\n",
              "      <td>1.0</td>\n",
              "      <td>2.0</td>\n",
              "      <td>1.0</td>\n",
              "      <td>5.0</td>\n",
              "      <td>2.0</td>\n",
              "      <td>4.0</td>\n",
              "      <td>2.0</td>\n",
              "      <td>4.0</td>\n",
              "      <td>1.0</td>\n",
              "      <td>1.0</td>\n",
              "      <td>5.0</td>\n",
              "      <td>2.0</td>\n",
              "      <td>5.0</td>\n",
              "      <td>2.0</td>\n",
              "      <td>3.0</td>\n",
              "      <td>1.0</td>\n",
              "      <td>5.0</td>\n",
              "      <td>5.0</td>\n",
              "      <td>5.0</td>\n",
              "      <td>5.0</td>\n",
              "      <td>5.0</td>\n",
              "      <td>5.0</td>\n",
              "      <td>5.0</td>\n",
              "      <td>2.0</td>\n",
              "      <td>1.0</td>\n",
              "      <td>1.0</td>\n",
              "      <td>4.0</td>\n",
              "      <td>2.0</td>\n",
              "      <td>5.0</td>\n",
              "      <td>5.0</td>\n",
              "      <td>5.0</td>\n",
              "      <td>5.0</td>\n",
              "      <td>1.0</td>\n",
              "      <td>1.0</td>\n",
              "      <td>1.0</td>\n",
              "      <td>1.0</td>\n",
              "      <td>1.0</td>\n",
              "      <td>1</td>\n",
              "      <td>1.0</td>\n",
              "      <td>1.0</td>\n",
              "      <td>1.0</td>\n",
              "      <td>2.0</td>\n",
              "      <td>tried smoking</td>\n",
              "      <td>drink a lot</td>\n",
              "      <td>3.0</td>\n",
              "      <td>1.0</td>\n",
              "      <td>2.0</td>\n",
              "      <td>5.0</td>\n",
              "      <td>3.0</td>\n",
              "      <td>5.0</td>\n",
              "      <td>3.0</td>\n",
              "      <td>4.0</td>\n",
              "      <td>5.0</td>\n",
              "      <td>1.0</td>\n",
              "      <td>5.0</td>\n",
              "      <td>2.0</td>\n",
              "      <td>4.0</td>\n",
              "      <td>1.0</td>\n",
              "      <td>3.0</td>\n",
              "      <td>5.0</td>\n",
              "      <td>4.0</td>\n",
              "      <td>4.0</td>\n",
              "      <td>1.0</td>\n",
              "      <td>5.0</td>\n",
              "      <td>5</td>\n",
              "      <td>5.0</td>\n",
              "      <td>4.0</td>\n",
              "      <td>2.0</td>\n",
              "      <td>5.0</td>\n",
              "      <td>3.0</td>\n",
              "      <td>2.0</td>\n",
              "      <td>5.0</td>\n",
              "      <td>5.0</td>\n",
              "      <td>1</td>\n",
              "      <td>3.0</td>\n",
              "      <td>3</td>\n",
              "      <td>i am often running late</td>\n",
              "      <td>sometimes</td>\n",
              "      <td>2.0</td>\n",
              "      <td>3.0</td>\n",
              "      <td>4.0</td>\n",
              "      <td>3.0</td>\n",
              "      <td>5.0</td>\n",
              "      <td>3.0</td>\n",
              "      <td>4.0</td>\n",
              "      <td>4.0</td>\n",
              "      <td>3.0</td>\n",
              "      <td>4.0</td>\n",
              "      <td>3.0</td>\n",
              "      <td>2.0</td>\n",
              "      <td>4.0</td>\n",
              "      <td>4.0</td>\n",
              "      <td>4.0</td>\n",
              "      <td>4.0</td>\n",
              "      <td>3.0</td>\n",
              "      <td>3.0</td>\n",
              "      <td>3.0</td>\n",
              "      <td>4.0</td>\n",
              "      <td>5.0</td>\n",
              "      <td>3.0</td>\n",
              "      <td>1.0</td>\n",
              "      <td>few hours a day</td>\n",
              "      <td>2.0</td>\n",
              "      <td>4.0</td>\n",
              "      <td>1.0</td>\n",
              "      <td>4.0</td>\n",
              "      <td>3.0</td>\n",
              "      <td>4</td>\n",
              "      <td>2.0</td>\n",
              "      <td>20.0</td>\n",
              "      <td>176.0</td>\n",
              "      <td>67.0</td>\n",
              "      <td>2.0</td>\n",
              "      <td>female</td>\n",
              "      <td>right handed</td>\n",
              "      <td>secondary school</td>\n",
              "      <td>no</td>\n",
              "      <td>city</td>\n",
              "      <td>block of flats</td>\n",
              "    </tr>\n",
              "    <tr>\n",
              "      <th>3</th>\n",
              "      <td>5.0</td>\n",
              "      <td>3.0</td>\n",
              "      <td>2.0</td>\n",
              "      <td>1.0</td>\n",
              "      <td>1.0</td>\n",
              "      <td>1.0</td>\n",
              "      <td>1.0</td>\n",
              "      <td>2.0</td>\n",
              "      <td>2.0</td>\n",
              "      <td>1.0</td>\n",
              "      <td>4.0</td>\n",
              "      <td>2.0</td>\n",
              "      <td>2.0</td>\n",
              "      <td>1.0</td>\n",
              "      <td>2.0</td>\n",
              "      <td>5.0</td>\n",
              "      <td>1.0</td>\n",
              "      <td>2.0</td>\n",
              "      <td>1.0</td>\n",
              "      <td>5.0</td>\n",
              "      <td>4.0</td>\n",
              "      <td>4.0</td>\n",
              "      <td>3.0</td>\n",
              "      <td>3.0</td>\n",
              "      <td>4.0</td>\n",
              "      <td>3.0</td>\n",
              "      <td>1.0</td>\n",
              "      <td>2.0</td>\n",
              "      <td>5.0</td>\n",
              "      <td>1.0</td>\n",
              "      <td>2.0</td>\n",
              "      <td>4.0</td>\n",
              "      <td>4.0</td>\n",
              "      <td>5.0</td>\n",
              "      <td>4.0</td>\n",
              "      <td>1.0</td>\n",
              "      <td>3.0</td>\n",
              "      <td>1.0</td>\n",
              "      <td>2.0</td>\n",
              "      <td>3.0</td>\n",
              "      <td>3.0</td>\n",
              "      <td>5.0</td>\n",
              "      <td>4.0</td>\n",
              "      <td>4.0</td>\n",
              "      <td>2.0</td>\n",
              "      <td>5.0</td>\n",
              "      <td>1.0</td>\n",
              "      <td>5.0</td>\n",
              "      <td>4.0</td>\n",
              "      <td>1.0</td>\n",
              "      <td>1.0</td>\n",
              "      <td>1.0</td>\n",
              "      <td>3.0</td>\n",
              "      <td>1.0</td>\n",
              "      <td>1.0</td>\n",
              "      <td>1.0</td>\n",
              "      <td>2.0</td>\n",
              "      <td>4.0</td>\n",
              "      <td>3.0</td>\n",
              "      <td>1.0</td>\n",
              "      <td>2.0</td>\n",
              "      <td>1.0</td>\n",
              "      <td>1.0</td>\n",
              "      <td>2.0</td>\n",
              "      <td>1.0</td>\n",
              "      <td>1.0</td>\n",
              "      <td>3.0</td>\n",
              "      <td>5.0</td>\n",
              "      <td>5</td>\n",
              "      <td>5.0</td>\n",
              "      <td>4.0</td>\n",
              "      <td>5.0</td>\n",
              "      <td>5.0</td>\n",
              "      <td>former smoker</td>\n",
              "      <td>drink a lot</td>\n",
              "      <td>3.0</td>\n",
              "      <td>4.0</td>\n",
              "      <td>4.0</td>\n",
              "      <td>4.0</td>\n",
              "      <td>5.0</td>\n",
              "      <td>3.0</td>\n",
              "      <td>1.0</td>\n",
              "      <td>3.0</td>\n",
              "      <td>4.0</td>\n",
              "      <td>5.0</td>\n",
              "      <td>2.0</td>\n",
              "      <td>1.0</td>\n",
              "      <td>1.0</td>\n",
              "      <td>5.0</td>\n",
              "      <td>5.0</td>\n",
              "      <td>5.0</td>\n",
              "      <td>5.0</td>\n",
              "      <td>4.0</td>\n",
              "      <td>3.0</td>\n",
              "      <td>3.0</td>\n",
              "      <td>1</td>\n",
              "      <td>1.0</td>\n",
              "      <td>2.0</td>\n",
              "      <td>5.0</td>\n",
              "      <td>5.0</td>\n",
              "      <td>5.0</td>\n",
              "      <td>1.0</td>\n",
              "      <td>5.0</td>\n",
              "      <td>4.0</td>\n",
              "      <td>3</td>\n",
              "      <td>3.0</td>\n",
              "      <td>1</td>\n",
              "      <td>i am often early</td>\n",
              "      <td>only to avoid hurting someone</td>\n",
              "      <td>1.0</td>\n",
              "      <td>1.0</td>\n",
              "      <td>5.0</td>\n",
              "      <td>3.0</td>\n",
              "      <td>1.0</td>\n",
              "      <td>3.0</td>\n",
              "      <td>3.0</td>\n",
              "      <td>2.0</td>\n",
              "      <td>5.0</td>\n",
              "      <td>5.0</td>\n",
              "      <td>4.0</td>\n",
              "      <td>5.0</td>\n",
              "      <td>3.0</td>\n",
              "      <td>3.0</td>\n",
              "      <td>2.0</td>\n",
              "      <td>2.0</td>\n",
              "      <td>1.0</td>\n",
              "      <td>2.0</td>\n",
              "      <td>1.0</td>\n",
              "      <td>1.0</td>\n",
              "      <td>NaN</td>\n",
              "      <td>2.0</td>\n",
              "      <td>4.0</td>\n",
              "      <td>most of the day</td>\n",
              "      <td>2.0</td>\n",
              "      <td>4.0</td>\n",
              "      <td>3.0</td>\n",
              "      <td>3.0</td>\n",
              "      <td>4.0</td>\n",
              "      <td>4</td>\n",
              "      <td>1.0</td>\n",
              "      <td>22.0</td>\n",
              "      <td>172.0</td>\n",
              "      <td>59.0</td>\n",
              "      <td>1.0</td>\n",
              "      <td>female</td>\n",
              "      <td>right handed</td>\n",
              "      <td>college/bachelor degree</td>\n",
              "      <td>yes</td>\n",
              "      <td>city</td>\n",
              "      <td>house/bungalow</td>\n",
              "    </tr>\n",
              "    <tr>\n",
              "      <th>4</th>\n",
              "      <td>5.0</td>\n",
              "      <td>3.0</td>\n",
              "      <td>4.0</td>\n",
              "      <td>3.0</td>\n",
              "      <td>2.0</td>\n",
              "      <td>4.0</td>\n",
              "      <td>3.0</td>\n",
              "      <td>5.0</td>\n",
              "      <td>3.0</td>\n",
              "      <td>1.0</td>\n",
              "      <td>2.0</td>\n",
              "      <td>5.0</td>\n",
              "      <td>3.0</td>\n",
              "      <td>2.0</td>\n",
              "      <td>1.0</td>\n",
              "      <td>2.0</td>\n",
              "      <td>4.0</td>\n",
              "      <td>2.0</td>\n",
              "      <td>2.0</td>\n",
              "      <td>5.0</td>\n",
              "      <td>4.0</td>\n",
              "      <td>4.0</td>\n",
              "      <td>5.0</td>\n",
              "      <td>2.0</td>\n",
              "      <td>3.0</td>\n",
              "      <td>3.0</td>\n",
              "      <td>4.0</td>\n",
              "      <td>4.0</td>\n",
              "      <td>3.0</td>\n",
              "      <td>1.0</td>\n",
              "      <td>4.0</td>\n",
              "      <td>3.0</td>\n",
              "      <td>2.0</td>\n",
              "      <td>3.0</td>\n",
              "      <td>2.0</td>\n",
              "      <td>2.0</td>\n",
              "      <td>2.0</td>\n",
              "      <td>2.0</td>\n",
              "      <td>2.0</td>\n",
              "      <td>3.0</td>\n",
              "      <td>3.0</td>\n",
              "      <td>5.0</td>\n",
              "      <td>2.0</td>\n",
              "      <td>3.0</td>\n",
              "      <td>3.0</td>\n",
              "      <td>2.0</td>\n",
              "      <td>3.0</td>\n",
              "      <td>1.0</td>\n",
              "      <td>4.0</td>\n",
              "      <td>4.0</td>\n",
              "      <td>1.0</td>\n",
              "      <td>3.0</td>\n",
              "      <td>1.0</td>\n",
              "      <td>3.0</td>\n",
              "      <td>1.0</td>\n",
              "      <td>4.0</td>\n",
              "      <td>3.0</td>\n",
              "      <td>3.0</td>\n",
              "      <td>3.0</td>\n",
              "      <td>2.0</td>\n",
              "      <td>4.0</td>\n",
              "      <td>2.0</td>\n",
              "      <td>1.0</td>\n",
              "      <td>1.0</td>\n",
              "      <td>2.0</td>\n",
              "      <td>1.0</td>\n",
              "      <td>1.0</td>\n",
              "      <td>1.0</td>\n",
              "      <td>1</td>\n",
              "      <td>2.0</td>\n",
              "      <td>2.0</td>\n",
              "      <td>4.0</td>\n",
              "      <td>3.0</td>\n",
              "      <td>tried smoking</td>\n",
              "      <td>social drinker</td>\n",
              "      <td>4.0</td>\n",
              "      <td>3.0</td>\n",
              "      <td>1.0</td>\n",
              "      <td>2.0</td>\n",
              "      <td>3.0</td>\n",
              "      <td>5.0</td>\n",
              "      <td>5.0</td>\n",
              "      <td>5.0</td>\n",
              "      <td>4.0</td>\n",
              "      <td>2.0</td>\n",
              "      <td>3.0</td>\n",
              "      <td>3.0</td>\n",
              "      <td>2.0</td>\n",
              "      <td>1.0</td>\n",
              "      <td>3.0</td>\n",
              "      <td>5.0</td>\n",
              "      <td>5.0</td>\n",
              "      <td>5.0</td>\n",
              "      <td>1.0</td>\n",
              "      <td>3.0</td>\n",
              "      <td>1</td>\n",
              "      <td>3.0</td>\n",
              "      <td>3.0</td>\n",
              "      <td>4.0</td>\n",
              "      <td>3.0</td>\n",
              "      <td>5.0</td>\n",
              "      <td>3.0</td>\n",
              "      <td>4.0</td>\n",
              "      <td>5.0</td>\n",
              "      <td>3</td>\n",
              "      <td>3.0</td>\n",
              "      <td>3</td>\n",
              "      <td>i am always on time</td>\n",
              "      <td>everytime it suits me</td>\n",
              "      <td>3.0</td>\n",
              "      <td>4.0</td>\n",
              "      <td>2.0</td>\n",
              "      <td>3.0</td>\n",
              "      <td>3.0</td>\n",
              "      <td>3.0</td>\n",
              "      <td>3.0</td>\n",
              "      <td>5.0</td>\n",
              "      <td>4.0</td>\n",
              "      <td>2.0</td>\n",
              "      <td>3.0</td>\n",
              "      <td>5.0</td>\n",
              "      <td>5.0</td>\n",
              "      <td>2.0</td>\n",
              "      <td>3.0</td>\n",
              "      <td>5.0</td>\n",
              "      <td>3.0</td>\n",
              "      <td>3.0</td>\n",
              "      <td>2.0</td>\n",
              "      <td>4.0</td>\n",
              "      <td>3.0</td>\n",
              "      <td>3.0</td>\n",
              "      <td>3.0</td>\n",
              "      <td>few hours a day</td>\n",
              "      <td>4.0</td>\n",
              "      <td>3.0</td>\n",
              "      <td>4.0</td>\n",
              "      <td>3.0</td>\n",
              "      <td>3.0</td>\n",
              "      <td>2</td>\n",
              "      <td>4.0</td>\n",
              "      <td>20.0</td>\n",
              "      <td>170.0</td>\n",
              "      <td>59.0</td>\n",
              "      <td>1.0</td>\n",
              "      <td>female</td>\n",
              "      <td>right handed</td>\n",
              "      <td>secondary school</td>\n",
              "      <td>no</td>\n",
              "      <td>village</td>\n",
              "      <td>house/bungalow</td>\n",
              "    </tr>\n",
              "    <tr>\n",
              "      <th>5</th>\n",
              "      <td>5.0</td>\n",
              "      <td>3.0</td>\n",
              "      <td>2.0</td>\n",
              "      <td>3.0</td>\n",
              "      <td>2.0</td>\n",
              "      <td>3.0</td>\n",
              "      <td>3.0</td>\n",
              "      <td>2.0</td>\n",
              "      <td>5.0</td>\n",
              "      <td>5.0</td>\n",
              "      <td>3.0</td>\n",
              "      <td>4.0</td>\n",
              "      <td>3.0</td>\n",
              "      <td>4.0</td>\n",
              "      <td>4.0</td>\n",
              "      <td>5.0</td>\n",
              "      <td>3.0</td>\n",
              "      <td>1.0</td>\n",
              "      <td>3.0</td>\n",
              "      <td>5.0</td>\n",
              "      <td>5.0</td>\n",
              "      <td>5.0</td>\n",
              "      <td>5.0</td>\n",
              "      <td>2.0</td>\n",
              "      <td>3.0</td>\n",
              "      <td>3.0</td>\n",
              "      <td>4.0</td>\n",
              "      <td>3.0</td>\n",
              "      <td>3.0</td>\n",
              "      <td>2.0</td>\n",
              "      <td>4.0</td>\n",
              "      <td>5.0</td>\n",
              "      <td>3.0</td>\n",
              "      <td>4.0</td>\n",
              "      <td>2.0</td>\n",
              "      <td>3.0</td>\n",
              "      <td>4.0</td>\n",
              "      <td>4.0</td>\n",
              "      <td>1.0</td>\n",
              "      <td>4.0</td>\n",
              "      <td>4.0</td>\n",
              "      <td>3.0</td>\n",
              "      <td>3.0</td>\n",
              "      <td>4.0</td>\n",
              "      <td>4.0</td>\n",
              "      <td>3.0</td>\n",
              "      <td>5.0</td>\n",
              "      <td>2.0</td>\n",
              "      <td>2.0</td>\n",
              "      <td>5.0</td>\n",
              "      <td>1.0</td>\n",
              "      <td>5.0</td>\n",
              "      <td>1.0</td>\n",
              "      <td>5.0</td>\n",
              "      <td>4.0</td>\n",
              "      <td>2.0</td>\n",
              "      <td>1.0</td>\n",
              "      <td>2.0</td>\n",
              "      <td>3.0</td>\n",
              "      <td>1.0</td>\n",
              "      <td>3.0</td>\n",
              "      <td>3.0</td>\n",
              "      <td>2.0</td>\n",
              "      <td>3.0</td>\n",
              "      <td>2.0</td>\n",
              "      <td>2.0</td>\n",
              "      <td>2.0</td>\n",
              "      <td>1.0</td>\n",
              "      <td>2</td>\n",
              "      <td>2.0</td>\n",
              "      <td>1.0</td>\n",
              "      <td>1.0</td>\n",
              "      <td>3.0</td>\n",
              "      <td>never smoked</td>\n",
              "      <td>never</td>\n",
              "      <td>2.0</td>\n",
              "      <td>2.0</td>\n",
              "      <td>2.0</td>\n",
              "      <td>3.0</td>\n",
              "      <td>3.0</td>\n",
              "      <td>3.0</td>\n",
              "      <td>1.0</td>\n",
              "      <td>3.0</td>\n",
              "      <td>4.0</td>\n",
              "      <td>3.0</td>\n",
              "      <td>2.0</td>\n",
              "      <td>3.0</td>\n",
              "      <td>1.0</td>\n",
              "      <td>4.0</td>\n",
              "      <td>2.0</td>\n",
              "      <td>5.0</td>\n",
              "      <td>4.0</td>\n",
              "      <td>4.0</td>\n",
              "      <td>1.0</td>\n",
              "      <td>4.0</td>\n",
              "      <td>2</td>\n",
              "      <td>3.0</td>\n",
              "      <td>5.0</td>\n",
              "      <td>5.0</td>\n",
              "      <td>2.0</td>\n",
              "      <td>4.0</td>\n",
              "      <td>3.0</td>\n",
              "      <td>3.0</td>\n",
              "      <td>3.0</td>\n",
              "      <td>3</td>\n",
              "      <td>2.0</td>\n",
              "      <td>3</td>\n",
              "      <td>i am often early</td>\n",
              "      <td>only to avoid hurting someone</td>\n",
              "      <td>3.0</td>\n",
              "      <td>4.0</td>\n",
              "      <td>3.0</td>\n",
              "      <td>3.0</td>\n",
              "      <td>4.0</td>\n",
              "      <td>2.0</td>\n",
              "      <td>2.0</td>\n",
              "      <td>3.0</td>\n",
              "      <td>4.0</td>\n",
              "      <td>3.0</td>\n",
              "      <td>4.0</td>\n",
              "      <td>4.0</td>\n",
              "      <td>4.0</td>\n",
              "      <td>3.0</td>\n",
              "      <td>3.0</td>\n",
              "      <td>4.0</td>\n",
              "      <td>4.0</td>\n",
              "      <td>3.0</td>\n",
              "      <td>3.0</td>\n",
              "      <td>3.0</td>\n",
              "      <td>5.0</td>\n",
              "      <td>3.0</td>\n",
              "      <td>4.0</td>\n",
              "      <td>few hours a day</td>\n",
              "      <td>2.0</td>\n",
              "      <td>3.0</td>\n",
              "      <td>3.0</td>\n",
              "      <td>3.0</td>\n",
              "      <td>1.0</td>\n",
              "      <td>4</td>\n",
              "      <td>4.0</td>\n",
              "      <td>20.0</td>\n",
              "      <td>186.0</td>\n",
              "      <td>77.0</td>\n",
              "      <td>1.0</td>\n",
              "      <td>male</td>\n",
              "      <td>right handed</td>\n",
              "      <td>secondary school</td>\n",
              "      <td>no</td>\n",
              "      <td>city</td>\n",
              "      <td>block of flats</td>\n",
              "    </tr>\n",
              "  </tbody>\n",
              "</table>\n",
              "</div>"
            ],
            "text/plain": [
              "   Music  Slow songs or fast songs  Dance  Folk  Country  Classical music  \\\n",
              "0    5.0                       3.0    2.0   1.0      2.0              2.0   \n",
              "2    5.0                       5.0    2.0   2.0      3.0              4.0   \n",
              "3    5.0                       3.0    2.0   1.0      1.0              1.0   \n",
              "4    5.0                       3.0    4.0   3.0      2.0              4.0   \n",
              "5    5.0                       3.0    2.0   3.0      2.0              3.0   \n",
              "\n",
              "   Musical  Pop  Rock  Metal or Hardrock  Punk  Hiphop, Rap  Reggae, Ska  \\\n",
              "0      1.0  5.0   5.0                1.0   1.0          1.0          1.0   \n",
              "2      5.0  3.0   5.0                3.0   4.0          1.0          4.0   \n",
              "3      1.0  2.0   2.0                1.0   4.0          2.0          2.0   \n",
              "4      3.0  5.0   3.0                1.0   2.0          5.0          3.0   \n",
              "5      3.0  2.0   5.0                5.0   3.0          4.0          3.0   \n",
              "\n",
              "   Swing, Jazz  Rock n roll  Alternative  Latino  Techno, Trance  Opera  \\\n",
              "0          1.0          3.0          1.0     1.0             1.0    1.0   \n",
              "2          3.0          5.0          5.0     5.0             1.0    3.0   \n",
              "3          1.0          2.0          5.0     1.0             2.0    1.0   \n",
              "4          2.0          1.0          2.0     4.0             2.0    2.0   \n",
              "5          4.0          4.0          5.0     3.0             1.0    3.0   \n",
              "\n",
              "   Movies  Horror  Thriller  Comedy  Romantic  Sci-fi  War  \\\n",
              "0     5.0     4.0       2.0     5.0       4.0     4.0  1.0   \n",
              "2     5.0     3.0       4.0     4.0       2.0     4.0  2.0   \n",
              "3     5.0     4.0       4.0     3.0       3.0     4.0  3.0   \n",
              "4     5.0     4.0       4.0     5.0       2.0     3.0  3.0   \n",
              "5     5.0     5.0       5.0     5.0       2.0     3.0  3.0   \n",
              "\n",
              "   Fantasy/Fairy tales  Animated  Documentary  Western  Action  History  \\\n",
              "0                  5.0       5.0          3.0      1.0     2.0      1.0   \n",
              "2                  5.0       5.0          2.0      2.0     1.0      1.0   \n",
              "3                  1.0       2.0          5.0      1.0     2.0      4.0   \n",
              "4                  4.0       4.0          3.0      1.0     4.0      3.0   \n",
              "5                  4.0       3.0          3.0      2.0     4.0      5.0   \n",
              "\n",
              "   Psychology  Politics  Mathematics  Physics  Internet   PC  \\\n",
              "0         5.0       1.0          3.0      3.0       5.0  3.0   \n",
              "2         2.0       1.0          5.0      2.0       4.0  2.0   \n",
              "3         4.0       5.0          4.0      1.0       3.0  1.0   \n",
              "4         2.0       3.0          2.0      2.0       2.0  2.0   \n",
              "5         3.0       4.0          2.0      3.0       4.0  4.0   \n",
              "\n",
              "   Economy Management  Biology  Chemistry  Reading  Geography  \\\n",
              "0                 5.0      3.0        3.0      3.0        3.0   \n",
              "2                 4.0      1.0        1.0      5.0        2.0   \n",
              "3                 2.0      3.0        3.0      5.0        4.0   \n",
              "4                 2.0      3.0        3.0      5.0        2.0   \n",
              "5                 1.0      4.0        4.0      3.0        3.0   \n",
              "\n",
              "   Foreign languages  Medicine  Law  Cars  Art exhibitions  Religion  \\\n",
              "0                5.0       3.0  1.0   1.0              1.0       1.0   \n",
              "2                5.0       2.0  3.0   1.0              5.0       5.0   \n",
              "3                4.0       2.0  5.0   1.0              5.0       4.0   \n",
              "4                3.0       3.0  2.0   3.0              1.0       4.0   \n",
              "5                4.0       4.0  3.0   5.0              2.0       2.0   \n",
              "\n",
              "   Countryside, outdoors  Dancing  Musical instruments  Writing  \\\n",
              "0                    5.0      3.0                  3.0      2.0   \n",
              "2                    5.0      5.0                  5.0      5.0   \n",
              "3                    1.0      1.0                  1.0      3.0   \n",
              "4                    4.0      1.0                  3.0      1.0   \n",
              "5                    5.0      1.0                  5.0      1.0   \n",
              "\n",
              "   Passive sport  Active sport  Gardening  Celebrities  Shopping  \\\n",
              "0            1.0           5.0        5.0          1.0       4.0   \n",
              "2            5.0           2.0        1.0          1.0       4.0   \n",
              "3            1.0           1.0        1.0          2.0       4.0   \n",
              "4            3.0           1.0        4.0          3.0       3.0   \n",
              "5            5.0           4.0        2.0          1.0       2.0   \n",
              "\n",
              "   Science and technology  Theatre  Fun with friends  Adrenaline sports  Pets  \\\n",
              "0                     4.0      2.0               5.0                4.0   4.0   \n",
              "2                     2.0      5.0               5.0                5.0   5.0   \n",
              "3                     3.0      1.0               2.0                1.0   1.0   \n",
              "4                     3.0      2.0               4.0                2.0   1.0   \n",
              "5                     3.0      1.0               3.0                3.0   2.0   \n",
              "\n",
              "   Flying  Storm  Darkness  Heights  Spiders  Snakes  Rats  Ageing  \\\n",
              "0     1.0    1.0       1.0      1.0      1.0       5   3.0     1.0   \n",
              "2     1.0    1.0       1.0      1.0      1.0       1   1.0     1.0   \n",
              "3     2.0    1.0       1.0      3.0      5.0       5   5.0     4.0   \n",
              "4     1.0    2.0       1.0      1.0      1.0       1   2.0     2.0   \n",
              "5     3.0    2.0       2.0      2.0      1.0       2   2.0     1.0   \n",
              "\n",
              "   Dangerous dogs  Fear of public speaking        Smoking         Alcohol  \\\n",
              "0             3.0                      2.0   never smoked     drink a lot   \n",
              "2             1.0                      2.0  tried smoking     drink a lot   \n",
              "3             5.0                      5.0  former smoker     drink a lot   \n",
              "4             4.0                      3.0  tried smoking  social drinker   \n",
              "5             1.0                      3.0   never smoked           never   \n",
              "\n",
              "   Healthy eating  Daily events  Prioritising workload  Writing notes  \\\n",
              "0             4.0           2.0                    2.0            5.0   \n",
              "2             3.0           1.0                    2.0            5.0   \n",
              "3             3.0           4.0                    4.0            4.0   \n",
              "4             4.0           3.0                    1.0            2.0   \n",
              "5             2.0           2.0                    2.0            3.0   \n",
              "\n",
              "   Workaholism  Thinking ahead  Final judgement  Reliability  \\\n",
              "0          4.0             2.0              5.0          4.0   \n",
              "2          3.0             5.0              3.0          4.0   \n",
              "3          5.0             3.0              1.0          3.0   \n",
              "4          3.0             5.0              5.0          5.0   \n",
              "5          3.0             3.0              1.0          3.0   \n",
              "\n",
              "   Keeping promises  Loss of interest  Friends versus money  Funniness  Fake  \\\n",
              "0               4.0               1.0                   3.0        5.0   1.0   \n",
              "2               5.0               1.0                   5.0        2.0   4.0   \n",
              "3               4.0               5.0                   2.0        1.0   1.0   \n",
              "4               4.0               2.0                   3.0        3.0   2.0   \n",
              "5               4.0               3.0                   2.0        3.0   1.0   \n",
              "\n",
              "   Criminal damage  Decision making  Elections  Self-criticism  \\\n",
              "0              1.0              3.0        4.0             1.0   \n",
              "2              1.0              3.0        5.0             4.0   \n",
              "3              5.0              5.0        5.0             5.0   \n",
              "4              1.0              3.0        5.0             5.0   \n",
              "5              4.0              2.0        5.0             4.0   \n",
              "\n",
              "   Judgment calls  Hypochondria  Empathy  Eating to survive  Giving  \\\n",
              "0             3.0           1.0      3.0                  1     4.0   \n",
              "2             4.0           1.0      5.0                  5     5.0   \n",
              "3             4.0           3.0      3.0                  1     1.0   \n",
              "4             5.0           1.0      3.0                  1     3.0   \n",
              "5             4.0           1.0      4.0                  2     3.0   \n",
              "\n",
              "   Compassion to animals  Borrowed stuff  Loneliness  Cheating in school  \\\n",
              "0                    5.0             4.0         3.0                 2.0   \n",
              "2                    4.0             2.0         5.0                 3.0   \n",
              "3                    2.0             5.0         5.0                 5.0   \n",
              "4                    3.0             4.0         3.0                 5.0   \n",
              "5                    5.0             5.0         2.0                 4.0   \n",
              "\n",
              "   Health  Changing the past  God  Dreams  Charity  Number of friends  \\\n",
              "0     1.0                1.0  1.0       4      2.0                  3   \n",
              "2     2.0                5.0  5.0       1      3.0                  3   \n",
              "3     1.0                5.0  4.0       3      3.0                  1   \n",
              "4     3.0                4.0  5.0       3      3.0                  3   \n",
              "5     3.0                3.0  3.0       3      2.0                  3   \n",
              "\n",
              "               Punctuality                          Lying  Waiting  \\\n",
              "0      i am always on time                          never      3.0   \n",
              "2  i am often running late                      sometimes      2.0   \n",
              "3         i am often early  only to avoid hurting someone      1.0   \n",
              "4      i am always on time          everytime it suits me      3.0   \n",
              "5         i am often early  only to avoid hurting someone      3.0   \n",
              "\n",
              "   New environment  Mood swings  Appearence and gestures  Socializing  \\\n",
              "0              4.0          3.0                      4.0          3.0   \n",
              "2              3.0          4.0                      3.0          5.0   \n",
              "3              1.0          5.0                      3.0          1.0   \n",
              "4              4.0          2.0                      3.0          3.0   \n",
              "5              4.0          3.0                      3.0          4.0   \n",
              "\n",
              "   Achievements  Responding to a serious letter  Children  Assertiveness  \\\n",
              "0           4.0                             3.0       5.0            1.0   \n",
              "2           3.0                             4.0       4.0            3.0   \n",
              "3           3.0                             3.0       2.0            5.0   \n",
              "4           3.0                             3.0       5.0            4.0   \n",
              "5           2.0                             2.0       3.0            4.0   \n",
              "\n",
              "   Getting angry  Knowing the right people  Public speaking  Unpopularity  \\\n",
              "0            1.0                       3.0              5.0           5.0   \n",
              "2            4.0                       3.0              2.0           4.0   \n",
              "3            5.0                       4.0              5.0           3.0   \n",
              "4            2.0                       3.0              5.0           5.0   \n",
              "5            3.0                       4.0              4.0           4.0   \n",
              "\n",
              "   Life struggles  Happiness in life  Energy levels  Small - big dogs  \\\n",
              "0             1.0                4.0            5.0               1.0   \n",
              "2             4.0                4.0            4.0               3.0   \n",
              "3             3.0                2.0            2.0               1.0   \n",
              "4             2.0                3.0            5.0               3.0   \n",
              "5             3.0                3.0            4.0               4.0   \n",
              "\n",
              "   Personality  Finding lost valuables  Getting up  Interests or hobbies  \\\n",
              "0          4.0                     3.0         2.0                   3.0   \n",
              "2          3.0                     3.0         4.0                   5.0   \n",
              "3          2.0                     1.0         1.0                   NaN   \n",
              "4          3.0                     2.0         4.0                   3.0   \n",
              "5          3.0                     3.0         3.0                   5.0   \n",
              "\n",
              "   Parents' advice  Questionnaires or polls   Internet usage  Finances  \\\n",
              "0              4.0                      3.0  few hours a day       3.0   \n",
              "2              3.0                      1.0  few hours a day       2.0   \n",
              "3              2.0                      4.0  most of the day       2.0   \n",
              "4              3.0                      3.0  few hours a day       4.0   \n",
              "5              3.0                      4.0  few hours a day       2.0   \n",
              "\n",
              "   Shopping centres  Branded clothing  Entertainment spending  \\\n",
              "0               4.0               5.0                     3.0   \n",
              "2               4.0               1.0                     4.0   \n",
              "3               4.0               3.0                     3.0   \n",
              "4               3.0               4.0                     3.0   \n",
              "5               3.0               3.0                     3.0   \n",
              "\n",
              "   Spending on looks  Spending on gadgets  Spending on healthy eating   Age  \\\n",
              "0                3.0                    1                         3.0  20.0   \n",
              "2                3.0                    4                         2.0  20.0   \n",
              "3                4.0                    4                         1.0  22.0   \n",
              "4                3.0                    2                         4.0  20.0   \n",
              "5                1.0                    4                         4.0  20.0   \n",
              "\n",
              "   Height  Weight  Number of siblings  Gender Left - right handed  \\\n",
              "0   163.0    48.0                 1.0  female        right handed   \n",
              "2   176.0    67.0                 2.0  female        right handed   \n",
              "3   172.0    59.0                 1.0  female        right handed   \n",
              "4   170.0    59.0                 1.0  female        right handed   \n",
              "5   186.0    77.0                 1.0    male        right handed   \n",
              "\n",
              "                 Education Only child Village - town House - block of flats  \n",
              "0  college/bachelor degree         no        village         block of flats  \n",
              "2         secondary school         no           city         block of flats  \n",
              "3  college/bachelor degree        yes           city         house/bungalow  \n",
              "4         secondary school         no        village         house/bungalow  \n",
              "5         secondary school         no           city         block of flats  "
            ]
          },
          "metadata": {
            "tags": []
          },
          "execution_count": 94
        }
      ]
    },
    {
      "cell_type": "code",
      "metadata": {
        "scrolled": false,
        "id": "XI0xQhmkVfyo",
        "colab": {
          "base_uri": "https://localhost:8080/"
        },
        "outputId": "fa0b5ea9-0887-4b6d-8183-c005d15110da"
      },
      "source": [
        "columns = df.columns\n",
        "columns"
      ],
      "execution_count": 72,
      "outputs": [
        {
          "output_type": "execute_result",
          "data": {
            "text/plain": [
              "Index(['Music', 'Slow songs or fast songs', 'Dance', 'Folk', 'Country',\n",
              "       'Classical music', 'Musical', 'Pop', 'Rock', 'Metal or Hardrock',\n",
              "       ...\n",
              "       'Age', 'Height', 'Weight', 'Number of siblings', 'Gender',\n",
              "       'Left - right handed', 'Education', 'Only child', 'Village - town',\n",
              "       'House - block of flats'],\n",
              "      dtype='object', length=150)"
            ]
          },
          "metadata": {
            "tags": []
          },
          "execution_count": 72
        }
      ]
    },
    {
      "cell_type": "code",
      "metadata": {
        "scrolled": false,
        "id": "V8_HS91KVfyr"
      },
      "source": [
        "for c in columns:\n",
        "    print(c)"
      ],
      "execution_count": null,
      "outputs": []
    },
    {
      "cell_type": "code",
      "metadata": {
        "id": "0v1rnZv0Vfyx"
      },
      "source": [
        "df['Biology']"
      ],
      "execution_count": null,
      "outputs": []
    },
    {
      "cell_type": "code",
      "metadata": {
        "id": "UwrSynU-Vfyz",
        "colab": {
          "base_uri": "https://localhost:8080/"
        },
        "outputId": "35bce459-e8be-4143-f1f9-6f4d587c09d7"
      },
      "source": [
        "bio = np.array(df['Biology'])\n",
        "bio"
      ],
      "execution_count": 75,
      "outputs": [
        {
          "output_type": "execute_result",
          "data": {
            "text/plain": [
              "array([3., 1., 1., ..., 1., 3., 5.])"
            ]
          },
          "metadata": {
            "tags": []
          },
          "execution_count": 75
        }
      ]
    },
    {
      "cell_type": "code",
      "metadata": {
        "id": "Q0qmxyJmVfy4",
        "colab": {
          "base_uri": "https://localhost:8080/"
        },
        "outputId": "b342d236-c7d6-42cd-9646-492cfc0dfd9a"
      },
      "source": [
        "psych = np.array(df['Psychology'])\n",
        "psych"
      ],
      "execution_count": 76,
      "outputs": [
        {
          "output_type": "execute_result",
          "data": {
            "text/plain": [
              "array([5., 3., 2., ..., 3., 5., 3.])"
            ]
          },
          "metadata": {
            "tags": []
          },
          "execution_count": 76
        }
      ]
    },
    {
      "cell_type": "code",
      "metadata": {
        "id": "R9CXgPyaVfy8",
        "colab": {
          "base_uri": "https://localhost:8080/"
        },
        "outputId": "bbe101e6-62e6-47dc-cac9-56415e514d76"
      },
      "source": [
        "print(np.mean(bio))\n",
        "print(np.mean(psych))"
      ],
      "execution_count": 77,
      "outputs": [
        {
          "output_type": "stream",
          "text": [
            "nan\n",
            "nan\n"
          ],
          "name": "stdout"
        }
      ]
    },
    {
      "cell_type": "code",
      "metadata": {
        "id": "eS5FYe-5VfzA",
        "colab": {
          "base_uri": "https://localhost:8080/"
        },
        "outputId": "758f073d-a506-4c7f-dc6a-4d1075d26b60"
      },
      "source": [
        "np.nanmean(bio)\n",
        "np.nanmean(psych)"
      ],
      "execution_count": 78,
      "outputs": [
        {
          "output_type": "execute_result",
          "data": {
            "text/plain": [
              "3.138308457711443"
            ]
          },
          "metadata": {
            "tags": []
          },
          "execution_count": 78
        }
      ]
    },
    {
      "cell_type": "code",
      "metadata": {
        "id": "W2fp4JrDVfzE",
        "colab": {
          "base_uri": "https://localhost:8080/"
        },
        "outputId": "56be759e-e629-41aa-9428-4e8787b928f0"
      },
      "source": [
        "print(np.nanmean(bio))\n",
        "print(np.nanmean(psych))"
      ],
      "execution_count": 79,
      "outputs": [
        {
          "output_type": "stream",
          "text": [
            "2.6653386454183265\n",
            "3.138308457711443\n"
          ],
          "name": "stdout"
        }
      ]
    },
    {
      "cell_type": "code",
      "metadata": {
        "id": "UNIUu7pQVfzG",
        "colab": {
          "base_uri": "https://localhost:8080/",
          "height": 774
        },
        "outputId": "19a089cd-08ad-45e9-e476-070f7f9d5ae7"
      },
      "source": [
        "sns.distplot(bio, \n",
        "             hist = True, \n",
        "             kde = True,\n",
        "             kde_kws = {'shade': True, 'linewidth': 3}, \n",
        "             label = 'Biologie')"
      ],
      "execution_count": 80,
      "outputs": [
        {
          "output_type": "stream",
          "text": [
            "/usr/local/lib/python3.7/dist-packages/seaborn/distributions.py:2557: FutureWarning: `distplot` is a deprecated function and will be removed in a future version. Please adapt your code to use either `displot` (a figure-level function with similar flexibility) or `histplot` (an axes-level function for histograms).\n",
            "  warnings.warn(msg, FutureWarning)\n"
          ],
          "name": "stderr"
        },
        {
          "output_type": "execute_result",
          "data": {
            "text/plain": [
              "<matplotlib.axes._subplots.AxesSubplot at 0x7f7762730a90>"
            ]
          },
          "metadata": {
            "tags": []
          },
          "execution_count": 80
        },
        {
          "output_type": "display_data",
          "data": {
            "image/png": "[encoded data removed]",
            "text/plain": [
              "<Figure size 864x864 with 1 Axes>"
            ]
          },
          "metadata": {
            "tags": [],
            "needs_background": "light"
          }
        }
      ]
    },
    {
      "cell_type": "code",
      "metadata": {
        "id": "9ULkEZokVfzM",
        "colab": {
          "base_uri": "https://localhost:8080/",
          "height": 756
        },
        "outputId": "6ae31505-0f09-47ea-d698-1c050cf35a92"
      },
      "source": [
        "sns.distplot(bio, \n",
        "             hist = True, \n",
        "             kde = False,\n",
        "             color = 'green',\n",
        "             kde_kws = {'shade': True, 'linewidth': 3}, \n",
        "             label = 'Biologie');"
      ],
      "execution_count": 81,
      "outputs": [
        {
          "output_type": "stream",
          "text": [
            "/usr/local/lib/python3.7/dist-packages/seaborn/distributions.py:2557: FutureWarning: `distplot` is a deprecated function and will be removed in a future version. Please adapt your code to use either `displot` (a figure-level function with similar flexibility) or `histplot` (an axes-level function for histograms).\n",
            "  warnings.warn(msg, FutureWarning)\n"
          ],
          "name": "stderr"
        },
        {
          "output_type": "display_data",
          "data": {
            "image/png": "[encoded data removed]",
            "text/plain": [
              "<Figure size 864x864 with 1 Axes>"
            ]
          },
          "metadata": {
            "tags": [],
            "needs_background": "light"
          }
        }
      ]
    },
    {
      "cell_type": "code",
      "metadata": {
        "id": "CxxtNyrPVfzT",
        "colab": {
          "base_uri": "https://localhost:8080/",
          "height": 756
        },
        "outputId": "8c986459-c387-4472-a722-f3b8c7750f4c"
      },
      "source": [
        "sns.distplot(psych, \n",
        "             hist = True, \n",
        "             kde = False,\n",
        "             color = 'red',\n",
        "             kde_kws = {'shade': True, 'linewidth': 3}, \n",
        "             label = 'Psychologie');"
      ],
      "execution_count": 82,
      "outputs": [
        {
          "output_type": "stream",
          "text": [
            "/usr/local/lib/python3.7/dist-packages/seaborn/distributions.py:2557: FutureWarning: `distplot` is a deprecated function and will be removed in a future version. Please adapt your code to use either `displot` (a figure-level function with similar flexibility) or `histplot` (an axes-level function for histograms).\n",
            "  warnings.warn(msg, FutureWarning)\n"
          ],
          "name": "stderr"
        },
        {
          "output_type": "display_data",
          "data": {
            "image/png": "[encoded data removed]",
            "text/plain": [
              "<Figure size 864x864 with 1 Axes>"
            ]
          },
          "metadata": {
            "tags": [],
            "needs_background": "light"
          }
        }
      ]
    },
    {
      "cell_type": "markdown",
      "metadata": {
        "id": "7pOHbBDOVfzW"
      },
      "source": [
        "***"
      ]
    },
    {
      "cell_type": "code",
      "metadata": {
        "id": "4oAz1xAOVfzX",
        "colab": {
          "base_uri": "https://localhost:8080/",
          "height": 401
        },
        "outputId": "956d7842-e3f0-4c39-b051-13a5d4677058"
      },
      "source": [
        "sns.lmplot(x=\"Height\", \n",
        "            y=\"Weight\", \n",
        "            data=df)"
      ],
      "execution_count": 83,
      "outputs": [
        {
          "output_type": "execute_result",
          "data": {
            "text/plain": [
              "<seaborn.axisgrid.FacetGrid at 0x7f7761c0c750>"
            ]
          },
          "metadata": {
            "tags": []
          },
          "execution_count": 83
        },
        {
          "output_type": "display_data",
          "data": {
            "image/png": "[encoded data removed]",
            "text/plain": [
              "<Figure size 360x360 with 1 Axes>"
            ]
          },
          "metadata": {
            "tags": [],
            "needs_background": "light"
          }
        }
      ]
    },
    {
      "cell_type": "code",
      "metadata": {
        "id": "96VPn6eIlClm",
        "colab": {
          "base_uri": "https://localhost:8080/",
          "height": 761
        },
        "outputId": "560e41da-87de-468a-a20a-21bac3baf403"
      },
      "source": [
        "sns.lmplot(x=\"Height\", \n",
        "            y=\"Weight\", \n",
        "            data=df,\n",
        "           height=10)"
      ],
      "execution_count": 84,
      "outputs": [
        {
          "output_type": "execute_result",
          "data": {
            "text/plain": [
              "<seaborn.axisgrid.FacetGrid at 0x7f7761d1ef10>"
            ]
          },
          "metadata": {
            "tags": []
          },
          "execution_count": 84
        },
        {
          "output_type": "display_data",
          "data": {
            "image/png": "[encoded data removed]",
            "text/plain": [
              "<Figure size 720x720 with 1 Axes>"
            ]
          },
          "metadata": {
            "tags": [],
            "needs_background": "light"
          }
        }
      ]
    },
    {
      "cell_type": "code",
      "metadata": {
        "id": "PccgzM6XVfza",
        "colab": {
          "base_uri": "https://localhost:8080/",
          "height": 743
        },
        "outputId": "0c4938ba-2cb6-4c24-93fd-e951acb02b89"
      },
      "source": [
        "sns.lmplot(x=\"Height\", \n",
        "            y=\"Weight\", \n",
        "            hue=\"Gender\", \n",
        "            data=df,\n",
        "            height=10);"
      ],
      "execution_count": 85,
      "outputs": [
        {
          "output_type": "display_data",
          "data": {
            "image/png": "[encoded data removed]",
            "text/plain": [
              "<Figure size 790.5x720 with 1 Axes>"
            ]
          },
          "metadata": {
            "tags": [],
            "needs_background": "light"
          }
        }
      ]
    },
    {
      "cell_type": "code",
      "metadata": {
        "id": "npnPLquglchk",
        "colab": {
          "base_uri": "https://localhost:8080/",
          "height": 714
        },
        "outputId": "6fcd9016-b03b-46fd-cdaa-7c5cb714cecc"
      },
      "source": [
        "sns.scatterplot(x=\"Height\", \n",
        "            y=\"Weight\", \n",
        "            hue=\"Gender\", \n",
        "            data=df);"
      ],
      "execution_count": 86,
      "outputs": [
        {
          "output_type": "display_data",
          "data": {
            "image/png": "[encoded data removed]",
            "text/plain": [
              "<Figure size 864x864 with 1 Axes>"
            ]
          },
          "metadata": {
            "tags": [],
            "needs_background": "light"
          }
        }
      ]
    },
    {
      "cell_type": "code",
      "metadata": {
        "id": "K3QxcN4Dl6Fa"
      },
      "source": [
        "df_sub = df[(df['Height'] > 120) & (df['Weight'] < 140)]"
      ],
      "execution_count": 87,
      "outputs": []
    },
    {
      "cell_type": "code",
      "metadata": {
        "id": "ZAu2ZsTFnBqw",
        "colab": {
          "base_uri": "https://localhost:8080/",
          "height": 732
        },
        "outputId": "99271c43-ae4c-4082-82f3-71075f8a5ed4"
      },
      "source": [
        "sns.scatterplot(x=\"Height\", \n",
        "            y=\"Weight\", \n",
        "            hue=\"Gender\", \n",
        "            data=df_sub)"
      ],
      "execution_count": 88,
      "outputs": [
        {
          "output_type": "execute_result",
          "data": {
            "text/plain": [
              "<matplotlib.axes._subplots.AxesSubplot at 0x7f7761d7d4d0>"
            ]
          },
          "metadata": {
            "tags": []
          },
          "execution_count": 88
        },
        {
          "output_type": "display_data",
          "data": {
            "image/png": "[encoded data removed]",
            "text/plain": [
              "<Figure size 864x864 with 1 Axes>"
            ]
          },
          "metadata": {
            "tags": [],
            "needs_background": "light"
          }
        }
      ]
    },
    {
      "cell_type": "code",
      "metadata": {
        "id": "mAL3Uf70nLHf",
        "colab": {
          "base_uri": "https://localhost:8080/",
          "height": 743
        },
        "outputId": "26aea98c-ad25-4d1e-e754-ca2700102fd4"
      },
      "source": [
        "sns.lmplot(x=\"Height\", \n",
        "            y=\"Weight\", \n",
        "            hue=\"Gender\", \n",
        "            data=df_sub,\n",
        "            height=10);"
      ],
      "execution_count": 89,
      "outputs": [
        {
          "output_type": "display_data",
          "data": {
            "image/png": "[encoded data removed]",
            "text/plain": [
              "<Figure size 790.5x720 with 1 Axes>"
            ]
          },
          "metadata": {
            "tags": [],
            "needs_background": "light"
          }
        }
      ]
    },
    {
      "cell_type": "code",
      "metadata": {
        "id": "2P1WUkHvVfzd",
        "colab": {
          "base_uri": "https://localhost:8080/",
          "height": 743
        },
        "outputId": "8940efb7-f577-46d2-c74d-925ac31d5536"
      },
      "source": [
        "sns.lmplot(x=\"Height\", \n",
        "            y=\"Weight\", \n",
        "            col=\"Only child\",\n",
        "            hue=\"Gender\", \n",
        "            data=df_sub,\n",
        "            height=10);"
      ],
      "execution_count": 90,
      "outputs": [
        {
          "output_type": "display_data",
          "data": {
            "image/png": "[encoded data removed]",
            "text/plain": [
              "<Figure size 1510.5x720 with 2 Axes>"
            ]
          },
          "metadata": {
            "tags": [],
            "needs_background": "light"
          }
        }
      ]
    },
    {
      "cell_type": "markdown",
      "metadata": {
        "id": "-HfN6qbTVfzj"
      },
      "source": [
        "***"
      ]
    },
    {
      "cell_type": "code",
      "metadata": {
        "id": "9X8qQk6CVfzv",
        "colab": {
          "base_uri": "https://localhost:8080/",
          "height": 761
        },
        "outputId": "f3be9c7c-ef30-4523-bec7-085bddd8d587"
      },
      "source": [
        "sns.catplot(x=\"Gender\", \n",
        "            y=\"Spending on looks\", \n",
        "            kind=\"bar\",\n",
        "            data=df,\n",
        "             height=10)"
      ],
      "execution_count": 91,
      "outputs": [
        {
          "output_type": "execute_result",
          "data": {
            "text/plain": [
              "<seaborn.axisgrid.FacetGrid at 0x7f7762aaf450>"
            ]
          },
          "metadata": {
            "tags": []
          },
          "execution_count": 91
        },
        {
          "output_type": "display_data",
          "data": {
            "image/png": "[encoded data removed]",
            "text/plain": [
              "<Figure size 720x720 with 1 Axes>"
            ]
          },
          "metadata": {
            "tags": [],
            "needs_background": "light"
          }
        }
      ]
    }
  ]
}